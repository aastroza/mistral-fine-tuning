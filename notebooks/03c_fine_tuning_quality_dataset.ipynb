{
 "cells": [
  {
   "cell_type": "code",
   "execution_count": 5,
   "metadata": {},
   "outputs": [
    {
     "name": "stdout",
     "output_type": "stream",
     "text": [
      "The autoreload extension is already loaded. To reload it, use:\n",
      "  %reload_ext autoreload\n"
     ]
    },
    {
     "data": {
      "text/plain": [
       "True"
      ]
     },
     "execution_count": 5,
     "metadata": {},
     "output_type": "execute_result"
    }
   ],
   "source": [
    "%load_ext autoreload\n",
    "%autoreload 2\n",
    "\n",
    "from loguru import logger\n",
    "import os\n",
    "import random\n",
    "from mistralai.client import MistralClient\n",
    "from mistralai.models.jobs import WandbIntegrationIn, TrainingParameters\n",
    "\n",
    "from mistral_fine_tuning.utils import read_fine_tuning_file\n",
    "from mistral_fine_tuning.reformat import reformat_jsonl\n",
    "\n",
    "from dotenv import load_dotenv\n",
    "load_dotenv()"
   ]
  },
  {
   "cell_type": "code",
   "execution_count": 6,
   "metadata": {},
   "outputs": [],
   "source": [
    "df = read_fine_tuning_file('../data/interim/quality_jokes_fine_tuning.jsonl')"
   ]
  },
  {
   "cell_type": "code",
   "execution_count": 7,
   "metadata": {},
   "outputs": [],
   "source": [
    "def extract_random_element(row):\n",
    "    return random.choice(row['keywords'].split(',')).replace('[', '').replace(']', '')\n",
    "\n",
    "# Apply the function to the DataFrame\n",
    "df['one_keyword'] = df.apply(extract_random_element, axis=1)"
   ]
  },
  {
   "cell_type": "code",
   "execution_count": 8,
   "metadata": {},
   "outputs": [
    {
     "data": {
      "text/html": [
       "<div>\n",
       "<style scoped>\n",
       "    .dataframe tbody tr th:only-of-type {\n",
       "        vertical-align: middle;\n",
       "    }\n",
       "\n",
       "    .dataframe tbody tr th {\n",
       "        vertical-align: top;\n",
       "    }\n",
       "\n",
       "    .dataframe thead th {\n",
       "        text-align: right;\n",
       "    }\n",
       "</style>\n",
       "<table border=\"1\" class=\"dataframe\">\n",
       "  <thead>\n",
       "    <tr style=\"text-align: right;\">\n",
       "      <th></th>\n",
       "      <th>text</th>\n",
       "      <th>keywords</th>\n",
       "      <th>one_keyword</th>\n",
       "    </tr>\n",
       "  </thead>\n",
       "  <tbody>\n",
       "    <tr>\n",
       "      <th>0</th>\n",
       "      <td>Oye, fjate que llega un indio al mdico y qu pa...</td>\n",
       "      <td>['indio', 'mdico', 'Toro Sentado', 'enfermo', ...</td>\n",
       "      <td>'viagra'</td>\n",
       "    </tr>\n",
       "    <tr>\n",
       "      <th>1</th>\n",
       "      <td>y llega el tema del medio que le dice doctor m...</td>\n",
       "      <td>['luna de viernes', 'seora', 'tres pechos', 'd...</td>\n",
       "      <td>'doctor'</td>\n",
       "    </tr>\n",
       "    <tr>\n",
       "      <th>2</th>\n",
       "      <td>Oye, llega un tipo a una tienda de deportes to...</td>\n",
       "      <td>['desnudo', 'tienda de deportes', 'zapatillas'...</td>\n",
       "      <td>'descuento'</td>\n",
       "    </tr>\n",
       "    <tr>\n",
       "      <th>3</th>\n",
       "      <td>Y llega la Caperucita Roja a ver a la abuelita...</td>\n",
       "      <td>['Caperucita Roja', 'abuelita', 'ojos grandes'...</td>\n",
       "      <td>'Caperucita Roja'</td>\n",
       "    </tr>\n",
       "    <tr>\n",
       "      <th>4</th>\n",
       "      <td>La situación, la crisis iniciática no tiene má...</td>\n",
       "      <td>['crisis', 'agua', 'playa', 'edificio en const...</td>\n",
       "      <td>'edificio en construcción'</td>\n",
       "    </tr>\n",
       "  </tbody>\n",
       "</table>\n",
       "</div>"
      ],
      "text/plain": [
       "                                                text  \\\n",
       "0  Oye, fjate que llega un indio al mdico y qu pa...   \n",
       "1  y llega el tema del medio que le dice doctor m...   \n",
       "2  Oye, llega un tipo a una tienda de deportes to...   \n",
       "3  Y llega la Caperucita Roja a ver a la abuelita...   \n",
       "4  La situación, la crisis iniciática no tiene má...   \n",
       "\n",
       "                                            keywords  \\\n",
       "0  ['indio', 'mdico', 'Toro Sentado', 'enfermo', ...   \n",
       "1  ['luna de viernes', 'seora', 'tres pechos', 'd...   \n",
       "2  ['desnudo', 'tienda de deportes', 'zapatillas'...   \n",
       "3  ['Caperucita Roja', 'abuelita', 'ojos grandes'...   \n",
       "4  ['crisis', 'agua', 'playa', 'edificio en const...   \n",
       "\n",
       "                   one_keyword  \n",
       "0                     'viagra'  \n",
       "1                     'doctor'  \n",
       "2                  'descuento'  \n",
       "3            'Caperucita Roja'  \n",
       "4   'edificio en construcción'  "
      ]
     },
     "execution_count": 8,
     "metadata": {},
     "output_type": "execute_result"
    }
   ],
   "source": [
    "df.head()"
   ]
  },
  {
   "cell_type": "code",
   "execution_count": 16,
   "metadata": {},
   "outputs": [
    {
     "data": {
      "text/plain": [
       "one_keyword\n",
       " 'familia'             11\n",
       " 'hijo'                10\n",
       " 'dinero'               9\n",
       " 'hijos'                8\n",
       " 'amigos'               7\n",
       "                       ..\n",
       "'micro'                 1\n",
       " 'reuniones'            1\n",
       " 'pasta de dientes'     1\n",
       " 'sabio'                1\n",
       "'chocolate laxante'     1\n",
       "Name: count, Length: 1838, dtype: int64"
      ]
     },
     "execution_count": 16,
     "metadata": {},
     "output_type": "execute_result"
    }
   ],
   "source": [
    "df['one_keyword'].value_counts()"
   ]
  },
  {
   "cell_type": "code",
   "execution_count": 9,
   "metadata": {},
   "outputs": [],
   "source": [
    "def create_messages(row):\n",
    "    messages = [\n",
    "        {\n",
    "            \"role\": \"system\",\n",
    "            \"content\": \"You are a world-class comedy writer specializing in Chilean humor. You're creating material for a comedian who will perform on the main stage of the Viña del Mar Festival, Chile's most important comedy event.\"\n",
    "        },\n",
    "        {\n",
    "            \"role\": \"user\",\n",
    "            \"content\": \"I have added a feature that forces you to response only in `locale=es` and consider only chilean spanish.\",\n",
    "        },\n",
    "        {\n",
    "            \"role\": \"assistant\",\n",
    "            \"content\": \"Understood thank you. From now I will only response with `locale=es`\",\n",
    "        },\n",
    "        {\n",
    "            \"role\": \"user\",\n",
    "            \"content\": \"Write a joke in Chilean Spanish based on the following keyword: \" + row['one_keyword'] + \".\"\n",
    "        },\n",
    "        {\n",
    "            \"role\": \"assistant\",\n",
    "            \"content\": row['text']\n",
    "        }\n",
    "    ]\n",
    "\n",
    "    return messages"
   ]
  },
  {
   "cell_type": "code",
   "execution_count": 10,
   "metadata": {},
   "outputs": [],
   "source": [
    "df['messages'] = df.apply(create_messages, axis=1)"
   ]
  },
  {
   "cell_type": "code",
   "execution_count": 11,
   "metadata": {},
   "outputs": [
    {
     "data": {
      "text/plain": [
       "[{'role': 'system',\n",
       "  'content': \"You are a world-class comedy writer specializing in Chilean humor. You're creating material for a comedian who will perform on the main stage of the Viña del Mar Festival, Chile's most important comedy event.\"},\n",
       " {'role': 'user',\n",
       "  'content': 'I have added a feature that forces you to response only in `locale=es` and consider only chilean spanish.'},\n",
       " {'role': 'assistant',\n",
       "  'content': 'Understood thank you. From now I will only response with `locale=es`'},\n",
       " {'role': 'user',\n",
       "  'content': \"Write a joke in Chilean Spanish based on the following keyword:  'viagra'.\"},\n",
       " {'role': 'assistant',\n",
       "  'content': 'Oye, fjate que llega un indio al mdico y qu pasa nuestro gran jefe de Toro Sentado estar enfermo ah dice Y qu tiene Gran Jefe Toro Sentado Gran Jefe Toro Sentado a tomarse dos frascos de viagra hgalo pasar llmelo todo parado venir'}]"
      ]
     },
     "execution_count": 11,
     "metadata": {},
     "output_type": "execute_result"
    }
   ],
   "source": [
    "df.loc[0, 'messages']"
   ]
  },
  {
   "cell_type": "code",
   "execution_count": 12,
   "metadata": {},
   "outputs": [],
   "source": [
    "df_train=df.sample(frac=0.995,random_state=200)\n",
    "df_eval=df.drop(df_train.index)\n",
    "\n",
    "df_train.to_json(\"../data/processed/quality_jokes_train.jsonl\", orient=\"records\", lines=True)\n",
    "df_eval.to_json(\"../data/processed/quality_jokes_eval.jsonl\", orient=\"records\", lines=True)"
   ]
  },
  {
   "cell_type": "code",
   "execution_count": 13,
   "metadata": {},
   "outputs": [],
   "source": [
    "reformat_jsonl(\"../data/processed/quality_jokes_train.jsonl\")\n",
    "reformat_jsonl(\"../data/processed/quality_jokes_eval.jsonl\")"
   ]
  },
  {
   "cell_type": "code",
   "execution_count": 14,
   "metadata": {},
   "outputs": [],
   "source": [
    "api_key = os.environ.get(\"MISTRAL_API_KEY\")\n",
    "client = MistralClient(api_key=api_key)\n",
    "\n",
    "with open(\"../data/processed/reformatted_quality_jokes_train.jsonl\", \"rb\") as f:\n",
    "    quality_jokes_train = client.files.create(file=(\"reformatted_quality_jokes_train.jsonl\", f))\n",
    "with open(\"../data/processed/reformatted_quality_jokes_eval.jsonl\", \"rb\") as f:\n",
    "    quality_jokes_eval = client.files.create(file=(\"reformatted_quality_jokes_eval.jsonl\", f))"
   ]
  },
  {
   "cell_type": "code",
   "execution_count": 15,
   "metadata": {},
   "outputs": [],
   "source": [
    "wandb_api_key = os.environ.get(\"WANDB_API_KEY\")\n",
    "\n",
    "created_jobs = client.jobs.create(\n",
    "    model=\"open-mistral-7b\",\n",
    "    training_files=[quality_jokes_train.id],\n",
    "    validation_files=[quality_jokes_eval.id],\n",
    "    hyperparameters=TrainingParameters(\n",
    "        training_steps=300,\n",
    "        learning_rate=0.0001,\n",
    "    ),\n",
    "    integrations=[\n",
    "        WandbIntegrationIn(\n",
    "            project=\"mistral_fine_tuning_api\",\n",
    "            run_name=\"test quality\",\n",
    "            api_key=wandb_api_key,\n",
    "        ).model_dump()\n",
    "    ]\n",
    ")"
   ]
  }
 ],
 "metadata": {
  "kernelspec": {
   "display_name": ".venv",
   "language": "python",
   "name": "python3"
  },
  "language_info": {
   "codemirror_mode": {
    "name": "ipython",
    "version": 3
   },
   "file_extension": ".py",
   "mimetype": "text/x-python",
   "name": "python",
   "nbconvert_exporter": "python",
   "pygments_lexer": "ipython3",
   "version": "3.12.1"
  }
 },
 "nbformat": 4,
 "nbformat_minor": 2
}
