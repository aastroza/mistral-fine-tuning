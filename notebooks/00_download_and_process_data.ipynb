{
 "cells": [
  {
   "cell_type": "code",
   "execution_count": 3,
   "metadata": {},
   "outputs": [],
   "source": [
    "import pandas as pd\n",
    "\n",
    "from mistral_fine_tuning.utils import download_file"
   ]
  },
  {
   "cell_type": "code",
   "execution_count": 5,
   "metadata": {},
   "outputs": [
    {
     "name": "stderr",
     "output_type": "stream",
     "text": [
      "\u001b[32m2024-06-13 01:03:27.048\u001b[0m | \u001b[1mINFO    \u001b[0m | \u001b[36mmistral_fine_tuning.utils\u001b[0m:\u001b[36mdownload_file\u001b[0m:\u001b[36m14\u001b[0m - \u001b[1mFile downloaded successfully and saved to ../data/raw/transcripts.json\u001b[0m\n"
     ]
    }
   ],
   "source": [
    "url = \"https://db.datarisas.cl/humor/transcripts.json\"\n",
    "local_filename = \"../data/raw/transcripts.json\"\n",
    "\n",
    "download_file(url, local_filename)"
   ]
  }
 ],
 "metadata": {
  "kernelspec": {
   "display_name": ".venv",
   "language": "python",
   "name": "python3"
  },
  "language_info": {
   "codemirror_mode": {
    "name": "ipython",
    "version": 3
   },
   "file_extension": ".py",
   "mimetype": "text/x-python",
   "name": "python",
   "nbconvert_exporter": "python",
   "pygments_lexer": "ipython3",
   "version": "3.12.1"
  }
 },
 "nbformat": 4,
 "nbformat_minor": 2
}
