{
 "cells": [
  {
   "cell_type": "code",
   "execution_count": 110,
   "metadata": {},
   "outputs": [
    {
     "name": "stdout",
     "output_type": "stream",
     "text": [
      "The autoreload extension is already loaded. To reload it, use:\n",
      "  %reload_ext autoreload\n"
     ]
    }
   ],
   "source": [
    "%load_ext autoreload\n",
    "%autoreload 2\n",
    "\n",
    "import asyncio\n",
    "import os\n",
    "import json\n",
    "import pandas as pd\n",
    "from loguru import logger\n",
    "from glob import glob\n",
    "\n",
    "from mistral_fine_tuning.levels import KnowledgeGraph, extract_graph\n",
    "from mistral_fine_tuning.keywords import Topics, extract_keywords"
   ]
  },
  {
   "cell_type": "code",
   "execution_count": 35,
   "metadata": {},
   "outputs": [],
   "source": [
    "folder_path = '../data/interim/jokes'\n",
    "jsonl_files = glob(os.path.join(folder_path, '*.jsonl'))\n",
    "all_corrected_transcripts = []\n",
    "\n",
    "for file in jsonl_files:\n",
    "    with open(file, 'r', encoding='latin-1') as f:\n",
    "        for line in f:\n",
    "            data = json.loads(line)\n",
    "            all_corrected_transcripts.append(data['corrected_transcript'])\n",
    "\n",
    "df = pd.DataFrame(all_corrected_transcripts, columns=['text'])\n",
    "df = df.drop_duplicates()"
   ]
  },
  {
   "cell_type": "markdown",
   "metadata": {},
   "source": [
    "## Word Count"
   ]
  },
  {
   "cell_type": "code",
   "execution_count": 36,
   "metadata": {},
   "outputs": [],
   "source": [
    "# remove duplicates\n",
    "df = df.drop_duplicates()\n",
    "\n",
    "# add word count column\n",
    "df['word_count'] = df['text'].apply(lambda x: len(x.split()))\n"
   ]
  },
  {
   "cell_type": "code",
   "execution_count": 37,
   "metadata": {},
   "outputs": [
    {
     "data": {
      "text/html": [
       "<div>\n",
       "<style scoped>\n",
       "    .dataframe tbody tr th:only-of-type {\n",
       "        vertical-align: middle;\n",
       "    }\n",
       "\n",
       "    .dataframe tbody tr th {\n",
       "        vertical-align: top;\n",
       "    }\n",
       "\n",
       "    .dataframe thead th {\n",
       "        text-align: right;\n",
       "    }\n",
       "</style>\n",
       "<table border=\"1\" class=\"dataframe\">\n",
       "  <thead>\n",
       "    <tr style=\"text-align: right;\">\n",
       "      <th></th>\n",
       "      <th>word_count</th>\n",
       "    </tr>\n",
       "  </thead>\n",
       "  <tbody>\n",
       "    <tr>\n",
       "      <th>count</th>\n",
       "      <td>10902.000000</td>\n",
       "    </tr>\n",
       "    <tr>\n",
       "      <th>mean</th>\n",
       "      <td>35.557879</td>\n",
       "    </tr>\n",
       "    <tr>\n",
       "      <th>std</th>\n",
       "      <td>42.521441</td>\n",
       "    </tr>\n",
       "    <tr>\n",
       "      <th>min</th>\n",
       "      <td>1.000000</td>\n",
       "    </tr>\n",
       "    <tr>\n",
       "      <th>25%</th>\n",
       "      <td>11.000000</td>\n",
       "    </tr>\n",
       "    <tr>\n",
       "      <th>50%</th>\n",
       "      <td>25.000000</td>\n",
       "    </tr>\n",
       "    <tr>\n",
       "      <th>75%</th>\n",
       "      <td>50.000000</td>\n",
       "    </tr>\n",
       "    <tr>\n",
       "      <th>max</th>\n",
       "      <td>585.000000</td>\n",
       "    </tr>\n",
       "  </tbody>\n",
       "</table>\n",
       "</div>"
      ],
      "text/plain": [
       "         word_count\n",
       "count  10902.000000\n",
       "mean      35.557879\n",
       "std       42.521441\n",
       "min        1.000000\n",
       "25%       11.000000\n",
       "50%       25.000000\n",
       "75%       50.000000\n",
       "max      585.000000"
      ]
     },
     "execution_count": 37,
     "metadata": {},
     "output_type": "execute_result"
    }
   ],
   "source": [
    "df.describe()"
   ]
  },
  {
   "cell_type": "code",
   "execution_count": 38,
   "metadata": {},
   "outputs": [
    {
     "data": {
      "text/plain": [
       "<Axes: >"
      ]
     },
     "execution_count": 38,
     "metadata": {},
     "output_type": "execute_result"
    },
    {
     "data": {
      "image/png": "[encoded data removed]",
      "text/plain": [
       "<Figure size 1000x600 with 1 Axes>"
      ]
     },
     "metadata": {},
     "output_type": "display_data"
    }
   ],
   "source": [
    "# histogram of word count\n",
    "df['word_count'].hist(bins=100, figsize=(10, 6))"
   ]
  },
  {
   "cell_type": "code",
   "execution_count": 40,
   "metadata": {},
   "outputs": [
    {
     "data": {
      "text/plain": [
       "(7806, 2)"
      ]
     },
     "execution_count": 40,
     "metadata": {},
     "output_type": "execute_result"
    }
   ],
   "source": [
    "# remove the top 5% and then filter word_count > 10 and \n",
    "df = df[df['word_count'] < df['word_count'].quantile(0.95)]\n",
    "df = df[df['word_count'] > 10]\n",
    "df.shape"
   ]
  },
  {
   "cell_type": "code",
   "execution_count": 41,
   "metadata": {},
   "outputs": [
    {
     "data": {
      "text/html": [
       "<div>\n",
       "<style scoped>\n",
       "    .dataframe tbody tr th:only-of-type {\n",
       "        vertical-align: middle;\n",
       "    }\n",
       "\n",
       "    .dataframe tbody tr th {\n",
       "        vertical-align: top;\n",
       "    }\n",
       "\n",
       "    .dataframe thead th {\n",
       "        text-align: right;\n",
       "    }\n",
       "</style>\n",
       "<table border=\"1\" class=\"dataframe\">\n",
       "  <thead>\n",
       "    <tr style=\"text-align: right;\">\n",
       "      <th></th>\n",
       "      <th>word_count</th>\n",
       "    </tr>\n",
       "  </thead>\n",
       "  <tbody>\n",
       "    <tr>\n",
       "      <th>count</th>\n",
       "      <td>7806.000000</td>\n",
       "    </tr>\n",
       "    <tr>\n",
       "      <th>mean</th>\n",
       "      <td>36.255573</td>\n",
       "    </tr>\n",
       "    <tr>\n",
       "      <th>std</th>\n",
       "      <td>18.960153</td>\n",
       "    </tr>\n",
       "    <tr>\n",
       "      <th>min</th>\n",
       "      <td>11.000000</td>\n",
       "    </tr>\n",
       "    <tr>\n",
       "      <th>25%</th>\n",
       "      <td>19.000000</td>\n",
       "    </tr>\n",
       "    <tr>\n",
       "      <th>50%</th>\n",
       "      <td>33.000000</td>\n",
       "    </tr>\n",
       "    <tr>\n",
       "      <th>75%</th>\n",
       "      <td>53.000000</td>\n",
       "    </tr>\n",
       "    <tr>\n",
       "      <th>max</th>\n",
       "      <td>85.000000</td>\n",
       "    </tr>\n",
       "  </tbody>\n",
       "</table>\n",
       "</div>"
      ],
      "text/plain": [
       "        word_count\n",
       "count  7806.000000\n",
       "mean     36.255573\n",
       "std      18.960153\n",
       "min      11.000000\n",
       "25%      19.000000\n",
       "50%      33.000000\n",
       "75%      53.000000\n",
       "max      85.000000"
      ]
     },
     "execution_count": 41,
     "metadata": {},
     "output_type": "execute_result"
    }
   ],
   "source": [
    "df.describe()"
   ]
  },
  {
   "cell_type": "code",
   "execution_count": 42,
   "metadata": {},
   "outputs": [
    {
     "data": {
      "text/plain": [
       "<Axes: >"
      ]
     },
     "execution_count": 42,
     "metadata": {},
     "output_type": "execute_result"
    },
    {
     "data": {
      "image/png": "[encoded data removed]",
      "text/plain": [
       "<Figure size 1000x600 with 1 Axes>"
      ]
     },
     "metadata": {},
     "output_type": "display_data"
    }
   ],
   "source": [
    "# histogram of word count\n",
    "df['word_count'].hist(bins=25, figsize=(10, 6))"
   ]
  },
  {
   "cell_type": "markdown",
   "metadata": {},
   "source": [
    "## Levels of Intentionality"
   ]
  },
  {
   "cell_type": "code",
   "execution_count": 75,
   "metadata": {},
   "outputs": [],
   "source": [
    "async def levels():\n",
    "    dataset = df['text'].tolist()\n",
    "    sem = asyncio.Semaphore(3)\n",
    "\n",
    "    async def rate_limited_extract_graph(text: str) -> KnowledgeGraph:\n",
    "        async with sem:\n",
    "            try:\n",
    "                return await extract_graph(text, \"es\")\n",
    "            except Exception as e:\n",
    "                logger.error(f\"Error processing text: {text}\")\n",
    "                logger.error(e)\n",
    "                return None\n",
    "    \n",
    "    def safe_model_dump(graph):\n",
    "        try:\n",
    "            return graph.model_dump_json()\n",
    "        except Exception as e:\n",
    "            logger.error(f\"Error converting graph: {e}\")\n",
    "            return None\n",
    "\n",
    "    tasks_get_graphs = [rate_limited_extract_graph(text) for text in dataset]\n",
    "    resp = await asyncio.gather(*tasks_get_graphs)\n",
    "    df['graph'] = [safe_model_dump(graph) for graph in resp]\n",
    "\n",
    "    df.to_json('../data/interim/jokes_with_graphs.jsonl', orient='records', lines=True)    "
   ]
  },
  {
   "cell_type": "code",
   "execution_count": 76,
   "metadata": {},
   "outputs": [
    {
     "name": "stderr",
     "output_type": "stream",
     "text": [
      "\u001b[32m2024-06-26 08:50:47.216\u001b[0m | \u001b[31m\u001b[1mERROR   \u001b[0m | \u001b[36m__main__\u001b[0m:\u001b[36mrate_limited_extract_graph\u001b[0m:\u001b[36m10\u001b[0m - \u001b[31m\u001b[1mError processing text: A veces tÃº nunca me dices nada con amor. Nunca me dices nada con amor. Nunca me dices nada con amor, amor. Fa, mira llega el cabro chico. Llega el cabro chico. Llega el cabro chico. Dice: Â¿Papi, por quÃ© te casaste con mi mamÃ¡? Por tu culpa, ese mismo gallo llega curado a la casa. Curado, curado. Antes de entrar en la casa voy a hacer una pisadita, una pisadita en el arbolito, y detrÃ¡s del Ã¡rbol aparece un gato.\u001b[0m\n",
      "\u001b[32m2024-06-26 08:50:47.217\u001b[0m | \u001b[31m\u001b[1mERROR   \u001b[0m | \u001b[36m__main__\u001b[0m:\u001b[36mrate_limited_extract_graph\u001b[0m:\u001b[36m11\u001b[0m - \u001b[31m\u001b[1mThe output is incomplete due to a max_tokens length limit.\u001b[0m\n",
      "\u001b[32m2024-06-26 09:12:27.979\u001b[0m | \u001b[31m\u001b[1mERROR   \u001b[0m | \u001b[36m__main__\u001b[0m:\u001b[36mrate_limited_extract_graph\u001b[0m:\u001b[36m10\u001b[0m - \u001b[31m\u001b[1mError processing text: EstÃ¡n pidiendo el chiste de la automotora... Va una seÃ±ora que era gordita y se acerca a un auto. Se agacha para revisar el motor y se le sale un pego. El vendedor estÃ¡ con la baterÃ­a atrÃ¡s y le pregunta: Â¿CuÃ¡nto vale este auto?\u001b[0m\n",
      "\u001b[32m2024-06-26 09:12:27.980\u001b[0m | \u001b[31m\u001b[1mERROR   \u001b[0m | \u001b[36m__main__\u001b[0m:\u001b[36mrate_limited_extract_graph\u001b[0m:\u001b[36m11\u001b[0m - \u001b[31m\u001b[1m1 validation error for KnowledgeGraph\n",
      "nodes.1\n",
      "  Input should be an object [type=model_type, input_value='edges', input_type=str]\n",
      "    For further information visit https://errors.pydantic.dev/2.7/v/model_type\u001b[0m\n",
      "\u001b[32m2024-06-26 09:32:25.809\u001b[0m | \u001b[31m\u001b[1mERROR   \u001b[0m | \u001b[36m__main__\u001b[0m:\u001b[36mrate_limited_extract_graph\u001b[0m:\u001b[36m10\u001b[0m - \u001b[31m\u001b[1mError processing text: La alcaldesa se estÃ¡ persinando. Se acuerdan cuando una alcaldesa en 2014 hablÃ³ el Ã­sndolo boliviano y dejÃ³ la media cagada? Ahora no se puede molestar a los peruanos, no son patrimonio nacional. Pero los problemas no son con los que estÃ¡n acÃ¡, son con los de allÃ¡. Una vez dijeron: Putas, ahÃ­ vienen los peruanos pa' casa, en el cajÃ³n, en bolsa de basura. Â¿De dÃ³nde estÃ¡n los cajones y las bolsas?\u001b[0m\n",
      "\u001b[32m2024-06-26 09:32:25.809\u001b[0m | \u001b[31m\u001b[1mERROR   \u001b[0m | \u001b[36m__main__\u001b[0m:\u001b[36mrate_limited_extract_graph\u001b[0m:\u001b[36m11\u001b[0m - \u001b[31m\u001b[1mThe output is incomplete due to a max_tokens length limit.\u001b[0m\n",
      "\u001b[32m2024-06-26 09:35:19.901\u001b[0m | \u001b[31m\u001b[1mERROR   \u001b[0m | \u001b[36m__main__\u001b[0m:\u001b[36mrate_limited_extract_graph\u001b[0m:\u001b[36m10\u001b[0m - \u001b[31m\u001b[1mError processing text: La \n",
      "icia muy inteligente que te sale: 'trajo mucho yo que trabajÃ¡is mucho'. Love que estÃ¡is cagado, mÃ­rame a mÃ­. Yo sÃ­ que estoy cagado, yo ya gano doce palos, no puedo ganar mÃ¡s este aÃ±o, yo ya soy gerente, toque techo. No como tu hijo que tiene su margen de crecimiento importante. Hoy uno le cree al huevÃ³n.\u001b[0m\n",
      "\u001b[32m2024-06-26 09:35:19.902\u001b[0m | \u001b[31m\u001b[1mERROR   \u001b[0m | \u001b[36m__main__\u001b[0m:\u001b[36mrate_limited_extract_graph\u001b[0m:\u001b[36m11\u001b[0m - \u001b[31m\u001b[1mThe output is incomplete due to a max_tokens length limit.\u001b[0m\n",
      "\u001b[32m2024-06-26 09:38:31.752\u001b[0m | \u001b[31m\u001b[1mERROR   \u001b[0m | \u001b[36m__main__\u001b[0m:\u001b[36mrate_limited_extract_graph\u001b[0m:\u001b[36m10\u001b[0m - \u001b[31m\u001b[1mError processing text: Â¿Esto no sabemos si el hÃ³n no conocÃ³ el celular, quÃ© va a decir! Miren, ahora que nos conocemos mÃ¡s y ahora sÃ­ que me voy a poner a hablar una intimidad, por favor que no salga de acÃ¡. A mÃ­ me va a costar armar una familia. Yo lo sÃ© porque yo vengo de una familia disfuncional, levemente ordinaria, no le digo levemente porque...\u001b[0m\n",
      "\u001b[32m2024-06-26 09:38:31.753\u001b[0m | \u001b[31m\u001b[1mERROR   \u001b[0m | \u001b[36m__main__\u001b[0m:\u001b[36mrate_limited_extract_graph\u001b[0m:\u001b[36m11\u001b[0m - \u001b[31m\u001b[1mThe output is incomplete due to a max_tokens length limit.\u001b[0m\n",
      "\u001b[32m2024-06-26 09:39:52.340\u001b[0m | \u001b[31m\u001b[1mERROR   \u001b[0m | \u001b[36m__main__\u001b[0m:\u001b[36mrate_limited_extract_graph\u001b[0m:\u001b[36m10\u001b[0m - \u001b[31m\u001b[1mError processing text: Cuando uno se sienta en el inodoro, ella se apodera del agua sucia. Y cuando ella se quita el sostÃ©n y dice que el piso estÃ¡ frÃ­o, uno no se queja. Nos reÃ­mos de todo y nos metemos en lo que no nos importa. Cuando alguien es robado en la calle, todos creen que son valientes e intentan atrapar al ladrÃ³n, pero Ã©ste termina siendo atacado por las seÃ±oras.\u001b[0m\n",
      "\u001b[32m2024-06-26 09:39:52.341\u001b[0m | \u001b[31m\u001b[1mERROR   \u001b[0m | \u001b[36m__main__\u001b[0m:\u001b[36mrate_limited_extract_graph\u001b[0m:\u001b[36m11\u001b[0m - \u001b[31m\u001b[1mThe output is incomplete due to a max_tokens length limit.\u001b[0m\n",
      "\u001b[32m2024-06-26 10:06:58.642\u001b[0m | \u001b[31m\u001b[1mERROR   \u001b[0m | \u001b[36m__main__\u001b[0m:\u001b[36mrate_limited_extract_graph\u001b[0m:\u001b[36m10\u001b[0m - \u001b[31m\u001b[1mError processing text: Preocupado si resucitaba Goku en Dragon Ball Z. Yo querÃ­a, yo querÃ­a ser como... como... como Barti... [ __ ] Esa mi Ã­dolo mÃ¡ximo, Marcelo Barti... [ __ ] Y me dejaba el pelo largo, me dejaba el pelo largo. Hay, hay, una, hay un apoyo de mej... el pelo largo y querÃ­a ser como Ã©l, pero me... pero largo y parecÃ­a indio los de Namita.\u001b[0m\n",
      "\u001b[32m2024-06-26 10:06:58.642\u001b[0m | \u001b[31m\u001b[1mERROR   \u001b[0m | \u001b[36m__main__\u001b[0m:\u001b[36mrate_limited_extract_graph\u001b[0m:\u001b[36m11\u001b[0m - \u001b[31m\u001b[1mThe output is incomplete due to a max_tokens length limit.\u001b[0m\n",
      "\u001b[32m2024-06-26 10:09:25.537\u001b[0m | \u001b[31m\u001b[1mERROR   \u001b[0m | \u001b[36m__main__\u001b[0m:\u001b[36mrate_limited_extract_graph\u001b[0m:\u001b[36m10\u001b[0m - \u001b[31m\u001b[1mError processing text: Gracias amor. Oye, yo de verdad pedÃ­ tanto estar esta noche acÃ¡ porque yo sabÃ­a que cada una de las que estÃ¡ esta noche acÃ¡ no es al azar y que nos une un mensaje y nos une una visiÃ³n de vida similar. Y yo contaba de que me habÃ­a operado hace 13 aÃ±os y para mÃ­, desde que me operÃ©, tambiÃ©n parte un camino de amor.\u001b[0m\n",
      "\u001b[32m2024-06-26 10:09:25.538\u001b[0m | \u001b[31m\u001b[1mERROR   \u001b[0m | \u001b[36m__main__\u001b[0m:\u001b[36mrate_limited_extract_graph\u001b[0m:\u001b[36m11\u001b[0m - \u001b[31m\u001b[1mThe output is incomplete due to a max_tokens length limit.\u001b[0m\n",
      "\u001b[32m2024-06-26 10:09:44.590\u001b[0m | \u001b[31m\u001b[1mERROR   \u001b[0m | \u001b[36m__main__\u001b[0m:\u001b[36mrate_limited_extract_graph\u001b[0m:\u001b[36m10\u001b[0m - \u001b[31m\u001b[1mError processing text: Los dibujos animados siempre hacÃ­an la gran feria de ciencias y construÃ­an un robot y uno acÃ¡ en Chile con cueva, un poroto en un algodÃ³n y la bueno es que arruinaba. Te ponÃ­an la nota y decÃ­a Â¿quÃ© hago con esto? Era muy distinto en el que el colegio en Chile no te podÃ­a ir ni ni enfermar tranquilo. Te acordÃ¡s cuando estaba resfriado y tÃº sabÃ­as que tenÃ­a como todas las flemas suelta acÃ¡ y tÃº sabÃ­as que si te reÃ­a\u001b[0m\n",
      "\u001b[32m2024-06-26 10:09:44.590\u001b[0m | \u001b[31m\u001b[1mERROR   \u001b[0m | \u001b[36m__main__\u001b[0m:\u001b[36mrate_limited_extract_graph\u001b[0m:\u001b[36m11\u001b[0m - \u001b[31m\u001b[1m1 validation error for KnowledgeGraph\n",
      "nodes.1\n",
      "  Input should be an object [type=model_type, input_value='edges\": [        {            ', input_type=str]\n",
      "    For further information visit https://errors.pydantic.dev/2.7/v/model_type\u001b[0m\n",
      "\u001b[32m2024-06-26 10:30:05.986\u001b[0m | \u001b[31m\u001b[1mERROR   \u001b[0m | \u001b[36m__main__\u001b[0m:\u001b[36mrate_limited_extract_graph\u001b[0m:\u001b[36m10\u001b[0m - \u001b[31m\u001b[1mError processing text: Un chancho altiro lo mÃ¡s salvaje de todo fue cuando estuvo con los pobladores, la poblaciÃ³n la bandera, y cuando saliÃ³ este poblador en representaciÃ³n de los trabajadores, se acuerda que saliÃ³ en esta onda, asÃ­: me llamo EEUU y ya estÃ¡, no hay a matarla.\u001b[0m\n",
      "\u001b[32m2024-06-26 10:30:05.987\u001b[0m | \u001b[31m\u001b[1mERROR   \u001b[0m | \u001b[36m__main__\u001b[0m:\u001b[36mrate_limited_extract_graph\u001b[0m:\u001b[36m11\u001b[0m - \u001b[31m\u001b[1mThe output is incomplete due to a max_tokens length limit.\u001b[0m\n",
      "\u001b[32m2024-06-26 10:33:29.461\u001b[0m | \u001b[31m\u001b[1mERROR   \u001b[0m | \u001b[36m__main__\u001b[0m:\u001b[36mrate_limited_extract_graph\u001b[0m:\u001b[36m10\u001b[0m - \u001b[31m\u001b[1mError processing text: Â¡Ah! Palomito!Â¡Mira lo que me estÃ¡n haciendo, Eduardo!Â¡...para Gloria Trevi, que tuvo un nÃºmero bastante accidental.\u001b[0m\n",
      "\u001b[32m2024-06-26 10:33:29.462\u001b[0m | \u001b[31m\u001b[1mERROR   \u001b[0m | \u001b[36m__main__\u001b[0m:\u001b[36mrate_limited_extract_graph\u001b[0m:\u001b[36m11\u001b[0m - \u001b[31m\u001b[1m2 validation errors for KnowledgeGraph\n",
      "edges.6.source\n",
      "  Input should be a valid integer [type=int_type, input_value={'id': 2, 'label': 'Público'}, input_type=dict]\n",
      "    For further information visit https://errors.pydantic.dev/2.7/v/int_type\n",
      "edges.6.target\n",
      "  Input should be a valid integer [type=int_type, input_value={'id': 5, 'label': 'Gloria Trevi'}, input_type=dict]\n",
      "    For further information visit https://errors.pydantic.dev/2.7/v/int_type\u001b[0m\n",
      "\u001b[32m2024-06-26 10:40:33.062\u001b[0m | \u001b[31m\u001b[1mERROR   \u001b[0m | \u001b[36m__main__\u001b[0m:\u001b[36mrate_limited_extract_graph\u001b[0m:\u001b[36m10\u001b[0m - \u001b[31m\u001b[1mError processing text: No, quÃ© tal, ah no va a resultar, si va a resultar, va a resultar, porque estamos muy contentos. Estamos mÃ¡s contentos que CR en el dÃ­a de la secretaria. QuÃ© bonito y ademÃ¡s estoy contento porque es primera vez que llegÃ³ a la Quinta. SÃ­, porque en tu casa no lleg ni a la segunda. Oiga, no te sal del libre porv, cuidado.\u001b[0m\n",
      "\u001b[32m2024-06-26 10:40:33.063\u001b[0m | \u001b[31m\u001b[1mERROR   \u001b[0m | \u001b[36m__main__\u001b[0m:\u001b[36mrate_limited_extract_graph\u001b[0m:\u001b[36m11\u001b[0m - \u001b[31m\u001b[1m1 validation error for KnowledgeGraph\n",
      "nodes.1\n",
      "  Input should be an object [type=model_type, input_value='edges', input_type=str]\n",
      "    For further information visit https://errors.pydantic.dev/2.7/v/model_type\u001b[0m\n",
      "\u001b[32m2024-06-26 10:42:52.012\u001b[0m | \u001b[31m\u001b[1mERROR   \u001b[0m | \u001b[36m__main__\u001b[0m:\u001b[36mrate_limited_extract_graph\u001b[0m:\u001b[36m10\u001b[0m - \u001b[31m\u001b[1mError processing text: Un hombre bajo querÃ­a arreglar su camello nuevo convertidor catalÃ­tico, ya que se le habÃ­a caÃ­do el 'votito'. El mecÃ¡nico le respondiÃ³ que no habÃ­a problema y procediÃ³ a arreglarlo. DespuÃ©s de un rato, el mecÃ¡nico le pidiÃ³ al hombre que retrocediera el camello para comprobar que el problema estuviera solucionado.\u001b[0m\n",
      "\u001b[32m2024-06-26 10:42:52.013\u001b[0m | \u001b[31m\u001b[1mERROR   \u001b[0m | \u001b[36m__main__\u001b[0m:\u001b[36mrate_limited_extract_graph\u001b[0m:\u001b[36m11\u001b[0m - \u001b[31m\u001b[1mThe output is incomplete due to a max_tokens length limit.\u001b[0m\n",
      "\u001b[32m2024-06-26 10:43:47.109\u001b[0m | \u001b[31m\u001b[1mERROR   \u001b[0m | \u001b[36m__main__\u001b[0m:\u001b[36msafe_model_dump\u001b[0m:\u001b[36m18\u001b[0m - \u001b[31m\u001b[1mError converting graph: 'NoneType' object has no attribute 'model_dump_json'\u001b[0m\n",
      "\u001b[32m2024-06-26 10:43:47.125\u001b[0m | \u001b[31m\u001b[1mERROR   \u001b[0m | \u001b[36m__main__\u001b[0m:\u001b[36msafe_model_dump\u001b[0m:\u001b[36m18\u001b[0m - \u001b[31m\u001b[1mError converting graph: 'NoneType' object has no attribute 'model_dump_json'\u001b[0m\n",
      "\u001b[32m2024-06-26 10:43:47.143\u001b[0m | \u001b[31m\u001b[1mERROR   \u001b[0m | \u001b[36m__main__\u001b[0m:\u001b[36msafe_model_dump\u001b[0m:\u001b[36m18\u001b[0m - \u001b[31m\u001b[1mError converting graph: 'NoneType' object has no attribute 'model_dump_json'\u001b[0m\n",
      "\u001b[32m2024-06-26 10:43:47.145\u001b[0m | \u001b[31m\u001b[1mERROR   \u001b[0m | \u001b[36m__main__\u001b[0m:\u001b[36msafe_model_dump\u001b[0m:\u001b[36m18\u001b[0m - \u001b[31m\u001b[1mError converting graph: 'NoneType' object has no attribute 'model_dump_json'\u001b[0m\n",
      "\u001b[32m2024-06-26 10:43:47.147\u001b[0m | \u001b[31m\u001b[1mERROR   \u001b[0m | \u001b[36m__main__\u001b[0m:\u001b[36msafe_model_dump\u001b[0m:\u001b[36m18\u001b[0m - \u001b[31m\u001b[1mError converting graph: 'NoneType' object has no attribute 'model_dump_json'\u001b[0m\n",
      "\u001b[32m2024-06-26 10:43:47.148\u001b[0m | \u001b[31m\u001b[1mERROR   \u001b[0m | \u001b[36m__main__\u001b[0m:\u001b[36msafe_model_dump\u001b[0m:\u001b[36m18\u001b[0m - \u001b[31m\u001b[1mError converting graph: 'NoneType' object has no attribute 'model_dump_json'\u001b[0m\n",
      "\u001b[32m2024-06-26 10:43:47.165\u001b[0m | \u001b[31m\u001b[1mERROR   \u001b[0m | \u001b[36m__main__\u001b[0m:\u001b[36msafe_model_dump\u001b[0m:\u001b[36m18\u001b[0m - \u001b[31m\u001b[1mError converting graph: 'NoneType' object has no attribute 'model_dump_json'\u001b[0m\n",
      "\u001b[32m2024-06-26 10:43:47.167\u001b[0m | \u001b[31m\u001b[1mERROR   \u001b[0m | \u001b[36m__main__\u001b[0m:\u001b[36msafe_model_dump\u001b[0m:\u001b[36m18\u001b[0m - \u001b[31m\u001b[1mError converting graph: 'NoneType' object has no attribute 'model_dump_json'\u001b[0m\n",
      "\u001b[32m2024-06-26 10:43:47.168\u001b[0m | \u001b[31m\u001b[1mERROR   \u001b[0m | \u001b[36m__main__\u001b[0m:\u001b[36msafe_model_dump\u001b[0m:\u001b[36m18\u001b[0m - \u001b[31m\u001b[1mError converting graph: 'NoneType' object has no attribute 'model_dump_json'\u001b[0m\n",
      "\u001b[32m2024-06-26 10:43:47.180\u001b[0m | \u001b[31m\u001b[1mERROR   \u001b[0m | \u001b[36m__main__\u001b[0m:\u001b[36msafe_model_dump\u001b[0m:\u001b[36m18\u001b[0m - \u001b[31m\u001b[1mError converting graph: 'NoneType' object has no attribute 'model_dump_json'\u001b[0m\n",
      "\u001b[32m2024-06-26 10:43:47.184\u001b[0m | \u001b[31m\u001b[1mERROR   \u001b[0m | \u001b[36m__main__\u001b[0m:\u001b[36msafe_model_dump\u001b[0m:\u001b[36m18\u001b[0m - \u001b[31m\u001b[1mError converting graph: 'NoneType' object has no attribute 'model_dump_json'\u001b[0m\n",
      "\u001b[32m2024-06-26 10:43:47.189\u001b[0m | \u001b[31m\u001b[1mERROR   \u001b[0m | \u001b[36m__main__\u001b[0m:\u001b[36msafe_model_dump\u001b[0m:\u001b[36m18\u001b[0m - \u001b[31m\u001b[1mError converting graph: 'NoneType' object has no attribute 'model_dump_json'\u001b[0m\n",
      "\u001b[32m2024-06-26 10:43:47.190\u001b[0m | \u001b[31m\u001b[1mERROR   \u001b[0m | \u001b[36m__main__\u001b[0m:\u001b[36msafe_model_dump\u001b[0m:\u001b[36m18\u001b[0m - \u001b[31m\u001b[1mError converting graph: 'NoneType' object has no attribute 'model_dump_json'\u001b[0m\n"
     ]
    }
   ],
   "source": [
    "await levels()"
   ]
  },
  {
   "cell_type": "markdown",
   "metadata": {},
   "source": [
    "122m, 56 USD"
   ]
  },
  {
   "cell_type": "code",
   "execution_count": 92,
   "metadata": {},
   "outputs": [],
   "source": [
    "df = df.dropna().reset_index(drop=True)"
   ]
  },
  {
   "cell_type": "code",
   "execution_count": 93,
   "metadata": {},
   "outputs": [],
   "source": [
    "def count_nodes(json_str):\n",
    "    try:\n",
    "        graph = json.loads(json_str)\n",
    "        return len(graph.get('nodes', []))\n",
    "    except json.JSONDecodeError:\n",
    "        return 0"
   ]
  },
  {
   "cell_type": "code",
   "execution_count": 94,
   "metadata": {},
   "outputs": [],
   "source": [
    "df['num_nodes'] = df['graph'].apply(count_nodes)"
   ]
  },
  {
   "cell_type": "code",
   "execution_count": 96,
   "metadata": {},
   "outputs": [
    {
     "data": {
      "text/html": [
       "<div>\n",
       "<style scoped>\n",
       "    .dataframe tbody tr th:only-of-type {\n",
       "        vertical-align: middle;\n",
       "    }\n",
       "\n",
       "    .dataframe tbody tr th {\n",
       "        vertical-align: top;\n",
       "    }\n",
       "\n",
       "    .dataframe thead th {\n",
       "        text-align: right;\n",
       "    }\n",
       "</style>\n",
       "<table border=\"1\" class=\"dataframe\">\n",
       "  <thead>\n",
       "    <tr style=\"text-align: right;\">\n",
       "      <th></th>\n",
       "      <th>word_count</th>\n",
       "      <th>num_nodes</th>\n",
       "    </tr>\n",
       "  </thead>\n",
       "  <tbody>\n",
       "    <tr>\n",
       "      <th>count</th>\n",
       "      <td>7793.000000</td>\n",
       "      <td>7793.000000</td>\n",
       "    </tr>\n",
       "    <tr>\n",
       "      <th>mean</th>\n",
       "      <td>36.215321</td>\n",
       "      <td>3.761581</td>\n",
       "    </tr>\n",
       "    <tr>\n",
       "      <th>std</th>\n",
       "      <td>18.937494</td>\n",
       "      <td>1.265105</td>\n",
       "    </tr>\n",
       "    <tr>\n",
       "      <th>min</th>\n",
       "      <td>11.000000</td>\n",
       "      <td>1.000000</td>\n",
       "    </tr>\n",
       "    <tr>\n",
       "      <th>25%</th>\n",
       "      <td>19.000000</td>\n",
       "      <td>3.000000</td>\n",
       "    </tr>\n",
       "    <tr>\n",
       "      <th>50%</th>\n",
       "      <td>33.000000</td>\n",
       "      <td>4.000000</td>\n",
       "    </tr>\n",
       "    <tr>\n",
       "      <th>75%</th>\n",
       "      <td>53.000000</td>\n",
       "      <td>4.000000</td>\n",
       "    </tr>\n",
       "    <tr>\n",
       "      <th>max</th>\n",
       "      <td>85.000000</td>\n",
       "      <td>13.000000</td>\n",
       "    </tr>\n",
       "  </tbody>\n",
       "</table>\n",
       "</div>"
      ],
      "text/plain": [
       "        word_count    num_nodes\n",
       "count  7793.000000  7793.000000\n",
       "mean     36.215321     3.761581\n",
       "std      18.937494     1.265105\n",
       "min      11.000000     1.000000\n",
       "25%      19.000000     3.000000\n",
       "50%      33.000000     4.000000\n",
       "75%      53.000000     4.000000\n",
       "max      85.000000    13.000000"
      ]
     },
     "execution_count": 96,
     "metadata": {},
     "output_type": "execute_result"
    }
   ],
   "source": [
    "df.describe()"
   ]
  },
  {
   "cell_type": "code",
   "execution_count": 98,
   "metadata": {},
   "outputs": [
    {
     "data": {
      "text/plain": [
       "<Axes: >"
      ]
     },
     "execution_count": 98,
     "metadata": {},
     "output_type": "execute_result"
    },
    {
     "data": {
      "image/png": "[encoded data removed]",
      "text/plain": [
       "<Figure size 1000x600 with 1 Axes>"
      ]
     },
     "metadata": {},
     "output_type": "display_data"
    }
   ],
   "source": [
    "df['num_nodes'].hist(bins=13, figsize=(10, 6))"
   ]
  },
  {
   "cell_type": "code",
   "execution_count": 99,
   "metadata": {},
   "outputs": [
    {
     "data": {
      "text/plain": [
       "num_nodes\n",
       "4     3121\n",
       "2     1460\n",
       "3     1452\n",
       "5     1217\n",
       "6      354\n",
       "7       93\n",
       "8       37\n",
       "1       21\n",
       "9       16\n",
       "10      13\n",
       "11       6\n",
       "12       2\n",
       "13       1\n",
       "Name: count, dtype: int64"
      ]
     },
     "execution_count": 99,
     "metadata": {},
     "output_type": "execute_result"
    }
   ],
   "source": [
    "df['num_nodes'].value_counts()"
   ]
  },
  {
   "cell_type": "code",
   "execution_count": 100,
   "metadata": {},
   "outputs": [
    {
     "data": {
      "text/html": [
       "<div>\n",
       "<style scoped>\n",
       "    .dataframe tbody tr th:only-of-type {\n",
       "        vertical-align: middle;\n",
       "    }\n",
       "\n",
       "    .dataframe tbody tr th {\n",
       "        vertical-align: top;\n",
       "    }\n",
       "\n",
       "    .dataframe thead th {\n",
       "        text-align: right;\n",
       "    }\n",
       "</style>\n",
       "<table border=\"1\" class=\"dataframe\">\n",
       "  <thead>\n",
       "    <tr style=\"text-align: right;\">\n",
       "      <th></th>\n",
       "      <th>word_count</th>\n",
       "      <th>num_nodes</th>\n",
       "    </tr>\n",
       "  </thead>\n",
       "  <tbody>\n",
       "    <tr>\n",
       "      <th>count</th>\n",
       "      <td>6144.000000</td>\n",
       "      <td>6144.000000</td>\n",
       "    </tr>\n",
       "    <tr>\n",
       "      <th>mean</th>\n",
       "      <td>37.510091</td>\n",
       "      <td>4.076986</td>\n",
       "    </tr>\n",
       "    <tr>\n",
       "      <th>std</th>\n",
       "      <td>18.904523</td>\n",
       "      <td>0.811823</td>\n",
       "    </tr>\n",
       "    <tr>\n",
       "      <th>min</th>\n",
       "      <td>11.000000</td>\n",
       "      <td>3.000000</td>\n",
       "    </tr>\n",
       "    <tr>\n",
       "      <th>25%</th>\n",
       "      <td>21.000000</td>\n",
       "      <td>4.000000</td>\n",
       "    </tr>\n",
       "    <tr>\n",
       "      <th>50%</th>\n",
       "      <td>35.000000</td>\n",
       "      <td>4.000000</td>\n",
       "    </tr>\n",
       "    <tr>\n",
       "      <th>75%</th>\n",
       "      <td>54.000000</td>\n",
       "      <td>5.000000</td>\n",
       "    </tr>\n",
       "    <tr>\n",
       "      <th>max</th>\n",
       "      <td>85.000000</td>\n",
       "      <td>6.000000</td>\n",
       "    </tr>\n",
       "  </tbody>\n",
       "</table>\n",
       "</div>"
      ],
      "text/plain": [
       "        word_count    num_nodes\n",
       "count  6144.000000  6144.000000\n",
       "mean     37.510091     4.076986\n",
       "std      18.904523     0.811823\n",
       "min      11.000000     3.000000\n",
       "25%      21.000000     4.000000\n",
       "50%      35.000000     4.000000\n",
       "75%      54.000000     5.000000\n",
       "max      85.000000     6.000000"
      ]
     },
     "execution_count": 100,
     "metadata": {},
     "output_type": "execute_result"
    }
   ],
   "source": [
    "# filter out jokes with less than 3 nodes and more than 6 nodes\n",
    "df = df[(df['num_nodes'] >= 3) & (df['num_nodes'] <= 6)].reset_index(drop=True)\n",
    "df.describe()"
   ]
  },
  {
   "cell_type": "markdown",
   "metadata": {},
   "source": [
    "## Keywords"
   ]
  },
  {
   "cell_type": "code",
   "execution_count": 116,
   "metadata": {},
   "outputs": [],
   "source": [
    "async def keywords():\n",
    "    dataset = df['text'].tolist()\n",
    "    sem = asyncio.Semaphore(3)\n",
    "\n",
    "    async def rate_limited_extract_keywords(text: str) -> Topics:\n",
    "        async with sem:\n",
    "            try:\n",
    "                return await extract_keywords(text, \"es\")\n",
    "            except Exception as e:\n",
    "                logger.error(f\"Error processing text: {text}\")\n",
    "                logger.error(e)\n",
    "                return []\n",
    "    \n",
    "    tasks_get_graphs = [rate_limited_extract_keywords(text) for text in dataset]\n",
    "    resp = await asyncio.gather(*tasks_get_graphs)\n",
    "\n",
    "    def safe_model_dump(topics):\n",
    "        try:\n",
    "            return topics.model_dump_json()\n",
    "        except Exception as e:\n",
    "            logger.error(f\"Error reading topics: {e}\")\n",
    "            return None\n",
    "\n",
    "    df['keywords'] = [safe_model_dump(keywords) for keywords in resp]\n",
    "\n",
    "    df.to_json('../data/interim/jokes_with_keywords.jsonl', orient='records', lines=True)"
   ]
  },
  {
   "cell_type": "code",
   "execution_count": 117,
   "metadata": {},
   "outputs": [
    {
     "name": "stderr",
     "output_type": "stream",
     "text": [
      "\u001b[32m2024-06-26 12:38:10.101\u001b[0m | \u001b[31m\u001b[1mERROR   \u001b[0m | \u001b[36m__main__\u001b[0m:\u001b[36mrate_limited_extract_keywords\u001b[0m:\u001b[36m10\u001b[0m - \u001b[31m\u001b[1mError processing text: En el funeral del abuelo, sus dos hermanos de 92 y 95 aÃ±os llevaban el ataÃºd en un carrito y las flores en otro. El abuelito de 95 se cansÃ³ y lo sentaron en el carrito de las flores. El de 92 le dijo: \"Ya estÃ¡ entrenando\".\u001b[0m\n",
      "\u001b[32m2024-06-26 12:38:10.102\u001b[0m | \u001b[31m\u001b[1mERROR   \u001b[0m | \u001b[36m__main__\u001b[0m:\u001b[36mrate_limited_extract_keywords\u001b[0m:\u001b[36m11\u001b[0m - \u001b[31m\u001b[1mStatus: 400. Message: {\"object\":\"error\",\"message\":\"Not the same number of function calls and responses\",\"type\":\"invalid_request_error\",\"param\":null,\"code\":null}\u001b[0m\n",
      "\u001b[32m2024-06-26 13:15:42.475\u001b[0m | \u001b[31m\u001b[1mERROR   \u001b[0m | \u001b[36m__main__\u001b[0m:\u001b[36msafe_model_dump\u001b[0m:\u001b[36m21\u001b[0m - \u001b[31m\u001b[1mError reading topics: 'list' object has no attribute 'model_dump_json'\u001b[0m\n"
     ]
    }
   ],
   "source": [
    "await keywords()"
   ]
  },
  {
   "cell_type": "code",
   "execution_count": 121,
   "metadata": {},
   "outputs": [],
   "source": [
    "df = df.dropna().reset_index(drop=True)"
   ]
  },
  {
   "cell_type": "code",
   "execution_count": 122,
   "metadata": {},
   "outputs": [],
   "source": [
    "def count_keywords(json_str):\n",
    "    try:\n",
    "        topics = json.loads(json_str)\n",
    "        return len(topics.get('keywords', []))\n",
    "    except json.JSONDecodeError:\n",
    "        return 0"
   ]
  },
  {
   "cell_type": "code",
   "execution_count": 123,
   "metadata": {},
   "outputs": [],
   "source": [
    "df['num_keywords'] = df['keywords'].apply(count_keywords)"
   ]
  },
  {
   "cell_type": "code",
   "execution_count": 124,
   "metadata": {},
   "outputs": [
    {
     "data": {
      "text/html": [
       "<div>\n",
       "<style scoped>\n",
       "    .dataframe tbody tr th:only-of-type {\n",
       "        vertical-align: middle;\n",
       "    }\n",
       "\n",
       "    .dataframe tbody tr th {\n",
       "        vertical-align: top;\n",
       "    }\n",
       "\n",
       "    .dataframe thead th {\n",
       "        text-align: right;\n",
       "    }\n",
       "</style>\n",
       "<table border=\"1\" class=\"dataframe\">\n",
       "  <thead>\n",
       "    <tr style=\"text-align: right;\">\n",
       "      <th></th>\n",
       "      <th>word_count</th>\n",
       "      <th>num_nodes</th>\n",
       "      <th>num_keywords</th>\n",
       "    </tr>\n",
       "  </thead>\n",
       "  <tbody>\n",
       "    <tr>\n",
       "      <th>count</th>\n",
       "      <td>6143.000000</td>\n",
       "      <td>6143.000000</td>\n",
       "      <td>6143.000000</td>\n",
       "    </tr>\n",
       "    <tr>\n",
       "      <th>mean</th>\n",
       "      <td>37.508546</td>\n",
       "      <td>4.076998</td>\n",
       "      <td>4.640729</td>\n",
       "    </tr>\n",
       "    <tr>\n",
       "      <th>std</th>\n",
       "      <td>18.905674</td>\n",
       "      <td>0.811889</td>\n",
       "      <td>1.516333</td>\n",
       "    </tr>\n",
       "    <tr>\n",
       "      <th>min</th>\n",
       "      <td>11.000000</td>\n",
       "      <td>3.000000</td>\n",
       "      <td>1.000000</td>\n",
       "    </tr>\n",
       "    <tr>\n",
       "      <th>25%</th>\n",
       "      <td>21.000000</td>\n",
       "      <td>4.000000</td>\n",
       "      <td>4.000000</td>\n",
       "    </tr>\n",
       "    <tr>\n",
       "      <th>50%</th>\n",
       "      <td>35.000000</td>\n",
       "      <td>4.000000</td>\n",
       "      <td>5.000000</td>\n",
       "    </tr>\n",
       "    <tr>\n",
       "      <th>75%</th>\n",
       "      <td>54.000000</td>\n",
       "      <td>5.000000</td>\n",
       "      <td>5.000000</td>\n",
       "    </tr>\n",
       "    <tr>\n",
       "      <th>max</th>\n",
       "      <td>85.000000</td>\n",
       "      <td>6.000000</td>\n",
       "      <td>19.000000</td>\n",
       "    </tr>\n",
       "  </tbody>\n",
       "</table>\n",
       "</div>"
      ],
      "text/plain": [
       "        word_count    num_nodes  num_keywords\n",
       "count  6143.000000  6143.000000   6143.000000\n",
       "mean     37.508546     4.076998      4.640729\n",
       "std      18.905674     0.811889      1.516333\n",
       "min      11.000000     3.000000      1.000000\n",
       "25%      21.000000     4.000000      4.000000\n",
       "50%      35.000000     4.000000      5.000000\n",
       "75%      54.000000     5.000000      5.000000\n",
       "max      85.000000     6.000000     19.000000"
      ]
     },
     "execution_count": 124,
     "metadata": {},
     "output_type": "execute_result"
    }
   ],
   "source": [
    "df.describe()"
   ]
  },
  {
   "cell_type": "code",
   "execution_count": 125,
   "metadata": {},
   "outputs": [
    {
     "data": {
      "text/plain": [
       "<Axes: >"
      ]
     },
     "execution_count": 125,
     "metadata": {},
     "output_type": "execute_result"
    },
    {
     "data": {
      "image/png": "[encoded data removed]",
      "text/plain": [
       "<Figure size 1000x600 with 1 Axes>"
      ]
     },
     "metadata": {},
     "output_type": "display_data"
    }
   ],
   "source": [
    "df['num_keywords'].hist(bins=10, figsize=(10, 6))"
   ]
  },
  {
   "cell_type": "code",
   "execution_count": 126,
   "metadata": {},
   "outputs": [
    {
     "data": {
      "text/plain": [
       "num_keywords\n",
       "5     2571\n",
       "4     1406\n",
       "3     1070\n",
       "6      388\n",
       "2      213\n",
       "7      206\n",
       "8      131\n",
       "9       64\n",
       "10      46\n",
       "11      14\n",
       "12      11\n",
       "13       8\n",
       "1        6\n",
       "15       3\n",
       "19       2\n",
       "14       2\n",
       "16       2\n",
       "Name: count, dtype: int64"
      ]
     },
     "execution_count": 126,
     "metadata": {},
     "output_type": "execute_result"
    }
   ],
   "source": [
    "df['num_keywords'].value_counts()"
   ]
  },
  {
   "cell_type": "code",
   "execution_count": 128,
   "metadata": {},
   "outputs": [
    {
     "data": {
      "text/html": [
       "<div>\n",
       "<style scoped>\n",
       "    .dataframe tbody tr th:only-of-type {\n",
       "        vertical-align: middle;\n",
       "    }\n",
       "\n",
       "    .dataframe tbody tr th {\n",
       "        vertical-align: top;\n",
       "    }\n",
       "\n",
       "    .dataframe thead th {\n",
       "        text-align: right;\n",
       "    }\n",
       "</style>\n",
       "<table border=\"1\" class=\"dataframe\">\n",
       "  <thead>\n",
       "    <tr style=\"text-align: right;\">\n",
       "      <th></th>\n",
       "      <th>text</th>\n",
       "      <th>word_count</th>\n",
       "      <th>graph</th>\n",
       "      <th>num_nodes</th>\n",
       "      <th>keywords</th>\n",
       "      <th>num_keywords</th>\n",
       "    </tr>\n",
       "  </thead>\n",
       "  <tbody>\n",
       "    <tr>\n",
       "      <th>0</th>\n",
       "      <td>Oye, fjate que llega un indio al mdico y qu pa...</td>\n",
       "      <td>44</td>\n",
       "      <td>{\"nodes\":[{\"id\":1,\"label\":\"Comediante\"},{\"id\":...</td>\n",
       "      <td>5</td>\n",
       "      <td>{\"keywords\":[\"indio\",\"mdico\",\"Toro Sentado\",\"e...</td>\n",
       "      <td>5</td>\n",
       "    </tr>\n",
       "    <tr>\n",
       "      <th>1</th>\n",
       "      <td>y me dio qu le pas vena una delegacin de turno...</td>\n",
       "      <td>31</td>\n",
       "      <td>{\"nodes\":[{\"id\":1,\"label\":\"Guía Turístico\"},{\"...</td>\n",
       "      <td>3</td>\n",
       "      <td>{\"keywords\":[\"delegacin de turnos\",\"Viña del M...</td>\n",
       "      <td>4</td>\n",
       "    </tr>\n",
       "    <tr>\n",
       "      <th>2</th>\n",
       "      <td>Entonces el gua turstico si ustedes miran a la...</td>\n",
       "      <td>18</td>\n",
       "      <td>{\"nodes\":[{\"id\":1,\"label\":\"Comediante\"},{\"id\":...</td>\n",
       "      <td>4</td>\n",
       "      <td>{\"keywords\":[\"gua turstico\",\"izquierda\",\"derec...</td>\n",
       "      <td>4</td>\n",
       "    </tr>\n",
       "    <tr>\n",
       "      <th>3</th>\n",
       "      <td>y llega el tema del medio que le dice doctor m...</td>\n",
       "      <td>46</td>\n",
       "      <td>{\"nodes\":[{\"id\":1,\"label\":\"Comediante\"},{\"id\":...</td>\n",
       "      <td>5</td>\n",
       "      <td>{\"keywords\":[\"luna de viernes\",\"seora\",\"tres p...</td>\n",
       "      <td>5</td>\n",
       "    </tr>\n",
       "    <tr>\n",
       "      <th>4</th>\n",
       "      <td>conversando amigo y uno le dice la poblacin un...</td>\n",
       "      <td>29</td>\n",
       "      <td>{\"nodes\":[{\"id\":1,\"label\":\"Comediante\"},{\"id\":...</td>\n",
       "      <td>4</td>\n",
       "      <td>{\"keywords\":[\"Viagra\",\"robo\",\"medicamento\",\"po...</td>\n",
       "      <td>5</td>\n",
       "    </tr>\n",
       "  </tbody>\n",
       "</table>\n",
       "</div>"
      ],
      "text/plain": [
       "                                                text  word_count  \\\n",
       "0  Oye, fjate que llega un indio al mdico y qu pa...          44   \n",
       "1  y me dio qu le pas vena una delegacin de turno...          31   \n",
       "2  Entonces el gua turstico si ustedes miran a la...          18   \n",
       "3  y llega el tema del medio que le dice doctor m...          46   \n",
       "4  conversando amigo y uno le dice la poblacin un...          29   \n",
       "\n",
       "                                               graph  num_nodes  \\\n",
       "0  {\"nodes\":[{\"id\":1,\"label\":\"Comediante\"},{\"id\":...          5   \n",
       "1  {\"nodes\":[{\"id\":1,\"label\":\"Guía Turístico\"},{\"...          3   \n",
       "2  {\"nodes\":[{\"id\":1,\"label\":\"Comediante\"},{\"id\":...          4   \n",
       "3  {\"nodes\":[{\"id\":1,\"label\":\"Comediante\"},{\"id\":...          5   \n",
       "4  {\"nodes\":[{\"id\":1,\"label\":\"Comediante\"},{\"id\":...          4   \n",
       "\n",
       "                                            keywords  num_keywords  \n",
       "0  {\"keywords\":[\"indio\",\"mdico\",\"Toro Sentado\",\"e...             5  \n",
       "1  {\"keywords\":[\"delegacin de turnos\",\"Viña del M...             4  \n",
       "2  {\"keywords\":[\"gua turstico\",\"izquierda\",\"derec...             4  \n",
       "3  {\"keywords\":[\"luna de viernes\",\"seora\",\"tres p...             5  \n",
       "4  {\"keywords\":[\"Viagra\",\"robo\",\"medicamento\",\"po...             5  "
      ]
     },
     "execution_count": 128,
     "metadata": {},
     "output_type": "execute_result"
    }
   ],
   "source": [
    "df.head()"
   ]
  },
  {
   "cell_type": "code",
   "execution_count": 133,
   "metadata": {},
   "outputs": [],
   "source": [
    "def convert_keywords(keywords_str):\n",
    "    # Load the string into a dictionary\n",
    "    keywords_dict = json.loads(keywords_str)\n",
    "    keywords_list = keywords_dict['keywords']\n",
    "    return str(keywords_list).replace('\"', \"'\")\n",
    "\n",
    "# Apply the conversion to the 'keywords' column\n",
    "df['keywords'] = df['keywords'].apply(convert_keywords)"
   ]
  },
  {
   "cell_type": "code",
   "execution_count": 136,
   "metadata": {},
   "outputs": [
    {
     "data": {
      "text/html": [
       "<div>\n",
       "<style scoped>\n",
       "    .dataframe tbody tr th:only-of-type {\n",
       "        vertical-align: middle;\n",
       "    }\n",
       "\n",
       "    .dataframe tbody tr th {\n",
       "        vertical-align: top;\n",
       "    }\n",
       "\n",
       "    .dataframe thead th {\n",
       "        text-align: right;\n",
       "    }\n",
       "</style>\n",
       "<table border=\"1\" class=\"dataframe\">\n",
       "  <thead>\n",
       "    <tr style=\"text-align: right;\">\n",
       "      <th></th>\n",
       "      <th>text</th>\n",
       "      <th>word_count</th>\n",
       "      <th>graph</th>\n",
       "      <th>num_nodes</th>\n",
       "      <th>keywords</th>\n",
       "      <th>num_keywords</th>\n",
       "    </tr>\n",
       "  </thead>\n",
       "  <tbody>\n",
       "    <tr>\n",
       "      <th>0</th>\n",
       "      <td>Oye, fjate que llega un indio al mdico y qu pa...</td>\n",
       "      <td>44</td>\n",
       "      <td>{\"nodes\":[{\"id\":1,\"label\":\"Comediante\"},{\"id\":...</td>\n",
       "      <td>5</td>\n",
       "      <td>['indio', 'mdico', 'Toro Sentado', 'enfermo', ...</td>\n",
       "      <td>5</td>\n",
       "    </tr>\n",
       "    <tr>\n",
       "      <th>1</th>\n",
       "      <td>y me dio qu le pas vena una delegacin de turno...</td>\n",
       "      <td>31</td>\n",
       "      <td>{\"nodes\":[{\"id\":1,\"label\":\"Guía Turístico\"},{\"...</td>\n",
       "      <td>3</td>\n",
       "      <td>['delegacin de turnos', 'Viña del Mar', 'bus d...</td>\n",
       "      <td>4</td>\n",
       "    </tr>\n",
       "    <tr>\n",
       "      <th>2</th>\n",
       "      <td>Entonces el gua turstico si ustedes miran a la...</td>\n",
       "      <td>18</td>\n",
       "      <td>{\"nodes\":[{\"id\":1,\"label\":\"Comediante\"},{\"id\":...</td>\n",
       "      <td>4</td>\n",
       "      <td>['gua turstico', 'izquierda', 'derecha', 'quin...</td>\n",
       "      <td>4</td>\n",
       "    </tr>\n",
       "    <tr>\n",
       "      <th>3</th>\n",
       "      <td>y llega el tema del medio que le dice doctor m...</td>\n",
       "      <td>46</td>\n",
       "      <td>{\"nodes\":[{\"id\":1,\"label\":\"Comediante\"},{\"id\":...</td>\n",
       "      <td>5</td>\n",
       "      <td>['luna de viernes', 'seora', 'tres pechos', 'd...</td>\n",
       "      <td>5</td>\n",
       "    </tr>\n",
       "    <tr>\n",
       "      <th>4</th>\n",
       "      <td>conversando amigo y uno le dice la poblacin un...</td>\n",
       "      <td>29</td>\n",
       "      <td>{\"nodes\":[{\"id\":1,\"label\":\"Comediante\"},{\"id\":...</td>\n",
       "      <td>4</td>\n",
       "      <td>['Viagra', 'robo', 'medicamento', 'polica', 'h...</td>\n",
       "      <td>5</td>\n",
       "    </tr>\n",
       "  </tbody>\n",
       "</table>\n",
       "</div>"
      ],
      "text/plain": [
       "                                                text  word_count  \\\n",
       "0  Oye, fjate que llega un indio al mdico y qu pa...          44   \n",
       "1  y me dio qu le pas vena una delegacin de turno...          31   \n",
       "2  Entonces el gua turstico si ustedes miran a la...          18   \n",
       "3  y llega el tema del medio que le dice doctor m...          46   \n",
       "4  conversando amigo y uno le dice la poblacin un...          29   \n",
       "\n",
       "                                               graph  num_nodes  \\\n",
       "0  {\"nodes\":[{\"id\":1,\"label\":\"Comediante\"},{\"id\":...          5   \n",
       "1  {\"nodes\":[{\"id\":1,\"label\":\"Guía Turístico\"},{\"...          3   \n",
       "2  {\"nodes\":[{\"id\":1,\"label\":\"Comediante\"},{\"id\":...          4   \n",
       "3  {\"nodes\":[{\"id\":1,\"label\":\"Comediante\"},{\"id\":...          5   \n",
       "4  {\"nodes\":[{\"id\":1,\"label\":\"Comediante\"},{\"id\":...          4   \n",
       "\n",
       "                                            keywords  num_keywords  \n",
       "0  ['indio', 'mdico', 'Toro Sentado', 'enfermo', ...             5  \n",
       "1  ['delegacin de turnos', 'Viña del Mar', 'bus d...             4  \n",
       "2  ['gua turstico', 'izquierda', 'derecha', 'quin...             4  \n",
       "3  ['luna de viernes', 'seora', 'tres pechos', 'd...             5  \n",
       "4  ['Viagra', 'robo', 'medicamento', 'polica', 'h...             5  "
      ]
     },
     "execution_count": 136,
     "metadata": {},
     "output_type": "execute_result"
    }
   ],
   "source": [
    "df.head()"
   ]
  },
  {
   "cell_type": "code",
   "execution_count": 138,
   "metadata": {},
   "outputs": [],
   "source": [
    "df.to_json('../data/interim/jokes.jsonl', orient='records', lines=True)    "
   ]
  },
  {
   "cell_type": "code",
   "execution_count": 139,
   "metadata": {},
   "outputs": [],
   "source": [
    "df[['text', 'keywords']].to_json('../data/interim/jokes_fine_tuning.jsonl', orient='records', lines=True)  "
   ]
  },
  {
   "cell_type": "markdown",
   "metadata": {},
   "source": [
    "## Creating the datasets for fine-tuning"
   ]
  },
  {
   "cell_type": "code",
   "execution_count": 140,
   "metadata": {},
   "outputs": [
    {
     "data": {
      "text/html": [
       "<div>\n",
       "<style scoped>\n",
       "    .dataframe tbody tr th:only-of-type {\n",
       "        vertical-align: middle;\n",
       "    }\n",
       "\n",
       "    .dataframe tbody tr th {\n",
       "        vertical-align: top;\n",
       "    }\n",
       "\n",
       "    .dataframe thead th {\n",
       "        text-align: right;\n",
       "    }\n",
       "</style>\n",
       "<table border=\"1\" class=\"dataframe\">\n",
       "  <thead>\n",
       "    <tr style=\"text-align: right;\">\n",
       "      <th></th>\n",
       "      <th>word_count</th>\n",
       "      <th>num_nodes</th>\n",
       "      <th>num_keywords</th>\n",
       "    </tr>\n",
       "  </thead>\n",
       "  <tbody>\n",
       "    <tr>\n",
       "      <th>count</th>\n",
       "      <td>2881.000000</td>\n",
       "      <td>2881.000000</td>\n",
       "      <td>2881.000000</td>\n",
       "    </tr>\n",
       "    <tr>\n",
       "      <th>mean</th>\n",
       "      <td>51.555016</td>\n",
       "      <td>4.513711</td>\n",
       "      <td>5.244012</td>\n",
       "    </tr>\n",
       "    <tr>\n",
       "      <th>std</th>\n",
       "      <td>12.923997</td>\n",
       "      <td>0.669190</td>\n",
       "      <td>1.518572</td>\n",
       "    </tr>\n",
       "    <tr>\n",
       "      <th>min</th>\n",
       "      <td>31.000000</td>\n",
       "      <td>4.000000</td>\n",
       "      <td>2.000000</td>\n",
       "    </tr>\n",
       "    <tr>\n",
       "      <th>25%</th>\n",
       "      <td>40.000000</td>\n",
       "      <td>4.000000</td>\n",
       "      <td>5.000000</td>\n",
       "    </tr>\n",
       "    <tr>\n",
       "      <th>50%</th>\n",
       "      <td>52.000000</td>\n",
       "      <td>4.000000</td>\n",
       "      <td>5.000000</td>\n",
       "    </tr>\n",
       "    <tr>\n",
       "      <th>75%</th>\n",
       "      <td>61.000000</td>\n",
       "      <td>5.000000</td>\n",
       "      <td>5.000000</td>\n",
       "    </tr>\n",
       "    <tr>\n",
       "      <th>max</th>\n",
       "      <td>85.000000</td>\n",
       "      <td>6.000000</td>\n",
       "      <td>19.000000</td>\n",
       "    </tr>\n",
       "  </tbody>\n",
       "</table>\n",
       "</div>"
      ],
      "text/plain": [
       "        word_count    num_nodes  num_keywords\n",
       "count  2881.000000  2881.000000   2881.000000\n",
       "mean     51.555016     4.513711      5.244012\n",
       "std      12.923997     0.669190      1.518572\n",
       "min      31.000000     4.000000      2.000000\n",
       "25%      40.000000     4.000000      5.000000\n",
       "50%      52.000000     4.000000      5.000000\n",
       "75%      61.000000     5.000000      5.000000\n",
       "max      85.000000     6.000000     19.000000"
      ]
     },
     "execution_count": 140,
     "metadata": {},
     "output_type": "execute_result"
    }
   ],
   "source": [
    "df_quality = df[(df['word_count'] > 30)&(df['num_nodes'] > 3)].reset_index(drop=True)\n",
    "df_quality.describe()"
   ]
  },
  {
   "cell_type": "code",
   "execution_count": 141,
   "metadata": {},
   "outputs": [],
   "source": [
    "df_quality[['text', 'keywords']].to_json('../data/interim/quality_jokes_fine_tuning.jsonl', orient='records', lines=True)  "
   ]
  }
 ],
 "metadata": {
  "kernelspec": {
   "display_name": ".venv",
   "language": "python",
   "name": "python3"
  },
  "language_info": {
   "codemirror_mode": {
    "name": "ipython",
    "version": 3
   },
   "file_extension": ".py",
   "mimetype": "text/x-python",
   "name": "python",
   "nbconvert_exporter": "python",
   "pygments_lexer": "ipython3",
   "version": "3.12.1"
  }
 },
 "nbformat": 4,
 "nbformat_minor": 2
}
