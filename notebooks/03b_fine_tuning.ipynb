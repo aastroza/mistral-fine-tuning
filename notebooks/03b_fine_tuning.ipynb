{
 "cells": [
  {
   "cell_type": "code",
   "execution_count": 14,
   "metadata": {},
   "outputs": [
    {
     "name": "stdout",
     "output_type": "stream",
     "text": [
      "The autoreload extension is already loaded. To reload it, use:\n",
      "  %reload_ext autoreload\n"
     ]
    },
    {
     "data": {
      "text/plain": [
       "True"
      ]
     },
     "execution_count": 14,
     "metadata": {},
     "output_type": "execute_result"
    }
   ],
   "source": [
    "%load_ext autoreload\n",
    "%autoreload 2\n",
    "\n",
    "from loguru import logger\n",
    "import os\n",
    "from mistralai.client import MistralClient\n",
    "from mistralai.models.jobs import WandbIntegrationIn, TrainingParameters\n",
    "\n",
    "from mistral_fine_tuning.utils import read_fine_tuning_file\n",
    "from mistral_fine_tuning.reformat import reformat_jsonl\n",
    "\n",
    "from dotenv import load_dotenv\n",
    "load_dotenv()"
   ]
  },
  {
   "cell_type": "code",
   "execution_count": 15,
   "metadata": {},
   "outputs": [
    {
     "name": "stderr",
     "output_type": "stream",
     "text": [
      "\u001b[32m2024-06-26 23:39:19.803\u001b[0m | \u001b[31m\u001b[1mERROR   \u001b[0m | \u001b[36mmistral_fine_tuning.utils\u001b[0m:\u001b[36mprocess_keywords\u001b[0m:\u001b[36m57\u001b[0m - \u001b[31m\u001b[1mError processing keywords: invalid syntax. Perhaps you forgot a comma? (<string>, line 1)\u001b[0m\n"
     ]
    }
   ],
   "source": [
    "df = read_fine_tuning_file('../data/interim/jokes_fine_tuning.jsonl')"
   ]
  },
  {
   "cell_type": "code",
   "execution_count": 16,
   "metadata": {},
   "outputs": [],
   "source": [
    "def extract_first_element(row):\n",
    "    return row['keywords'].split(',')[0].replace('[', '')\n",
    "\n",
    "# Apply the function to the DataFrame\n",
    "df['first_keyword'] = df.apply(extract_first_element, axis=1)"
   ]
  },
  {
   "cell_type": "code",
   "execution_count": 17,
   "metadata": {},
   "outputs": [
    {
     "data": {
      "text/html": [
       "<div>\n",
       "<style scoped>\n",
       "    .dataframe tbody tr th:only-of-type {\n",
       "        vertical-align: middle;\n",
       "    }\n",
       "\n",
       "    .dataframe tbody tr th {\n",
       "        vertical-align: top;\n",
       "    }\n",
       "\n",
       "    .dataframe thead th {\n",
       "        text-align: right;\n",
       "    }\n",
       "</style>\n",
       "<table border=\"1\" class=\"dataframe\">\n",
       "  <thead>\n",
       "    <tr style=\"text-align: right;\">\n",
       "      <th></th>\n",
       "      <th>text</th>\n",
       "      <th>keywords</th>\n",
       "      <th>first_keyword</th>\n",
       "    </tr>\n",
       "  </thead>\n",
       "  <tbody>\n",
       "    <tr>\n",
       "      <th>0</th>\n",
       "      <td>Oye, fjate que llega un indio al mdico y qu pa...</td>\n",
       "      <td>['indio', 'mdico', 'Toro Sentado', 'enfermo', ...</td>\n",
       "      <td>'indio'</td>\n",
       "    </tr>\n",
       "    <tr>\n",
       "      <th>1</th>\n",
       "      <td>y me dio qu le pas vena una delegacin de turno...</td>\n",
       "      <td>['delegacin de turnos', 'Viña del Mar', 'bus d...</td>\n",
       "      <td>'delegacin de turnos'</td>\n",
       "    </tr>\n",
       "    <tr>\n",
       "      <th>2</th>\n",
       "      <td>Entonces el gua turstico si ustedes miran a la...</td>\n",
       "      <td>['gua turstico', 'izquierda', 'derecha', 'quin...</td>\n",
       "      <td>'gua turstico'</td>\n",
       "    </tr>\n",
       "    <tr>\n",
       "      <th>3</th>\n",
       "      <td>y llega el tema del medio que le dice doctor m...</td>\n",
       "      <td>['luna de viernes', 'seora', 'tres pechos', 'd...</td>\n",
       "      <td>'luna de viernes'</td>\n",
       "    </tr>\n",
       "    <tr>\n",
       "      <th>4</th>\n",
       "      <td>conversando amigo y uno le dice la poblacin un...</td>\n",
       "      <td>['Viagra', 'robo', 'medicamento', 'polica', 'h...</td>\n",
       "      <td>'Viagra'</td>\n",
       "    </tr>\n",
       "  </tbody>\n",
       "</table>\n",
       "</div>"
      ],
      "text/plain": [
       "                                                text  \\\n",
       "0  Oye, fjate que llega un indio al mdico y qu pa...   \n",
       "1  y me dio qu le pas vena una delegacin de turno...   \n",
       "2  Entonces el gua turstico si ustedes miran a la...   \n",
       "3  y llega el tema del medio que le dice doctor m...   \n",
       "4  conversando amigo y uno le dice la poblacin un...   \n",
       "\n",
       "                                            keywords          first_keyword  \n",
       "0  ['indio', 'mdico', 'Toro Sentado', 'enfermo', ...                'indio'  \n",
       "1  ['delegacin de turnos', 'Viña del Mar', 'bus d...  'delegacin de turnos'  \n",
       "2  ['gua turstico', 'izquierda', 'derecha', 'quin...         'gua turstico'  \n",
       "3  ['luna de viernes', 'seora', 'tres pechos', 'd...      'luna de viernes'  \n",
       "4  ['Viagra', 'robo', 'medicamento', 'polica', 'h...               'Viagra'  "
      ]
     },
     "execution_count": 17,
     "metadata": {},
     "output_type": "execute_result"
    }
   ],
   "source": [
    "df.head()"
   ]
  },
  {
   "cell_type": "code",
   "execution_count": 18,
   "metadata": {},
   "outputs": [],
   "source": [
    "def create_messages(row):\n",
    "    messages = [\n",
    "        {\n",
    "            \"role\": \"system\",\n",
    "            \"content\": \"You are a world-class comedy writer specializing in Chilean humor. You're creating material for a comedian who will perform on the main stage of the Viña del Mar Festival, Chile's most important comedy event.\"\n",
    "        },\n",
    "        {\n",
    "            \"role\": \"user\",\n",
    "            \"content\": \"I have added a feature that forces you to response only in `locale=es` and consider only chilean spanish.\",\n",
    "        },\n",
    "        {\n",
    "            \"role\": \"assistant\",\n",
    "            \"content\": \"Understood thank you. From now I will only response with `locale=es`\",\n",
    "        },\n",
    "        {\n",
    "            \"role\": \"user\",\n",
    "            \"content\": \"Write a joke in Chilean Spanish based on the following keyword: \" + row['first_keyword'] + \".\"\n",
    "        },\n",
    "        {\n",
    "            \"role\": \"assistant\",\n",
    "            \"content\": row['text']\n",
    "        }\n",
    "    ]\n",
    "\n",
    "    return messages"
   ]
  },
  {
   "cell_type": "code",
   "execution_count": 19,
   "metadata": {},
   "outputs": [],
   "source": [
    "df['messages'] = df.apply(create_messages, axis=1)"
   ]
  },
  {
   "cell_type": "code",
   "execution_count": 20,
   "metadata": {},
   "outputs": [
    {
     "data": {
      "text/plain": [
       "[{'role': 'system',\n",
       "  'content': \"You are a world-class comedy writer specializing in Chilean humor. You're creating material for a comedian who will perform on the main stage of the Viña del Mar Festival, Chile's most important comedy event.\"},\n",
       " {'role': 'user',\n",
       "  'content': 'I have added a feature that forces you to response only in `locale=es` and consider only chilean spanish.'},\n",
       " {'role': 'assistant',\n",
       "  'content': 'Understood thank you. From now I will only response with `locale=es`'},\n",
       " {'role': 'user',\n",
       "  'content': \"Write a joke in Chilean Spanish based on the following keyword: 'indio'.\"},\n",
       " {'role': 'assistant',\n",
       "  'content': 'Oye, fjate que llega un indio al mdico y qu pasa nuestro gran jefe de Toro Sentado estar enfermo ah dice Y qu tiene Gran Jefe Toro Sentado Gran Jefe Toro Sentado a tomarse dos frascos de viagra hgalo pasar llmelo todo parado venir'}]"
      ]
     },
     "execution_count": 20,
     "metadata": {},
     "output_type": "execute_result"
    }
   ],
   "source": [
    "df.loc[0, 'messages']"
   ]
  },
  {
   "cell_type": "code",
   "execution_count": 21,
   "metadata": {},
   "outputs": [],
   "source": [
    "df_train=df.sample(frac=0.995,random_state=200)\n",
    "df_eval=df.drop(df_train.index)\n",
    "\n",
    "df_train.to_json(\"../data/processed/jokes_train_b.jsonl\", orient=\"records\", lines=True)\n",
    "df_eval.to_json(\"../data/processed/jokes_eval_b.jsonl\", orient=\"records\", lines=True)"
   ]
  },
  {
   "cell_type": "code",
   "execution_count": 22,
   "metadata": {},
   "outputs": [],
   "source": [
    "reformat_jsonl(\"../data/processed/jokes_train_b.jsonl\")\n",
    "reformat_jsonl(\"../data/processed/jokes_eval_b.jsonl\")"
   ]
  },
  {
   "cell_type": "code",
   "execution_count": 25,
   "metadata": {},
   "outputs": [],
   "source": [
    "api_key = os.environ.get(\"MISTRAL_API_KEY\")\n",
    "client = MistralClient(api_key=api_key)\n",
    "\n",
    "with open(\"../data/processed/reformatted_jokes_train_b.jsonl\", \"rb\") as f:\n",
    "    reformatted_jokes_train_b = client.files.create(file=(\"reformatted_jokes_train_b.jsonl\", f))\n",
    "with open(\"../data/processed/reformatted_jokes_eval_b.jsonl\", \"rb\") as f:\n",
    "    reformatted_jokes_eval_b = client.files.create(file=(\"reformatted_jokes_eval_b.jsonl\", f))"
   ]
  },
  {
   "cell_type": "code",
   "execution_count": 26,
   "metadata": {},
   "outputs": [],
   "source": [
    "wandb_api_key = os.environ.get(\"WANDB_API_KEY\")\n",
    "\n",
    "created_jobs = client.jobs.create(\n",
    "    model=\"open-mistral-7b\",\n",
    "    training_files=[reformatted_jokes_train_b.id],\n",
    "    validation_files=[reformatted_jokes_eval_b.id],\n",
    "    hyperparameters=TrainingParameters(\n",
    "        training_steps=300,\n",
    "        learning_rate=0.0001,\n",
    "    ),\n",
    "    integrations=[\n",
    "        WandbIntegrationIn(\n",
    "            project=\"mistral_fine_tuning_api\",\n",
    "            run_name=\"test b\",\n",
    "            api_key=wandb_api_key,\n",
    "        ).model_dump()\n",
    "    ]\n",
    ")"
   ]
  }
 ],
 "metadata": {
  "kernelspec": {
   "display_name": ".venv",
   "language": "python",
   "name": "python3"
  },
  "language_info": {
   "codemirror_mode": {
    "name": "ipython",
    "version": 3
   },
   "file_extension": ".py",
   "mimetype": "text/x-python",
   "name": "python",
   "nbconvert_exporter": "python",
   "pygments_lexer": "ipython3",
   "version": "3.12.1"
  }
 },
 "nbformat": 4,
 "nbformat_minor": 2
}
