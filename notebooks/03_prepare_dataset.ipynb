{
 "cells": [
  {
   "cell_type": "code",
   "execution_count": 1,
   "metadata": {},
   "outputs": [
    {
     "data": {
      "text/plain": [
       "True"
      ]
     },
     "execution_count": 1,
     "metadata": {},
     "output_type": "execute_result"
    }
   ],
   "source": [
    "%load_ext autoreload\n",
    "%autoreload 2\n",
    "\n",
    "import weave\n",
    "from loguru import logger\n",
    "import os\n",
    "import random\n",
    "from mistralai.client import MistralClient\n",
    "from mistralai.models.jobs import WandbIntegrationIn, TrainingParameters\n",
    "\n",
    "from mistral_fine_tuning.utils import read_fine_tuning_file\n",
    "from mistral_fine_tuning.reformat import reformat_jsonl\n",
    "\n",
    "from dotenv import load_dotenv\n",
    "load_dotenv()\n"
   ]
  },
  {
   "cell_type": "code",
   "execution_count": 2,
   "metadata": {},
   "outputs": [],
   "source": [
    "df = read_fine_tuning_file('../data/interim/quality_jokes_fine_tuning.jsonl')"
   ]
  },
  {
   "cell_type": "code",
   "execution_count": 3,
   "metadata": {},
   "outputs": [],
   "source": [
    "random.seed(100)\n",
    "\n",
    "def extract_random_element(row):\n",
    "    return random.choice(row['keywords'].split(',')).replace('[', '').replace(']', '')\n",
    "\n",
    "df['one_keyword'] = df.apply(extract_random_element, axis=1)"
   ]
  },
  {
   "cell_type": "code",
   "execution_count": 4,
   "metadata": {},
   "outputs": [
    {
     "data": {
      "text/html": [
       "<div>\n",
       "<style scoped>\n",
       "    .dataframe tbody tr th:only-of-type {\n",
       "        vertical-align: middle;\n",
       "    }\n",
       "\n",
       "    .dataframe tbody tr th {\n",
       "        vertical-align: top;\n",
       "    }\n",
       "\n",
       "    .dataframe thead th {\n",
       "        text-align: right;\n",
       "    }\n",
       "</style>\n",
       "<table border=\"1\" class=\"dataframe\">\n",
       "  <thead>\n",
       "    <tr style=\"text-align: right;\">\n",
       "      <th></th>\n",
       "      <th>text</th>\n",
       "      <th>keywords</th>\n",
       "      <th>one_keyword</th>\n",
       "    </tr>\n",
       "  </thead>\n",
       "  <tbody>\n",
       "    <tr>\n",
       "      <th>0</th>\n",
       "      <td>Oye, fjate que llega un indio al mdico y qu pa...</td>\n",
       "      <td>['indio', 'mdico', 'Toro Sentado', 'enfermo', ...</td>\n",
       "      <td>'mdico'</td>\n",
       "    </tr>\n",
       "    <tr>\n",
       "      <th>1</th>\n",
       "      <td>y llega el tema del medio que le dice doctor m...</td>\n",
       "      <td>['luna de viernes', 'seora', 'tres pechos', 'd...</td>\n",
       "      <td>'doctor'</td>\n",
       "    </tr>\n",
       "    <tr>\n",
       "      <th>2</th>\n",
       "      <td>Oye, llega un tipo a una tienda de deportes to...</td>\n",
       "      <td>['desnudo', 'tienda de deportes', 'zapatillas'...</td>\n",
       "      <td>'descuento'</td>\n",
       "    </tr>\n",
       "    <tr>\n",
       "      <th>3</th>\n",
       "      <td>Y llega la Caperucita Roja a ver a la abuelita...</td>\n",
       "      <td>['Caperucita Roja', 'abuelita', 'ojos grandes'...</td>\n",
       "      <td>'abuelita'</td>\n",
       "    </tr>\n",
       "    <tr>\n",
       "      <th>4</th>\n",
       "      <td>La situación, la crisis iniciática no tiene má...</td>\n",
       "      <td>['crisis', 'agua', 'playa', 'edificio en const...</td>\n",
       "      <td>'edificio en construcción'</td>\n",
       "    </tr>\n",
       "  </tbody>\n",
       "</table>\n",
       "</div>"
      ],
      "text/plain": [
       "                                                text  \\\n",
       "0  Oye, fjate que llega un indio al mdico y qu pa...   \n",
       "1  y llega el tema del medio que le dice doctor m...   \n",
       "2  Oye, llega un tipo a una tienda de deportes to...   \n",
       "3  Y llega la Caperucita Roja a ver a la abuelita...   \n",
       "4  La situación, la crisis iniciática no tiene má...   \n",
       "\n",
       "                                            keywords  \\\n",
       "0  ['indio', 'mdico', 'Toro Sentado', 'enfermo', ...   \n",
       "1  ['luna de viernes', 'seora', 'tres pechos', 'd...   \n",
       "2  ['desnudo', 'tienda de deportes', 'zapatillas'...   \n",
       "3  ['Caperucita Roja', 'abuelita', 'ojos grandes'...   \n",
       "4  ['crisis', 'agua', 'playa', 'edificio en const...   \n",
       "\n",
       "                   one_keyword  \n",
       "0                      'mdico'  \n",
       "1                     'doctor'  \n",
       "2                  'descuento'  \n",
       "3                   'abuelita'  \n",
       "4   'edificio en construcción'  "
      ]
     },
     "execution_count": 4,
     "metadata": {},
     "output_type": "execute_result"
    }
   ],
   "source": [
    "df.head()"
   ]
  },
  {
   "cell_type": "code",
   "execution_count": 6,
   "metadata": {},
   "outputs": [
    {
     "data": {
      "text/plain": [
       "(2118, 111)"
      ]
     },
     "execution_count": 6,
     "metadata": {},
     "output_type": "execute_result"
    }
   ],
   "source": [
    "df_train=df.sample(frac=0.95,random_state=200)\n",
    "df_eval=df.drop(df_train.index)\n",
    "len(df_train), len(df_eval)"
   ]
  },
  {
   "cell_type": "code",
   "execution_count": null,
   "metadata": {},
   "outputs": [],
   "source": [
    "weave.init(\"mistral_webinar\")\n",
    "ds_train = weave.Dataset(name=\"ds_train\", rows=df_train)\n",
    "ds_eval = weave.Dataset(name=\"ds_eval\", rows=df_eval)"
   ]
  }
 ],
 "metadata": {
  "kernelspec": {
   "display_name": ".venv",
   "language": "python",
   "name": "python3"
  },
  "language_info": {
   "codemirror_mode": {
    "name": "ipython",
    "version": 3
   },
   "file_extension": ".py",
   "mimetype": "text/x-python",
   "name": "python",
   "nbconvert_exporter": "python",
   "pygments_lexer": "ipython3",
   "version": "3.12.1"
  }
 },
 "nbformat": 4,
 "nbformat_minor": 2
}
