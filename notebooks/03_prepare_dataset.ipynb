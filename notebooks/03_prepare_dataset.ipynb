{
 "cells": [
  {
   "cell_type": "markdown",
   "metadata": {},
   "source": [
    "Code based on this fantastic notebook from [Thomas Capelle (wandb)](https://github.com/tcapelle/mistral_wandb/blob/main/mistral_wandb.ipynb)."
   ]
  },
  {
   "cell_type": "code",
   "execution_count": 10,
   "metadata": {},
   "outputs": [
    {
     "name": "stdout",
     "output_type": "stream",
     "text": [
      "The autoreload extension is already loaded. To reload it, use:\n",
      "  %reload_ext autoreload\n"
     ]
    },
    {
     "data": {
      "text/plain": [
       "True"
      ]
     },
     "execution_count": 10,
     "metadata": {},
     "output_type": "execute_result"
    }
   ],
   "source": [
    "%load_ext autoreload\n",
    "%autoreload 2\n",
    "\n",
    "import weave\n",
    "from loguru import logger\n",
    "import pandas as pd\n",
    "import random\n",
    "from mistralai.client import MistralClient\n",
    "from mistralai.models.jobs import WandbIntegrationIn, TrainingParameters\n",
    "\n",
    "from mistral_fine_tuning.utils import read_fine_tuning_file\n",
    "from mistral_fine_tuning.reformat import reformat_jsonl\n",
    "\n",
    "from dotenv import load_dotenv\n",
    "load_dotenv()\n"
   ]
  },
  {
   "cell_type": "code",
   "execution_count": 5,
   "metadata": {},
   "outputs": [],
   "source": [
    "df = pd.read_json('../data/processed/jokes.jsonl', lines=True)"
   ]
  },
  {
   "cell_type": "code",
   "execution_count": 6,
   "metadata": {},
   "outputs": [
    {
     "data": {
      "text/html": [
       "<div>\n",
       "<style scoped>\n",
       "    .dataframe tbody tr th:only-of-type {\n",
       "        vertical-align: middle;\n",
       "    }\n",
       "\n",
       "    .dataframe tbody tr th {\n",
       "        vertical-align: top;\n",
       "    }\n",
       "\n",
       "    .dataframe thead th {\n",
       "        text-align: right;\n",
       "    }\n",
       "</style>\n",
       "<table border=\"1\" class=\"dataframe\">\n",
       "  <thead>\n",
       "    <tr style=\"text-align: right;\">\n",
       "      <th></th>\n",
       "      <th>text</th>\n",
       "      <th>keyword</th>\n",
       "    </tr>\n",
       "  </thead>\n",
       "  <tbody>\n",
       "    <tr>\n",
       "      <th>0</th>\n",
       "      <td>Oye, fíjate que llega un indígena al médico y ...</td>\n",
       "      <td>indígena</td>\n",
       "    </tr>\n",
       "    <tr>\n",
       "      <th>1</th>\n",
       "      <td>Llega un hombre y le dice al doctor: 'Me acabo...</td>\n",
       "      <td>luna de miel</td>\n",
       "    </tr>\n",
       "    <tr>\n",
       "      <th>2</th>\n",
       "      <td>Un hombre llega a una tienda de deportes compl...</td>\n",
       "      <td>desnudo</td>\n",
       "    </tr>\n",
       "    <tr>\n",
       "      <th>3</th>\n",
       "      <td>Y llega Caperucita Roja a ver a la abuelita. \"...</td>\n",
       "      <td>Caperucita Roja</td>\n",
       "    </tr>\n",
       "    <tr>\n",
       "      <th>4</th>\n",
       "      <td>La situación, la crisis inicial, no tiene más....</td>\n",
       "      <td>crisis</td>\n",
       "    </tr>\n",
       "  </tbody>\n",
       "</table>\n",
       "</div>"
      ],
      "text/plain": [
       "                                                text          keyword\n",
       "0  Oye, fíjate que llega un indígena al médico y ...         indígena\n",
       "1  Llega un hombre y le dice al doctor: 'Me acabo...     luna de miel\n",
       "2  Un hombre llega a una tienda de deportes compl...          desnudo\n",
       "3  Y llega Caperucita Roja a ver a la abuelita. \"...  Caperucita Roja\n",
       "4  La situación, la crisis inicial, no tiene más....           crisis"
      ]
     },
     "execution_count": 6,
     "metadata": {},
     "output_type": "execute_result"
    }
   ],
   "source": [
    "df.head()"
   ]
  },
  {
   "cell_type": "code",
   "execution_count": 7,
   "metadata": {},
   "outputs": [
    {
     "data": {
      "text/plain": [
       "(2093, 110)"
      ]
     },
     "execution_count": 7,
     "metadata": {},
     "output_type": "execute_result"
    }
   ],
   "source": [
    "df_train=df.sample(frac=0.95, random_state=200)\n",
    "df_eval=df.drop(df_train.index)\n",
    "len(df_train), len(df_eval)"
   ]
  },
  {
   "cell_type": "code",
   "execution_count": 8,
   "metadata": {},
   "outputs": [
    {
     "name": "stdout",
     "output_type": "stream",
     "text": [
      "Logged in as Weights & Biases user: aastroza.\n",
      "View Weave data at https://wandb.ai/aastroza/mistral_hackathon/weave\n"
     ]
    }
   ],
   "source": [
    "weave.init(\"mistral_hackathon\")\n",
    "ds_train = weave.Dataset(name=\"ds_train\", rows=df_train)\n",
    "ds_eval = weave.Dataset(name=\"ds_eval\", rows=df_eval)"
   ]
  },
  {
   "cell_type": "code",
   "execution_count": 9,
   "metadata": {},
   "outputs": [
    {
     "name": "stdout",
     "output_type": "stream",
     "text": [
      "📦 Published to https://wandb.ai/aastroza/mistral_hackathon/weave/objects/ds_train/versions/Ub9gvxpKzTUY2BI5LuMq3Za0MBGUYgwwyqQX79s6iHo\n",
      "📦 Published to https://wandb.ai/aastroza/mistral_hackathon/weave/objects/ds_eval/versions/cAmPxPzqOalWMUYag6bpPlctzvG55Gego4JHA1qIprY\n"
     ]
    },
    {
     "data": {
      "text/plain": [
       "ObjectRef(entity='aastroza', project='mistral_hackathon', name='ds_eval', digest='cAmPxPzqOalWMUYag6bpPlctzvG55Gego4JHA1qIprY', extra=[])"
      ]
     },
     "execution_count": 9,
     "metadata": {},
     "output_type": "execute_result"
    }
   ],
   "source": [
    "weave.publish(ds_train)\n",
    "weave.publish(ds_eval)"
   ]
  },
  {
   "cell_type": "code",
   "execution_count": null,
   "metadata": {},
   "outputs": [],
   "source": []
  }
 ],
 "metadata": {
  "kernelspec": {
   "display_name": ".venv",
   "language": "python",
   "name": "python3"
  },
  "language_info": {
   "codemirror_mode": {
    "name": "ipython",
    "version": 3
   },
   "file_extension": ".py",
   "mimetype": "text/x-python",
   "name": "python",
   "nbconvert_exporter": "python",
   "pygments_lexer": "ipython3",
   "version": "3.12.1"
  }
 },
 "nbformat": 4,
 "nbformat_minor": 2
}
