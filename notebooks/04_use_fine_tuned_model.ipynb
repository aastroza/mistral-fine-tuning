{
 "cells": [
  {
   "cell_type": "code",
   "execution_count": 1,
   "metadata": {},
   "outputs": [
    {
     "data": {
      "text/plain": [
       "True"
      ]
     },
     "execution_count": 1,
     "metadata": {},
     "output_type": "execute_result"
    }
   ],
   "source": [
    "import os\n",
    "import weave\n",
    "from mistralai.async_client import MistralAsyncClient\n",
    "from mistralai.models.chat_completion import ChatMessage\n",
    "\n",
    "from dotenv import load_dotenv\n",
    "load_dotenv()"
   ]
  },
  {
   "cell_type": "code",
   "execution_count": 4,
   "metadata": {},
   "outputs": [],
   "source": [
    "client = MistralAsyncClient(api_key=os.environ[\"MISTRAL_API_KEY\"])\n",
    "\n",
    "@weave.op()  # <---- add this and you are good to go\n",
    "async def call_mistral(model:str, messages:list, temperature:float, **kwargs) -> str:\n",
    "    \"Call the Mistral API\"\n",
    "    chat_response = await client.chat(\n",
    "        model=model,\n",
    "        temperature=temperature,\n",
    "        messages=messages,\n",
    "        **kwargs,\n",
    "    )\n",
    "    return chat_response.choices[0].message.content"
   ]
  },
  {
   "cell_type": "code",
   "execution_count": 6,
   "metadata": {},
   "outputs": [],
   "source": [
    "@weave.op()\n",
    "async def generate_joke(keyword:str, model:str, temperature: float) -> str:\n",
    "    \"Generate a new joke\"\n",
    "     \n",
    "    messages = [ChatMessage(role=\"system\", content=\"You are a world-class comedy writer specializing in Chilean humor. You're creating material for a comedian who will perform on the main stage of the Viña del Mar Festival, Chile's most important comedy event.\"),\n",
    "              ChatMessage(role=\"user\", content=\"I have added a feature that forces you to response only in `locale=es` and consider only chilean spanish.\"),\n",
    "              ChatMessage(role=\"assistant\", content=\"Understood thank you. From now I will only response with `locale=es`\"),\n",
    "              ChatMessage(role=\"user\", content=f\"Write a joke in Chilean Spanish based on the following keyword: '{keyword}'.\"),\n",
    "            ]\n",
    "\n",
    "    joke = await call_mistral(model=model, messages=messages, temperature=temperature)\n",
    "    return {\"keyword\": keyword, \"joke\": joke}"
   ]
  },
  {
   "cell_type": "code",
   "execution_count": 10,
   "metadata": {},
   "outputs": [
    {
     "name": "stdout",
     "output_type": "stream",
     "text": [
      "id='open-mistral-7b' object='model' created=1719527329 owned_by='mistralai' root=None parent=None permission=[ModelPermission(id='modelperm-00ccf4e299c24e57973f8865831324a3', object='model_permission', created=1719527329, allow_create_engine=False, allow_sampling=True, allow_logprobs=False, allow_search_indices=False, allow_view=True, allow_fine_tuning=False, organization='*', group=None, is_blocking=False)]\n",
      "id='mistral-tiny-2312' object='model' created=1719527329 owned_by='mistralai' root=None parent=None permission=[ModelPermission(id='modelperm-5a663a81eead4cbe9e785f182721549a', object='model_permission', created=1719527329, allow_create_engine=False, allow_sampling=True, allow_logprobs=False, allow_search_indices=False, allow_view=True, allow_fine_tuning=False, organization='*', group=None, is_blocking=False)]\n",
      "id='mistral-tiny' object='model' created=1719527329 owned_by='mistralai' root=None parent=None permission=[ModelPermission(id='modelperm-d7587a71882f4351bc7a51ca86fff2ad', object='model_permission', created=1719527329, allow_create_engine=False, allow_sampling=True, allow_logprobs=False, allow_search_indices=False, allow_view=True, allow_fine_tuning=False, organization='*', group=None, is_blocking=False)]\n",
      "id='open-mixtral-8x7b' object='model' created=1719527329 owned_by='mistralai' root=None parent=None permission=[ModelPermission(id='modelperm-ada952fe108741a397d70a03c2b76c4d', object='model_permission', created=1719527329, allow_create_engine=False, allow_sampling=True, allow_logprobs=False, allow_search_indices=False, allow_view=True, allow_fine_tuning=False, organization='*', group=None, is_blocking=False)]\n",
      "id='open-mixtral-8x22b' object='model' created=1719527329 owned_by='mistralai' root=None parent=None permission=[ModelPermission(id='modelperm-a4fbe0dda76a46bea64759e0d17d1075', object='model_permission', created=1719527329, allow_create_engine=False, allow_sampling=True, allow_logprobs=False, allow_search_indices=False, allow_view=True, allow_fine_tuning=False, organization='*', group=None, is_blocking=False)]\n",
      "id='open-mixtral-8x22b-2404' object='model' created=1719527329 owned_by='mistralai' root=None parent=None permission=[ModelPermission(id='modelperm-1f9eecf6a242487ca2af4484fc6e15ba', object='model_permission', created=1719527329, allow_create_engine=False, allow_sampling=True, allow_logprobs=False, allow_search_indices=False, allow_view=True, allow_fine_tuning=False, organization='*', group=None, is_blocking=False)]\n",
      "id='mistral-small-2312' object='model' created=1719527329 owned_by='mistralai' root=None parent=None permission=[ModelPermission(id='modelperm-f09918199845482e88d11ce66f11d73f', object='model_permission', created=1719527329, allow_create_engine=False, allow_sampling=True, allow_logprobs=False, allow_search_indices=False, allow_view=True, allow_fine_tuning=False, organization='*', group=None, is_blocking=False)]\n",
      "id='mistral-small' object='model' created=1719527329 owned_by='mistralai' root=None parent=None permission=[ModelPermission(id='modelperm-53512c2798e345169367c5558c985960', object='model_permission', created=1719527329, allow_create_engine=False, allow_sampling=True, allow_logprobs=False, allow_search_indices=False, allow_view=True, allow_fine_tuning=False, organization='*', group=None, is_blocking=False)]\n",
      "id='mistral-small-2402' object='model' created=1719527329 owned_by='mistralai' root=None parent=None permission=[ModelPermission(id='modelperm-8f492a0fa328488181a1fccf6662375e', object='model_permission', created=1719527329, allow_create_engine=False, allow_sampling=True, allow_logprobs=False, allow_search_indices=False, allow_view=True, allow_fine_tuning=False, organization='*', group=None, is_blocking=False)]\n",
      "id='mistral-small-latest' object='model' created=1719527329 owned_by='mistralai' root=None parent=None permission=[ModelPermission(id='modelperm-9fadaf9a836c4774b9096b3ee9620102', object='model_permission', created=1719527329, allow_create_engine=False, allow_sampling=True, allow_logprobs=False, allow_search_indices=False, allow_view=True, allow_fine_tuning=False, organization='*', group=None, is_blocking=False)]\n",
      "id='mistral-medium-latest' object='model' created=1719527329 owned_by='mistralai' root=None parent=None permission=[ModelPermission(id='modelperm-ec555f5d02834408b9f4be0f84c3386d', object='model_permission', created=1719527329, allow_create_engine=False, allow_sampling=True, allow_logprobs=False, allow_search_indices=False, allow_view=True, allow_fine_tuning=False, organization='*', group=None, is_blocking=False)]\n",
      "id='mistral-medium-2312' object='model' created=1719527329 owned_by='mistralai' root=None parent=None permission=[ModelPermission(id='modelperm-8da10879555647649c1c54c2b2930786', object='model_permission', created=1719527329, allow_create_engine=False, allow_sampling=True, allow_logprobs=False, allow_search_indices=False, allow_view=True, allow_fine_tuning=False, organization='*', group=None, is_blocking=False)]\n",
      "id='mistral-medium' object='model' created=1719527329 owned_by='mistralai' root=None parent=None permission=[ModelPermission(id='modelperm-444a788afc6042908d6623758616d682', object='model_permission', created=1719527329, allow_create_engine=False, allow_sampling=True, allow_logprobs=False, allow_search_indices=False, allow_view=True, allow_fine_tuning=False, organization='*', group=None, is_blocking=False)]\n",
      "id='mistral-large-latest' object='model' created=1719527329 owned_by='mistralai' root=None parent=None permission=[ModelPermission(id='modelperm-f03dc41f11164de38f2f14d84d7ac0ff', object='model_permission', created=1719527329, allow_create_engine=False, allow_sampling=True, allow_logprobs=False, allow_search_indices=False, allow_view=True, allow_fine_tuning=False, organization='*', group=None, is_blocking=False)]\n",
      "id='mistral-large-2402' object='model' created=1719527329 owned_by='mistralai' root=None parent=None permission=[ModelPermission(id='modelperm-418eb17f892d4f3cb8b95d0455b051af', object='model_permission', created=1719527329, allow_create_engine=False, allow_sampling=True, allow_logprobs=False, allow_search_indices=False, allow_view=True, allow_fine_tuning=False, organization='*', group=None, is_blocking=False)]\n",
      "id='codestral-2405' object='model' created=1719527329 owned_by='mistralai' root=None parent=None permission=[ModelPermission(id='modelperm-803043f7e74345c4b7bf1fce47779b10', object='model_permission', created=1719527329, allow_create_engine=False, allow_sampling=True, allow_logprobs=False, allow_search_indices=False, allow_view=True, allow_fine_tuning=False, organization='*', group=None, is_blocking=False)]\n",
      "id='codestral-latest' object='model' created=1719527329 owned_by='mistralai' root=None parent=None permission=[ModelPermission(id='modelperm-69e7a63c8e024addae07050d82b03be9', object='model_permission', created=1719527329, allow_create_engine=False, allow_sampling=True, allow_logprobs=False, allow_search_indices=False, allow_view=True, allow_fine_tuning=False, organization='*', group=None, is_blocking=False)]\n",
      "id='mistral-embed' object='model' created=1719527329 owned_by='mistralai' root=None parent=None permission=[ModelPermission(id='modelperm-0a13ca731b5f4b6dbced1528cffa8472', object='model_permission', created=1719527329, allow_create_engine=False, allow_sampling=True, allow_logprobs=False, allow_search_indices=False, allow_view=True, allow_fine_tuning=False, organization='*', group=None, is_blocking=False)]\n",
      "id='ft:open-mistral-7b:fd6d41e7:20240627:5c4d3de0' object='model' created=1719457522 owned_by='fd6d41e7-ec02-4b2c-88d5-02169b506c9a' root='open-mistral-7b' parent=None permission=[ModelPermission(id='modelperm-6b6f6fe841794f59902cfb9ddf5a9bc1', object='model_permission', created=1719527329, allow_create_engine=False, allow_sampling=True, allow_logprobs=False, allow_search_indices=False, allow_view=True, allow_fine_tuning=True, organization='fd6d41e7-ec02-4b2c-88d5-02169b506c9a', group=None, is_blocking=False)]\n",
      "id='ft:open-mistral-7b:fd6d41e7:20240627:53b2256c' object='model' created=1719465667 owned_by='fd6d41e7-ec02-4b2c-88d5-02169b506c9a' root='open-mistral-7b' parent=None permission=[ModelPermission(id='modelperm-d5e5906dcd2047039e3936cdeb40fba1', object='model_permission', created=1719527329, allow_create_engine=False, allow_sampling=True, allow_logprobs=False, allow_search_indices=False, allow_view=True, allow_fine_tuning=True, organization='fd6d41e7-ec02-4b2c-88d5-02169b506c9a', group=None, is_blocking=False)]\n",
      "id='ft:open-mistral-7b:fd6d41e7:20240627:eabccc57' object='model' created=1719460974 owned_by='fd6d41e7-ec02-4b2c-88d5-02169b506c9a' root='open-mistral-7b' parent=None permission=[ModelPermission(id='modelperm-0fca090e285e4a3093f26c2749aac093', object='model_permission', created=1719527329, allow_create_engine=False, allow_sampling=True, allow_logprobs=False, allow_search_indices=False, allow_view=True, allow_fine_tuning=True, organization='fd6d41e7-ec02-4b2c-88d5-02169b506c9a', group=None, is_blocking=False)]\n"
     ]
    }
   ],
   "source": [
    "list_models_response = await client.list_models()\n",
    "for model in list_models_response.data:\n",
    "    print(model)"
   ]
  },
  {
   "cell_type": "code",
   "execution_count": 7,
   "metadata": {},
   "outputs": [
    {
     "name": "stdout",
     "output_type": "stream",
     "text": [
      "Logged in as Weights & Biases user: aastroza.\n",
      "View Weave data at https://wandb.ai/aastroza/mistral_hackathon/weave\n",
      "🍩 https://wandb.ai/aastroza/mistral_hackathon/r/call/0d5d7e5c-325e-4b9b-a349-47d6df7ea6bf\n",
      "{'keyword': 'familia', 'joke': 'Claro, aquí tienes un chiste en chileno sobre la familia:\\n\\n\"¿Cuál es el problema de tener muchos hermanos?\\n\\nPues, si uno se pierde, no te importa, ya hay otro que te pueda reemplazar.\"'}\n"
     ]
    }
   ],
   "source": [
    "weave.init(\"mistral_hackathon\")\n",
    "out = await generate_joke(keyword=\"familia\", model=\"open-mistral-7b\", temperature=0)\n",
    "print(out)"
   ]
  },
  {
   "cell_type": "code",
   "execution_count": 9,
   "metadata": {},
   "outputs": [
    {
     "name": "stdout",
     "output_type": "stream",
     "text": [
      "🍩 https://wandb.ai/aastroza/mistral_hackathon/r/call/f2b3ad3d-d8b5-489f-8dec-10b9be835172\n",
      "{'keyword': 'familia', 'joke': \"Mi mamá, a los 85 años, tiene su celular y siempre está conectada. Un día, recibe el llamado y dice: 'Hola, amor. Hola, mamá. No puede hablar ahora, estoy dando una masaje con el visco.'\"}\n"
     ]
    }
   ],
   "source": [
    "out = await generate_joke(keyword=\"familia\", model=\"ft:open-mistral-7b:fd6d41e7:20240627:eabccc57\", temperature=0.5)\n",
    "print(out)"
   ]
  }
 ],
 "metadata": {
  "kernelspec": {
   "display_name": ".venv",
   "language": "python",
   "name": "python3"
  },
  "language_info": {
   "codemirror_mode": {
    "name": "ipython",
    "version": 3
   },
   "file_extension": ".py",
   "mimetype": "text/x-python",
   "name": "python",
   "nbconvert_exporter": "python",
   "pygments_lexer": "ipython3",
   "version": "3.12.1"
  }
 },
 "nbformat": 4,
 "nbformat_minor": 2
}
