{
 "cells": [
  {
   "cell_type": "code",
   "execution_count": 61,
   "metadata": {},
   "outputs": [
    {
     "name": "stdout",
     "output_type": "stream",
     "text": [
      "The autoreload extension is already loaded. To reload it, use:\n",
      "  %reload_ext autoreload\n"
     ]
    },
    {
     "data": {
      "text/plain": [
       "True"
      ]
     },
     "execution_count": 61,
     "metadata": {},
     "output_type": "execute_result"
    }
   ],
   "source": [
    "%load_ext autoreload\n",
    "%autoreload 2\n",
    "\n",
    "from loguru import logger\n",
    "import os\n",
    "from mistralai.client import MistralClient\n",
    "from mistralai.models.jobs import WandbIntegrationIn, TrainingParameters\n",
    "\n",
    "from mistral_fine_tuning.utils import read_fine_tuning_file\n",
    "from mistral_fine_tuning.reformat import reformat_jsonl\n",
    "\n",
    "from dotenv import load_dotenv\n",
    "load_dotenv()"
   ]
  },
  {
   "cell_type": "code",
   "execution_count": 46,
   "metadata": {},
   "outputs": [
    {
     "name": "stderr",
     "output_type": "stream",
     "text": [
      "\u001b[32m2024-06-26 22:12:37.772\u001b[0m | \u001b[31m\u001b[1mERROR   \u001b[0m | \u001b[36mmistral_fine_tuning.utils\u001b[0m:\u001b[36mprocess_keywords\u001b[0m:\u001b[36m57\u001b[0m - \u001b[31m\u001b[1mError processing keywords: invalid syntax. Perhaps you forgot a comma? (<string>, line 1)\u001b[0m\n"
     ]
    }
   ],
   "source": [
    "df = read_fine_tuning_file('../data/interim/jokes_fine_tuning.jsonl')"
   ]
  },
  {
   "cell_type": "code",
   "execution_count": 47,
   "metadata": {},
   "outputs": [
    {
     "data": {
      "text/html": [
       "<div>\n",
       "<style scoped>\n",
       "    .dataframe tbody tr th:only-of-type {\n",
       "        vertical-align: middle;\n",
       "    }\n",
       "\n",
       "    .dataframe tbody tr th {\n",
       "        vertical-align: top;\n",
       "    }\n",
       "\n",
       "    .dataframe thead th {\n",
       "        text-align: right;\n",
       "    }\n",
       "</style>\n",
       "<table border=\"1\" class=\"dataframe\">\n",
       "  <thead>\n",
       "    <tr style=\"text-align: right;\">\n",
       "      <th></th>\n",
       "      <th>text</th>\n",
       "      <th>keywords</th>\n",
       "    </tr>\n",
       "  </thead>\n",
       "  <tbody>\n",
       "    <tr>\n",
       "      <th>0</th>\n",
       "      <td>Oye, fjate que llega un indio al mdico y qu pa...</td>\n",
       "      <td>['indio', 'mdico', 'Toro Sentado', 'enfermo', ...</td>\n",
       "    </tr>\n",
       "    <tr>\n",
       "      <th>1</th>\n",
       "      <td>y me dio qu le pas vena una delegacin de turno...</td>\n",
       "      <td>['delegacin de turnos', 'Viña del Mar', 'bus d...</td>\n",
       "    </tr>\n",
       "    <tr>\n",
       "      <th>2</th>\n",
       "      <td>Entonces el gua turstico si ustedes miran a la...</td>\n",
       "      <td>['gua turstico', 'izquierda', 'derecha', 'quin...</td>\n",
       "    </tr>\n",
       "    <tr>\n",
       "      <th>3</th>\n",
       "      <td>y llega el tema del medio que le dice doctor m...</td>\n",
       "      <td>['luna de viernes', 'seora', 'tres pechos', 'd...</td>\n",
       "    </tr>\n",
       "    <tr>\n",
       "      <th>4</th>\n",
       "      <td>conversando amigo y uno le dice la poblacin un...</td>\n",
       "      <td>['Viagra', 'robo', 'medicamento', 'polica', 'h...</td>\n",
       "    </tr>\n",
       "    <tr>\n",
       "      <th>5</th>\n",
       "      <td>Oye, ¿sabes que hay un logo haciendo ese lindo...</td>\n",
       "      <td>['logo', 'Lola', 'discoteca', 'Hola', 'llamarse']</td>\n",
       "    </tr>\n",
       "    <tr>\n",
       "      <th>6</th>\n",
       "      <td>Deseas tomar algo?, bueno le dijo, pídeme un t...</td>\n",
       "      <td>['tomar algo', 'trago fuerte']</td>\n",
       "    </tr>\n",
       "    <tr>\n",
       "      <th>7</th>\n",
       "      <td>Oye, llega un tipo a una tienda de deportes to...</td>\n",
       "      <td>['desnudo', 'tienda de deportes', 'zapatillas'...</td>\n",
       "    </tr>\n",
       "    <tr>\n",
       "      <th>8</th>\n",
       "      <td>Y llega la Caperucita Roja a ver a la abuelita...</td>\n",
       "      <td>['Caperucita Roja', 'abuelita', 'ojos grandes'...</td>\n",
       "    </tr>\n",
       "    <tr>\n",
       "      <th>9</th>\n",
       "      <td>Gracias, gracias por invitarnos, la cuadragési...</td>\n",
       "      <td>['Festival de la cancin de Via del Mar', 'ltim...</td>\n",
       "    </tr>\n",
       "    <tr>\n",
       "      <th>10</th>\n",
       "      <td>La situación, la crisis iniciática no tiene má...</td>\n",
       "      <td>['crisis', 'agua', 'playa', 'edificio en const...</td>\n",
       "    </tr>\n",
       "    <tr>\n",
       "      <th>11</th>\n",
       "      <td>A Cuba no, al paradero veinticinco. Hoy estamo...</td>\n",
       "      <td>['Cuba', 'paradero veinticinco', 'comida', 'ol...</td>\n",
       "    </tr>\n",
       "    <tr>\n",
       "      <th>12</th>\n",
       "      <td>Triste, tan tonto, cree que la mata Sánchez ca...</td>\n",
       "      <td>['triste', 'tonto', 'mata', 'canta', 'plata']</td>\n",
       "    </tr>\n",
       "    <tr>\n",
       "      <th>13</th>\n",
       "      <td>Me cambiaron el nombre y cómo te llaman? No, m...</td>\n",
       "      <td>['nombre', 'llamar', 'dicen', 'ubicas', 'conoc...</td>\n",
       "    </tr>\n",
       "    <tr>\n",
       "      <th>14</th>\n",
       "      <td>Estudio fotográfico, le dijo: 'Señor, cuánto m...</td>\n",
       "      <td>['estudio fotogrfico', 'foto', 'luca', 'marco'...</td>\n",
       "    </tr>\n",
       "    <tr>\n",
       "      <th>15</th>\n",
       "      <td>Entonces, no me decís. 'De nada', así que no s...</td>\n",
       "      <td>['no me decís', 'De nada', 'operación']</td>\n",
       "    </tr>\n",
       "    <tr>\n",
       "      <th>16</th>\n",
       "      <td>Luego me saca la lengua, me hace que me trata ...</td>\n",
       "      <td>['lengua', 'trata', 'mal']</td>\n",
       "    </tr>\n",
       "    <tr>\n",
       "      <th>17</th>\n",
       "      <td>Pero ese que así no tenía bastante Confort. Ah...</td>\n",
       "      <td>['Confort', 'poque', 'poto sucio']</td>\n",
       "    </tr>\n",
       "    <tr>\n",
       "      <th>18</th>\n",
       "      <td>Un grupo de gallegos llegó a jugar y el crupie...</td>\n",
       "      <td>['grupo de gallegos', 'jugar', 'crupier', 'hag...</td>\n",
       "    </tr>\n",
       "    <tr>\n",
       "      <th>19</th>\n",
       "      <td>Un hombre se hizo millonario vendiendo Biblias...</td>\n",
       "      <td>['millonario', 'vendiendo Biblias', 'imprenta'...</td>\n",
       "    </tr>\n",
       "  </tbody>\n",
       "</table>\n",
       "</div>"
      ],
      "text/plain": [
       "                                                 text  \\\n",
       "0   Oye, fjate que llega un indio al mdico y qu pa...   \n",
       "1   y me dio qu le pas vena una delegacin de turno...   \n",
       "2   Entonces el gua turstico si ustedes miran a la...   \n",
       "3   y llega el tema del medio que le dice doctor m...   \n",
       "4   conversando amigo y uno le dice la poblacin un...   \n",
       "5   Oye, ¿sabes que hay un logo haciendo ese lindo...   \n",
       "6   Deseas tomar algo?, bueno le dijo, pídeme un t...   \n",
       "7   Oye, llega un tipo a una tienda de deportes to...   \n",
       "8   Y llega la Caperucita Roja a ver a la abuelita...   \n",
       "9   Gracias, gracias por invitarnos, la cuadragési...   \n",
       "10  La situación, la crisis iniciática no tiene má...   \n",
       "11  A Cuba no, al paradero veinticinco. Hoy estamo...   \n",
       "12  Triste, tan tonto, cree que la mata Sánchez ca...   \n",
       "13  Me cambiaron el nombre y cómo te llaman? No, m...   \n",
       "14  Estudio fotográfico, le dijo: 'Señor, cuánto m...   \n",
       "15  Entonces, no me decís. 'De nada', así que no s...   \n",
       "16  Luego me saca la lengua, me hace que me trata ...   \n",
       "17  Pero ese que así no tenía bastante Confort. Ah...   \n",
       "18  Un grupo de gallegos llegó a jugar y el crupie...   \n",
       "19  Un hombre se hizo millonario vendiendo Biblias...   \n",
       "\n",
       "                                             keywords  \n",
       "0   ['indio', 'mdico', 'Toro Sentado', 'enfermo', ...  \n",
       "1   ['delegacin de turnos', 'Viña del Mar', 'bus d...  \n",
       "2   ['gua turstico', 'izquierda', 'derecha', 'quin...  \n",
       "3   ['luna de viernes', 'seora', 'tres pechos', 'd...  \n",
       "4   ['Viagra', 'robo', 'medicamento', 'polica', 'h...  \n",
       "5   ['logo', 'Lola', 'discoteca', 'Hola', 'llamarse']  \n",
       "6                      ['tomar algo', 'trago fuerte']  \n",
       "7   ['desnudo', 'tienda de deportes', 'zapatillas'...  \n",
       "8   ['Caperucita Roja', 'abuelita', 'ojos grandes'...  \n",
       "9   ['Festival de la cancin de Via del Mar', 'ltim...  \n",
       "10  ['crisis', 'agua', 'playa', 'edificio en const...  \n",
       "11  ['Cuba', 'paradero veinticinco', 'comida', 'ol...  \n",
       "12      ['triste', 'tonto', 'mata', 'canta', 'plata']  \n",
       "13  ['nombre', 'llamar', 'dicen', 'ubicas', 'conoc...  \n",
       "14  ['estudio fotogrfico', 'foto', 'luca', 'marco'...  \n",
       "15            ['no me decís', 'De nada', 'operación']  \n",
       "16                         ['lengua', 'trata', 'mal']  \n",
       "17                 ['Confort', 'poque', 'poto sucio']  \n",
       "18  ['grupo de gallegos', 'jugar', 'crupier', 'hag...  \n",
       "19  ['millonario', 'vendiendo Biblias', 'imprenta'...  "
      ]
     },
     "execution_count": 47,
     "metadata": {},
     "output_type": "execute_result"
    }
   ],
   "source": [
    "df.head(20)"
   ]
  },
  {
   "cell_type": "code",
   "execution_count": 48,
   "metadata": {},
   "outputs": [],
   "source": [
    "def create_messages(row):\n",
    "    messages = [\n",
    "        {\n",
    "            \"role\": \"system\",\n",
    "            \"content\": \"You are a world-class comedy writer specializing in Chilean humor. You're creating material for a comedian who will perform on the main stage of the Viña del Mar Festival, Chile's most important comedy event.\"\n",
    "        },\n",
    "        {\n",
    "            \"role\": \"user\",\n",
    "            \"content\": \"I have added a feature that forces you to response only in `locale=es` and consider only chilean spanish.\",\n",
    "        },\n",
    "        {\n",
    "            \"role\": \"assistant\",\n",
    "            \"content\": \"Understood thank you. From now I will only response with `locale=es`\",\n",
    "        },\n",
    "        {\n",
    "            \"role\": \"user\",\n",
    "            \"content\": \"Write a joke in Chilean Spanish based on the following keywords: \" + row['keywords'] + \".\"\n",
    "        },\n",
    "        {\n",
    "            \"role\": \"assistant\",\n",
    "            \"content\": row['text']\n",
    "        }\n",
    "    ]\n",
    "\n",
    "    return messages"
   ]
  },
  {
   "cell_type": "code",
   "execution_count": 49,
   "metadata": {},
   "outputs": [],
   "source": [
    "df['messages'] = df.apply(create_messages, axis=1)"
   ]
  },
  {
   "cell_type": "code",
   "execution_count": 50,
   "metadata": {},
   "outputs": [
    {
     "data": {
      "text/plain": [
       "[{'role': 'system',\n",
       "  'content': \"You are a world-class comedy writer specializing in Chilean humor. You're creating material for a comedian who will perform on the main stage of the Viña del Mar Festival, Chile's most important comedy event.\"},\n",
       " {'role': 'user',\n",
       "  'content': 'I have added a feature that forces you to response only in `locale=es` and consider only chilean spanish.'},\n",
       " {'role': 'assistant',\n",
       "  'content': 'Understood thank you. From now I will only response with `locale=es`'},\n",
       " {'role': 'user',\n",
       "  'content': \"Write a joke in Chilean Spanish based on the following keywords: ['indio', 'mdico', 'Toro Sentado', 'enfermo', 'viagra'].\"},\n",
       " {'role': 'assistant',\n",
       "  'content': 'Oye, fjate que llega un indio al mdico y qu pasa nuestro gran jefe de Toro Sentado estar enfermo ah dice Y qu tiene Gran Jefe Toro Sentado Gran Jefe Toro Sentado a tomarse dos frascos de viagra hgalo pasar llmelo todo parado venir'}]"
      ]
     },
     "execution_count": 50,
     "metadata": {},
     "output_type": "execute_result"
    }
   ],
   "source": [
    "df.loc[0, 'messages']"
   ]
  },
  {
   "cell_type": "code",
   "execution_count": 54,
   "metadata": {},
   "outputs": [],
   "source": [
    "df_train=df.sample(frac=0.995,random_state=200)\n",
    "df_eval=df.drop(df_train.index)\n",
    "\n",
    "df_train.to_json(\"../data/processed/jokes_train.jsonl\", orient=\"records\", lines=True)\n",
    "df_eval.to_json(\"../data/processed/jokes_eval.jsonl\", orient=\"records\", lines=True)"
   ]
  },
  {
   "cell_type": "code",
   "execution_count": 58,
   "metadata": {},
   "outputs": [],
   "source": [
    "reformat_jsonl(\"../data/processed/jokes_train.jsonl\")\n",
    "reformat_jsonl(\"../data/processed/jokes_eval.jsonl\")"
   ]
  },
  {
   "cell_type": "code",
   "execution_count": 60,
   "metadata": {},
   "outputs": [],
   "source": [
    "api_key = os.environ.get(\"MISTRAL_API_KEY\")\n",
    "client = MistralClient(api_key=api_key)\n",
    "\n",
    "with open(\"../data/processed/reformatted_jokes_train.jsonl\", \"rb\") as f:\n",
    "    ultrachat_chunk_train = client.files.create(file=(\"reformatted_jokes_train.jsonl\", f))\n",
    "with open(\"../data/processed/reformatted_jokes_eval.jsonl\", \"rb\") as f:\n",
    "    ultrachat_chunk_eval = client.files.create(file=(\"reformatted_jokes_eval.jsonl\", f))"
   ]
  },
  {
   "cell_type": "code",
   "execution_count": 62,
   "metadata": {},
   "outputs": [],
   "source": [
    "wandb_api_key = os.environ.get(\"WANDB_API_KEY\")\n",
    "\n",
    "created_jobs = client.jobs.create(\n",
    "    model=\"open-mistral-7b\",\n",
    "    training_files=[ultrachat_chunk_train.id],\n",
    "    validation_files=[ultrachat_chunk_eval.id],\n",
    "    hyperparameters=TrainingParameters(\n",
    "        training_steps=300,\n",
    "        learning_rate=0.0001,\n",
    "    ),\n",
    "    integrations=[\n",
    "        WandbIntegrationIn(\n",
    "            project=\"mistral_fine_tuning_api\",\n",
    "            run_name=\"test\",\n",
    "            api_key=wandb_api_key,\n",
    "        ).model_dump()\n",
    "    ]\n",
    ")"
   ]
  }
 ],
 "metadata": {
  "kernelspec": {
   "display_name": ".venv",
   "language": "python",
   "name": "python3"
  },
  "language_info": {
   "codemirror_mode": {
    "name": "ipython",
    "version": 3
   },
   "file_extension": ".py",
   "mimetype": "text/x-python",
   "name": "python",
   "nbconvert_exporter": "python",
   "pygments_lexer": "ipython3",
   "version": "3.12.1"
  }
 },
 "nbformat": 4,
 "nbformat_minor": 2
}
