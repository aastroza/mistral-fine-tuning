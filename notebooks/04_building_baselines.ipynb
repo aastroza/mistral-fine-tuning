{
 "cells": [
  {
   "cell_type": "code",
   "execution_count": null,
   "metadata": {},
   "outputs": [],
   "source": []
  },
  {
   "cell_type": "code",
   "execution_count": 73,
   "metadata": {},
   "outputs": [
    {
     "data": {
      "text/plain": [
       "True"
      ]
     },
     "execution_count": 73,
     "metadata": {},
     "output_type": "execute_result"
    }
   ],
   "source": [
    "import os\n",
    "import asyncio\n",
    "import json\n",
    "import weave\n",
    "import pandas as pd\n",
    "from mistralai.async_client import MistralAsyncClient\n",
    "from mistralai.client import MistralClient\n",
    "from mistralai.models.jobs import TrainingParameters, WandbIntegrationIn\n",
    "from mistralai.models.chat_completion import ChatMessage\n",
    "\n",
    "from dotenv import load_dotenv\n",
    "load_dotenv()\n"
   ]
  },
  {
   "cell_type": "code",
   "execution_count": 15,
   "metadata": {},
   "outputs": [],
   "source": [
    "client = MistralAsyncClient(api_key=os.environ[\"MISTRAL_API_KEY\"])\n",
    "\n",
    "weave.init(\"mistral_hackathon\")\n",
    "\n",
    "@weave.op()\n",
    "async def call_mistral(model:str, messages:list, **kwargs) -> str:\n",
    "    \"Call the Mistral API\"\n",
    "    chat_response = await client.chat(\n",
    "        model=model,\n",
    "        messages=messages,\n",
    "        **kwargs,\n",
    "    )\n",
    "    return chat_response.choices[0].message.content"
   ]
  },
  {
   "cell_type": "code",
   "execution_count": 30,
   "metadata": {},
   "outputs": [],
   "source": [
    "def create_messages(keyword: str, cls=ChatMessage):\n",
    "    messages = [\n",
    "        cls(\n",
    "            role=\"user\", \n",
    "            content=(\n",
    "                \"You are a world-class comedy writer specializing in Chilean humor.\"\n",
    "                \"You will write a joke in Chilean Spanish based on the keyword provided by the user.\"\n",
    "                \"Only output the joke, ignore any other explanation or context.\"\n",
    "                \"Write in Chilean Spanish.\"\n",
    "                 )\n",
    "        ),\n",
    "        cls(\n",
    "            role=\"assistant\", \n",
    "            content=(\n",
    "                \"Sure, I'd be happy to help writing a new joke in Chilean Spanish.\")\n",
    "        ),\n",
    "        cls(\n",
    "            role=\"user\", \n",
    "            content=f\"Write a joke in Chilean Spanish based on the following keyword: {keyword}.\"\n",
    "        )\n",
    "    ]\n",
    "    return messages"
   ]
  },
  {
   "cell_type": "code",
   "execution_count": 31,
   "metadata": {},
   "outputs": [],
   "source": [
    "@weave.op()\n",
    "async def humor_writer(keyword:str, model:str) -> str:\n",
    "    \"Write a new joke\"\n",
    "     \n",
    "    messages = create_messages(keyword=keyword)\n",
    "\n",
    "    joke = await call_mistral(model=model, messages=messages)\n",
    "    return {\"keyword\": keyword, \"joke\": joke}\n",
    "\n"
   ]
  },
  {
   "cell_type": "code",
   "execution_count": 32,
   "metadata": {},
   "outputs": [],
   "source": [
    "ds_eval = weave.ref('ds_eval:latest').get()"
   ]
  },
  {
   "cell_type": "code",
   "execution_count": 33,
   "metadata": {},
   "outputs": [
    {
     "name": "stdout",
     "output_type": "stream",
     "text": [
      "🍩 https://wandb.ai/aastroza/mistral_hackathon/r/call/fa320baf-7131-430e-80b2-0c79f6548046\n",
      "pastor\n",
      "Ahí va, aquí tienes un chiste en español chileno basado en la palabra \"pastor\":\n",
      "\n",
      "¿Sabes por qué el pastor lleva siempre un reloj despertador?\n",
      "\n",
      "Porque no quiere perderse la oportunidad de despertar a sus ovejas a tiempo para la misa matinal!\n",
      "\n",
      "(Translation: Do you know why the shepherd always carries an alarm clock? Because he doesn't want to miss the chance to wake up his sheep on time for morning mass!)\n"
     ]
    }
   ],
   "source": [
    "res = await humor_writer(keyword=ds_eval.rows[0]['keyword'], model=\"mistral-medium-latest\")\n",
    "print(ds_eval.rows[0]['keyword'])\n",
    "print(res[\"joke\"])"
   ]
  },
  {
   "cell_type": "code",
   "execution_count": 43,
   "metadata": {},
   "outputs": [],
   "source": [
    "class MistralModel(weave.Model):\n",
    "    model: str\n",
    "    temperature: float = 0.7\n",
    "    \n",
    "    @weave.op\n",
    "    def create_messages(self, keyword:str):\n",
    "        return create_messages(keyword)\n",
    "\n",
    "    @weave.op\n",
    "    async def predict(self, keyword:str):\n",
    "        messages = self.create_messages(keyword)\n",
    "        return await call_mistral(model=self.model, messages=messages)"
   ]
  },
  {
   "cell_type": "code",
   "execution_count": 34,
   "metadata": {},
   "outputs": [],
   "source": [
    "mistral_medium = MistralModel(model=\"mistral-medium-latest\")"
   ]
  },
  {
   "cell_type": "code",
   "execution_count": 39,
   "metadata": {},
   "outputs": [
    {
     "name": "stdout",
     "output_type": "stream",
     "text": [
      "🍩 https://wandb.ai/aastroza/mistral_hackathon/r/call/02749644-4092-4fd3-b96c-e7fe33f8ce4d\n",
      "🍩 https://wandb.ai/aastroza/mistral_hackathon/r/call/eeeb1f35-6fbc-43ac-ae41-19ecaa9b83d6\n",
      "🍩 https://wandb.ai/aastroza/mistral_hackathon/r/call/eefc6b22-2c7e-41dc-b896-85d8bb7a543e\n",
      "🍩 https://wandb.ai/aastroza/mistral_hackathon/r/call/f067f13f-c7ce-48d7-9b20-e318680169ab\n",
      "🍩 https://wandb.ai/aastroza/mistral_hackathon/r/call/d71dc188-351f-478b-a292-2764bf39c2ca\n",
      "🍩 https://wandb.ai/aastroza/mistral_hackathon/r/call/7fb18d53-4a61-472b-b9cf-d2fdee73077b\n",
      "🍩 https://wandb.ai/aastroza/mistral_hackathon/r/call/83b6e4b2-60d5-4ad1-a8ae-9ba57088266f\n",
      "🍩 https://wandb.ai/aastroza/mistral_hackathon/r/call/a904ac21-2826-4a49-aeda-39d46565f441\n",
      "🍩 https://wandb.ai/aastroza/mistral_hackathon/r/call/01eee0d8-88cc-475f-8a22-92816758cf33\n",
      "🍩 https://wandb.ai/aastroza/mistral_hackathon/r/call/0baa9147-eaba-4b86-84b1-a2122b81dec3\n",
      "🍩 https://wandb.ai/aastroza/mistral_hackathon/r/call/f19718b2-09eb-4fa8-8e22-ae1c9e2080d9\n",
      "🍩 https://wandb.ai/aastroza/mistral_hackathon/r/call/386ef8d1-e19e-4f3a-929c-3d8fbd78e0cd\n",
      "🍩 https://wandb.ai/aastroza/mistral_hackathon/r/call/6f348748-1cd2-4be8-97a1-cb106fd37728\n",
      "🍩 https://wandb.ai/aastroza/mistral_hackathon/r/call/ce491ddd-3547-4213-8095-6d417c7fee8d\n",
      "🍩 https://wandb.ai/aastroza/mistral_hackathon/r/call/482db486-d972-4215-9924-0e1132fc06e3\n",
      "🍩 https://wandb.ai/aastroza/mistral_hackathon/r/call/9d74c7c0-0c43-4636-ac7d-819c9ce1434a\n",
      "🍩 https://wandb.ai/aastroza/mistral_hackathon/r/call/72e9c28b-7adf-46c6-a76d-951166bf42b2\n",
      "🍩 https://wandb.ai/aastroza/mistral_hackathon/r/call/df782c8b-4013-45dc-ac65-e66b049789db\n",
      "🍩 https://wandb.ai/aastroza/mistral_hackathon/r/call/40e2b664-d8c0-49eb-94b4-4ac77c7b1801\n",
      "🍩 https://wandb.ai/aastroza/mistral_hackathon/r/call/16c50552-9cb9-4e2f-98fa-f9323e9ba023\n",
      "🍩 https://wandb.ai/aastroza/mistral_hackathon/r/call/4a860541-083f-4d32-afbb-a1ede3e463df\n",
      "🍩 https://wandb.ai/aastroza/mistral_hackathon/r/call/dc8d2538-f158-4ebe-b845-85d8dae8a9ee\n",
      "🍩 https://wandb.ai/aastroza/mistral_hackathon/r/call/7848eadf-06e6-4814-a711-f71a017d112e\n",
      "🍩 https://wandb.ai/aastroza/mistral_hackathon/r/call/81471774-95b0-4931-80f1-a8c1d18cd1a8\n",
      "🍩 https://wandb.ai/aastroza/mistral_hackathon/r/call/0cb8cbc3-676b-4745-8ab0-938abd4e2fef\n",
      "🍩 https://wandb.ai/aastroza/mistral_hackathon/r/call/3f20cc47-1e1f-46c4-ba97-eeaa008870e7\n",
      "🍩 https://wandb.ai/aastroza/mistral_hackathon/r/call/c1824067-fb2a-4286-9ff5-584ef68c7fce\n",
      "🍩 https://wandb.ai/aastroza/mistral_hackathon/r/call/32cf887c-269a-4b13-90ea-847fa63b8f5b\n",
      "🍩 https://wandb.ai/aastroza/mistral_hackathon/r/call/09700ea6-f7c0-4cb5-9846-5181ac9f6c6b\n",
      "🍩 https://wandb.ai/aastroza/mistral_hackathon/r/call/b0cb10a2-574c-4cd0-82af-93a2b4c6636d\n",
      "🍩 https://wandb.ai/aastroza/mistral_hackathon/r/call/6b85dd2a-d993-4a68-911a-ea21455d832f\n",
      "🍩 https://wandb.ai/aastroza/mistral_hackathon/r/call/0d4183df-25f1-4cc7-b91f-5444631be67b\n",
      "🍩 https://wandb.ai/aastroza/mistral_hackathon/r/call/afc765eb-2f55-4c0f-9c51-ea22caf420b1\n",
      "🍩 https://wandb.ai/aastroza/mistral_hackathon/r/call/4700ac99-7074-4747-bba0-347ca9ed2d27\n",
      "🍩 https://wandb.ai/aastroza/mistral_hackathon/r/call/d99dec0d-9974-42c6-b2c4-26044a546e4c\n",
      "🍩 https://wandb.ai/aastroza/mistral_hackathon/r/call/0334462c-4abd-4315-907a-b94f695587e5\n",
      "🍩 https://wandb.ai/aastroza/mistral_hackathon/r/call/71993ce2-3a01-47ee-9982-c89a805d54c9\n",
      "🍩 https://wandb.ai/aastroza/mistral_hackathon/r/call/0a0f0fac-1442-47af-a233-ceb683903236\n",
      "🍩 https://wandb.ai/aastroza/mistral_hackathon/r/call/94e29270-7b46-4385-b379-7249b20f3c48\n",
      "🍩 https://wandb.ai/aastroza/mistral_hackathon/r/call/d39159e4-d01e-4fcd-a2f1-dad9575693cf\n",
      "🍩 https://wandb.ai/aastroza/mistral_hackathon/r/call/6cd2f5ef-bc3e-4ace-9518-b67e4d44fdb8\n",
      "🍩 https://wandb.ai/aastroza/mistral_hackathon/r/call/f3ee18ae-f553-490a-8ff9-2570c8dc9d7d\n",
      "🍩 https://wandb.ai/aastroza/mistral_hackathon/r/call/2a8fddd1-d75b-4155-b29f-1806748c8d39\n",
      "🍩 https://wandb.ai/aastroza/mistral_hackathon/r/call/226213a7-8b0f-4abd-b185-5238349c17b1\n",
      "🍩 https://wandb.ai/aastroza/mistral_hackathon/r/call/16d928fc-c066-449e-9781-7c5d1f0995be\n",
      "🍩 https://wandb.ai/aastroza/mistral_hackathon/r/call/31b30afa-b32a-473a-b594-7d87b6a94771\n",
      "🍩 https://wandb.ai/aastroza/mistral_hackathon/r/call/74d4fca2-603d-42b4-aaf5-75c2b36b4d58\n",
      "🍩 https://wandb.ai/aastroza/mistral_hackathon/r/call/d254682d-a95a-4053-8669-4ceaaa35b7fe\n",
      "🍩 https://wandb.ai/aastroza/mistral_hackathon/r/call/34c3535f-b720-4a49-85f9-decfd383c2df\n",
      "🍩 https://wandb.ai/aastroza/mistral_hackathon/r/call/43654e62-01bf-42bb-8ca5-6847f78e8571\n",
      "🍩 https://wandb.ai/aastroza/mistral_hackathon/r/call/606a4994-354f-48d7-8163-d08bfacf22e0\n",
      "🍩 https://wandb.ai/aastroza/mistral_hackathon/r/call/44ff5291-f4b6-4da4-9e95-76aa3eb08bc9\n",
      "🍩 https://wandb.ai/aastroza/mistral_hackathon/r/call/143b0648-b1ae-4da3-b336-7320281215cd\n",
      "🍩 https://wandb.ai/aastroza/mistral_hackathon/r/call/396a3e3b-fa41-4eff-8e90-cc9966a12338\n",
      "🍩 https://wandb.ai/aastroza/mistral_hackathon/r/call/ab8ae234-018b-4ee8-9adf-8fe78d0147ca\n",
      "🍩 https://wandb.ai/aastroza/mistral_hackathon/r/call/3c651ad9-a6a8-450e-bd73-645e53ca9c01\n",
      "🍩 https://wandb.ai/aastroza/mistral_hackathon/r/call/42f7e986-c5e8-4c4b-bb77-25f2f45ab0a9\n",
      "🍩 https://wandb.ai/aastroza/mistral_hackathon/r/call/6d935d62-1754-4cfb-a57b-bdcf56f30c19\n",
      "🍩 https://wandb.ai/aastroza/mistral_hackathon/r/call/2ac97050-039b-4692-9f6d-6deecfba6549\n",
      "🍩 https://wandb.ai/aastroza/mistral_hackathon/r/call/7d25d3bd-618e-4944-bcbb-c2f5b72adbf9\n",
      "🍩 https://wandb.ai/aastroza/mistral_hackathon/r/call/c78b9735-34ac-4cc7-a734-aaaddeed9186\n",
      "🍩 https://wandb.ai/aastroza/mistral_hackathon/r/call/5c7503fe-23ce-4c9c-ae7c-521c117edd98\n",
      "🍩 https://wandb.ai/aastroza/mistral_hackathon/r/call/2244fd54-7bdd-4613-b087-2163a9a1377d\n",
      "🍩 https://wandb.ai/aastroza/mistral_hackathon/r/call/1e294699-6c81-4a18-b2ae-c51629439198\n",
      "🍩 https://wandb.ai/aastroza/mistral_hackathon/r/call/3a260186-cfc6-40da-967c-f9a23d11a442\n",
      "🍩 https://wandb.ai/aastroza/mistral_hackathon/r/call/31797474-e6a1-4480-8d87-a48772ddf402\n",
      "🍩 https://wandb.ai/aastroza/mistral_hackathon/r/call/2159b476-2429-414a-aa87-f27125c20170\n",
      "🍩 https://wandb.ai/aastroza/mistral_hackathon/r/call/a0da0131-45b5-4c66-9ae0-42aed9ca4e69\n",
      "🍩 https://wandb.ai/aastroza/mistral_hackathon/r/call/7bfc8b26-f168-461e-a69d-240f26e83fe2\n",
      "🍩 https://wandb.ai/aastroza/mistral_hackathon/r/call/c36621b7-f47e-4e6e-9620-ae21bbf719bf\n",
      "🍩 https://wandb.ai/aastroza/mistral_hackathon/r/call/969fe448-1c2f-43b3-bdf5-8897e57ab43e\n",
      "🍩 https://wandb.ai/aastroza/mistral_hackathon/r/call/af430aae-9c1f-4066-b1b5-3c567b28cbf7\n",
      "🍩 https://wandb.ai/aastroza/mistral_hackathon/r/call/bce8dbd1-f9fc-41e3-8ed9-2b13140bc91a\n",
      "🍩 https://wandb.ai/aastroza/mistral_hackathon/r/call/6335d75c-8432-4d05-b96d-74e6f57151b4\n",
      "🍩 https://wandb.ai/aastroza/mistral_hackathon/r/call/f0906a6c-8122-44a8-b5af-500834c8687f\n",
      "🍩 https://wandb.ai/aastroza/mistral_hackathon/r/call/4440035b-f213-4ab9-b8da-fa14b4d8f2e4\n",
      "🍩 https://wandb.ai/aastroza/mistral_hackathon/r/call/e3e3ae0f-55c9-4d13-8516-4254b20eb403\n",
      "🍩 https://wandb.ai/aastroza/mistral_hackathon/r/call/6ac3c7df-3282-4ca9-b3a9-66eb4f886e53\n",
      "🍩 https://wandb.ai/aastroza/mistral_hackathon/r/call/35f8ab32-ffa8-4550-a43a-3cf4476038af\n",
      "🍩 https://wandb.ai/aastroza/mistral_hackathon/r/call/cefa56d0-dcff-41fd-8e3b-b728918d2101\n",
      "🍩 https://wandb.ai/aastroza/mistral_hackathon/r/call/559cc031-ca8e-42c8-939b-41126e061cc6\n",
      "🍩 https://wandb.ai/aastroza/mistral_hackathon/r/call/74a79e19-cc83-4061-8605-f258109c01b7\n",
      "🍩 https://wandb.ai/aastroza/mistral_hackathon/r/call/6a0c34a7-10c4-4f98-b70c-6e65229f8bb4\n",
      "🍩 https://wandb.ai/aastroza/mistral_hackathon/r/call/d8987033-667b-43d4-8270-af503c0de695\n",
      "🍩 https://wandb.ai/aastroza/mistral_hackathon/r/call/826095e5-2d05-4c86-800b-dec0a2d70fad\n",
      "🍩 https://wandb.ai/aastroza/mistral_hackathon/r/call/d663135d-fa51-4ffd-a6a8-7660afcc2a08\n",
      "🍩 https://wandb.ai/aastroza/mistral_hackathon/r/call/12e06b73-a2b0-4f66-bf13-53215c8f8972\n",
      "🍩 https://wandb.ai/aastroza/mistral_hackathon/r/call/2347b414-dffc-489f-a7da-37f167102c62\n",
      "🍩 https://wandb.ai/aastroza/mistral_hackathon/r/call/93a04ad4-d737-4579-a285-addfbfe388bc\n",
      "🍩 https://wandb.ai/aastroza/mistral_hackathon/r/call/e9bbfe36-165a-410e-8315-9710b33295f0\n",
      "🍩 https://wandb.ai/aastroza/mistral_hackathon/r/call/9c80a442-bc1a-4201-afb9-b11ea7d66d25\n",
      "🍩 https://wandb.ai/aastroza/mistral_hackathon/r/call/d5559145-dacb-496e-8c8a-d0df36f966fa\n",
      "🍩 https://wandb.ai/aastroza/mistral_hackathon/r/call/ec7ff70a-0a47-42f2-bb4b-fdd6ffaf5da2\n",
      "🍩 https://wandb.ai/aastroza/mistral_hackathon/r/call/9ef510f0-34d8-4e1b-b452-27e50909a368\n",
      "🍩 https://wandb.ai/aastroza/mistral_hackathon/r/call/380b93ce-0776-44f7-a7f8-26920a8aba64\n",
      "🍩 https://wandb.ai/aastroza/mistral_hackathon/r/call/3819a1da-8cd7-4578-aedc-eaf1f2408511\n",
      "🍩 https://wandb.ai/aastroza/mistral_hackathon/r/call/0c5b3df6-090c-4bc2-bac7-20fe13e4a6d6\n",
      "🍩 https://wandb.ai/aastroza/mistral_hackathon/r/call/e5f54308-fddc-469a-b2fe-34f11d6fee90\n",
      "🍩 https://wandb.ai/aastroza/mistral_hackathon/r/call/fa380644-14b1-4313-a9eb-2193d8cc6d5d\n",
      "🍩 https://wandb.ai/aastroza/mistral_hackathon/r/call/19149b6c-bed1-40b4-88b7-96a218fba5db\n",
      "🍩 https://wandb.ai/aastroza/mistral_hackathon/r/call/4364b53e-2c60-4c0c-b8cc-bdd0e3deaa30\n",
      "🍩 https://wandb.ai/aastroza/mistral_hackathon/r/call/d9754e91-b6bc-4066-b91d-a97801b7b483\n",
      "🍩 https://wandb.ai/aastroza/mistral_hackathon/r/call/674ed4f7-3b92-45f6-8678-5c22be402e21\n",
      "🍩 https://wandb.ai/aastroza/mistral_hackathon/r/call/b8573384-e34a-4b38-85c9-3acf1ae6ace5\n",
      "🍩 https://wandb.ai/aastroza/mistral_hackathon/r/call/285b86c2-e3b5-471e-be6f-c3697b42b5f5\n",
      "🍩 https://wandb.ai/aastroza/mistral_hackathon/r/call/1c7b05b6-bc58-47c5-adef-54e27bf53d04\n",
      "🍩 https://wandb.ai/aastroza/mistral_hackathon/r/call/e74d6e4a-2f70-4913-9d58-15a6332eef36\n",
      "🍩 https://wandb.ai/aastroza/mistral_hackathon/r/call/080b0fdc-a7df-45e1-9cc9-49947be6abf3\n",
      "🍩 https://wandb.ai/aastroza/mistral_hackathon/r/call/d7679dde-8648-4e26-ba13-f4683697e5e5\n",
      "🍩 https://wandb.ai/aastroza/mistral_hackathon/r/call/afa69e2b-bb46-45d0-bbd5-d6629c1e07d7\n"
     ]
    }
   ],
   "source": [
    "async def async_foreach(sequence, func, max_concurrent_tasks):\n",
    "    \"Handy parallelism async for looper\"\n",
    "    semaphore = asyncio.Semaphore(max_concurrent_tasks)\n",
    "    async def process_item(item):\n",
    "        async with semaphore:\n",
    "            result = await func(item)\n",
    "            return item, result\n",
    "\n",
    "    tasks = [asyncio.create_task(process_item(item)) for item in sequence]\n",
    "\n",
    "    for task in asyncio.as_completed(tasks):\n",
    "        item, result = await task\n",
    "        yield item, result\n",
    "        \n",
    "async def map(ds, func, max_concurrent_tasks = 7, col_name=\"model_preds\"):\n",
    "    new_dataset = []\n",
    "    async for example, map_results in async_foreach(ds.rows, func, max_concurrent_tasks):\n",
    "        example.update({col_name: map_results})\n",
    "        new_dataset.append(example)\n",
    "    return new_dataset\n",
    "\n",
    "ds_eval_medium_rows = await map(ds_eval, mistral_medium.predict, col_name=\"mistral_medium\")"
   ]
  },
  {
   "cell_type": "code",
   "execution_count": 40,
   "metadata": {},
   "outputs": [
    {
     "name": "stdout",
     "output_type": "stream",
     "text": [
      "📦 Published to https://wandb.ai/aastroza/mistral_hackathon/weave/objects/ds_eval_medium/versions/AwEyU1MpEYMVDSvVxjH2eWM8SXfbLj5gNO1Wwy9r2Bw\n"
     ]
    },
    {
     "data": {
      "text/plain": [
       "ObjectRef(entity='aastroza', project='mistral_hackathon', name='ds_eval_medium', digest='AwEyU1MpEYMVDSvVxjH2eWM8SXfbLj5gNO1Wwy9r2Bw', extra=[])"
      ]
     },
     "execution_count": 40,
     "metadata": {},
     "output_type": "execute_result"
    }
   ],
   "source": [
    "ds_eval_medium = weave.Dataset(name=\"ds_eval_medium\", description=\"Mistral medium predictions\", rows=ds_eval_medium_rows)\n",
    "weave.publish(ds_eval_medium)"
   ]
  },
  {
   "cell_type": "code",
   "execution_count": 41,
   "metadata": {},
   "outputs": [],
   "source": [
    "ds_eval_medium = weave.ref('ds_eval_medium:latest').get()"
   ]
  },
  {
   "cell_type": "code",
   "execution_count": 44,
   "metadata": {},
   "outputs": [
    {
     "name": "stdout",
     "output_type": "stream",
     "text": [
      "🍩 https://wandb.ai/aastroza/mistral_hackathon/r/call/066b3e58-71d9-4d89-a2d9-a003c08c9688\n",
      "🍩 https://wandb.ai/aastroza/mistral_hackathon/r/call/c094458e-d9f4-4124-a542-f3e705c1a0c2\n",
      "🍩 https://wandb.ai/aastroza/mistral_hackathon/r/call/5b8a8baa-c4fd-4f5e-b43c-2443155fd887\n",
      "🍩 https://wandb.ai/aastroza/mistral_hackathon/r/call/9566ad69-1741-440d-8da6-a828ea9e727c\n",
      "🍩 https://wandb.ai/aastroza/mistral_hackathon/r/call/1e2f1f64-3178-428a-83ca-f9cee2561752\n",
      "🍩 https://wandb.ai/aastroza/mistral_hackathon/r/call/7bc32437-64de-4c31-b092-1646aa6796eb\n",
      "🍩 https://wandb.ai/aastroza/mistral_hackathon/r/call/29cf5aec-4edf-48ff-8067-8c60cc371135\n",
      "🍩 https://wandb.ai/aastroza/mistral_hackathon/r/call/e6fa57f3-bf07-4b49-9524-e838140d2fdd\n",
      "🍩 https://wandb.ai/aastroza/mistral_hackathon/r/call/e4511872-e4d4-4d33-bf48-f16a863b367e\n",
      "🍩 https://wandb.ai/aastroza/mistral_hackathon/r/call/a094f806-8e9e-4791-b805-68d3575a1178\n",
      "🍩 https://wandb.ai/aastroza/mistral_hackathon/r/call/5a78f132-d5c5-4818-b368-59cbf78f8f73\n",
      "🍩 https://wandb.ai/aastroza/mistral_hackathon/r/call/43746664-8715-49a1-a12c-15be02acbb43\n",
      "🍩 https://wandb.ai/aastroza/mistral_hackathon/r/call/eaffbecf-4342-424b-aec6-ded9238be02f\n",
      "🍩 https://wandb.ai/aastroza/mistral_hackathon/r/call/73241ff3-a32e-4f88-b2f2-728fff178b1e\n",
      "🍩 https://wandb.ai/aastroza/mistral_hackathon/r/call/c4c36c59-28df-44e6-897d-105433bbb062\n",
      "🍩 https://wandb.ai/aastroza/mistral_hackathon/r/call/2268d284-2dcd-48dc-b4c9-3fb626aa2e92\n",
      "🍩 https://wandb.ai/aastroza/mistral_hackathon/r/call/de512af7-e062-4ce5-b7b6-7a5df21d62b1\n",
      "🍩 https://wandb.ai/aastroza/mistral_hackathon/r/call/c55d0bad-4414-42c0-843b-c626bc9bd868\n",
      "🍩 https://wandb.ai/aastroza/mistral_hackathon/r/call/b3296ed5-8e89-417d-a918-ea1702b7f3b8\n",
      "🍩 https://wandb.ai/aastroza/mistral_hackathon/r/call/ae1ef705-a87a-4803-a986-fbd2ca14cc11\n",
      "🍩 https://wandb.ai/aastroza/mistral_hackathon/r/call/fcc753dc-f092-4739-b509-c3bccb0f8581\n",
      "🍩 https://wandb.ai/aastroza/mistral_hackathon/r/call/6ab620ea-92e6-47e3-8ad5-6058c440028f\n",
      "🍩 https://wandb.ai/aastroza/mistral_hackathon/r/call/c260be70-a30f-47fe-aef9-868b0e667e4b\n",
      "🍩 https://wandb.ai/aastroza/mistral_hackathon/r/call/17284cf1-2395-4a89-bb28-5eb34341f41f\n",
      "🍩 https://wandb.ai/aastroza/mistral_hackathon/r/call/1174eda1-3d5f-4425-ac93-8cd3b51a0997\n",
      "🍩 https://wandb.ai/aastroza/mistral_hackathon/r/call/8cfe05b4-753e-4b30-b54f-be0948d7d385\n",
      "🍩 https://wandb.ai/aastroza/mistral_hackathon/r/call/0c8487e9-05bd-40ab-80c7-011980122cde\n",
      "🍩 https://wandb.ai/aastroza/mistral_hackathon/r/call/feb743cd-8074-431e-bcc9-9fb688cf996d\n",
      "🍩 https://wandb.ai/aastroza/mistral_hackathon/r/call/e9f43ed7-9276-4769-9ed3-dd24adfaaf82\n",
      "🍩 https://wandb.ai/aastroza/mistral_hackathon/r/call/76c65203-3d7c-4e10-ad0f-2cf5a74c7df2\n",
      "🍩 https://wandb.ai/aastroza/mistral_hackathon/r/call/e03062b1-1784-4161-b774-e3ca4482daaa\n",
      "🍩 https://wandb.ai/aastroza/mistral_hackathon/r/call/53e6a045-79bb-4485-9c46-b3a8a39195aa\n",
      "🍩 https://wandb.ai/aastroza/mistral_hackathon/r/call/285da761-3c4b-441b-9a8a-bc26825789eb\n",
      "🍩 https://wandb.ai/aastroza/mistral_hackathon/r/call/4b983111-4400-4b25-a357-a1358f13ba5d\n",
      "🍩 https://wandb.ai/aastroza/mistral_hackathon/r/call/5822c372-ba2c-4ef5-b4ca-3da59aa739f0\n",
      "🍩 https://wandb.ai/aastroza/mistral_hackathon/r/call/3c6056ae-8435-4729-b52d-7282466bad06\n",
      "🍩 https://wandb.ai/aastroza/mistral_hackathon/r/call/effcb8e2-15b1-4871-9e9f-9611588b18e2\n",
      "🍩 https://wandb.ai/aastroza/mistral_hackathon/r/call/aa7a035e-63b2-408b-a823-b3be92e0a29c\n",
      "🍩 https://wandb.ai/aastroza/mistral_hackathon/r/call/79d8dcdc-62c4-4a79-a0cc-445db81ca456\n",
      "🍩 https://wandb.ai/aastroza/mistral_hackathon/r/call/7c6ffeca-7580-409f-b170-53c036143de8\n",
      "🍩 https://wandb.ai/aastroza/mistral_hackathon/r/call/a73642c5-0c46-4900-abce-4fa45d83f644\n",
      "🍩 https://wandb.ai/aastroza/mistral_hackathon/r/call/02b7b36f-4c33-4ee9-a68b-75f58ca9fec5\n",
      "🍩 https://wandb.ai/aastroza/mistral_hackathon/r/call/5163c633-6614-4270-bbc3-180d419dc8a0\n",
      "🍩 https://wandb.ai/aastroza/mistral_hackathon/r/call/bfdeea54-9abb-4fa0-a044-e780a907a101\n",
      "🍩 https://wandb.ai/aastroza/mistral_hackathon/r/call/fbd2ff32-726e-45d1-b465-78cf78699449\n",
      "🍩 https://wandb.ai/aastroza/mistral_hackathon/r/call/e8b363e9-6ab2-49d3-acee-e77f4bf712b4\n",
      "🍩 https://wandb.ai/aastroza/mistral_hackathon/r/call/662e33a7-a857-4b87-be09-bca8f61a6c93\n",
      "🍩 https://wandb.ai/aastroza/mistral_hackathon/r/call/e64e709d-2cf1-4a35-9620-32e6a153bd48\n",
      "🍩 https://wandb.ai/aastroza/mistral_hackathon/r/call/b3c2f668-43d9-4a87-b665-27ff658547c4\n",
      "🍩 https://wandb.ai/aastroza/mistral_hackathon/r/call/09bb4f67-df28-450c-9a9d-f43d3044abe0\n",
      "🍩 https://wandb.ai/aastroza/mistral_hackathon/r/call/0850d6a1-a085-420e-a23c-32aca4d10806\n",
      "🍩 https://wandb.ai/aastroza/mistral_hackathon/r/call/35ce459a-1d59-4777-beaf-3b03ba5f3c9c\n",
      "🍩 https://wandb.ai/aastroza/mistral_hackathon/r/call/816e2a86-31f7-4061-a89e-6272a2660450\n",
      "🍩 https://wandb.ai/aastroza/mistral_hackathon/r/call/95da678a-bed9-45e9-b621-f3c6bebabf79\n",
      "🍩 https://wandb.ai/aastroza/mistral_hackathon/r/call/7e2ff078-e619-4c3c-9e31-3c41f01e33cc\n",
      "🍩 https://wandb.ai/aastroza/mistral_hackathon/r/call/f473b45b-dd19-4fd3-beaf-abadd4f3eae2\n",
      "🍩 https://wandb.ai/aastroza/mistral_hackathon/r/call/01a11445-8777-4b63-b74b-059cb452d33e\n",
      "🍩 https://wandb.ai/aastroza/mistral_hackathon/r/call/dab58f92-24dc-4fec-a3a2-f2dcd3f3a60f\n",
      "🍩 https://wandb.ai/aastroza/mistral_hackathon/r/call/f583bdb4-f59e-415e-ae49-3acdfc4749f1\n",
      "🍩 https://wandb.ai/aastroza/mistral_hackathon/r/call/8a59c043-8f4f-4573-9e57-69dda2458cd5\n",
      "🍩 https://wandb.ai/aastroza/mistral_hackathon/r/call/a97ce5fd-da9e-4371-b7c3-5ab2fdd17d29\n",
      "🍩 https://wandb.ai/aastroza/mistral_hackathon/r/call/e8b7afbf-7bbb-4628-9c09-9856e63f3c83\n",
      "🍩 https://wandb.ai/aastroza/mistral_hackathon/r/call/26cc18a9-3995-4c3f-9fe5-d3a7f867639e\n",
      "🍩 https://wandb.ai/aastroza/mistral_hackathon/r/call/e3fc1ba7-0516-476e-be29-ccfa6ddba9ba\n",
      "🍩 https://wandb.ai/aastroza/mistral_hackathon/r/call/be2532b0-ccd7-4455-864c-bbcce9405704\n",
      "🍩 https://wandb.ai/aastroza/mistral_hackathon/r/call/68d3ec50-8612-4b02-a70e-d0ed28f45326\n",
      "🍩 https://wandb.ai/aastroza/mistral_hackathon/r/call/c43de213-f9b6-48dd-adbb-0f4d9752e733\n",
      "🍩 https://wandb.ai/aastroza/mistral_hackathon/r/call/3fd545ee-bbd5-441b-bedb-40750b3b7542\n",
      "🍩 https://wandb.ai/aastroza/mistral_hackathon/r/call/8c896ec3-d95d-4e70-b702-a9e189a6fcd6\n",
      "🍩 https://wandb.ai/aastroza/mistral_hackathon/r/call/0618e359-12bc-4ad1-9c6b-c45c4d97b0fe\n",
      "🍩 https://wandb.ai/aastroza/mistral_hackathon/r/call/b7e71865-bf2f-4608-be52-ef5ce68ca10d\n",
      "🍩 https://wandb.ai/aastroza/mistral_hackathon/r/call/7a99b8fe-3703-499a-9f8c-b4460e0e1f6c\n",
      "🍩 https://wandb.ai/aastroza/mistral_hackathon/r/call/15b6546e-dc4e-4f7e-bf89-8479d9688721\n",
      "🍩 https://wandb.ai/aastroza/mistral_hackathon/r/call/d36903a9-24a9-4812-8344-bd309af89c08\n",
      "🍩 https://wandb.ai/aastroza/mistral_hackathon/r/call/63b28b5b-ce22-42c1-85a0-7fef6b2da728\n",
      "🍩 https://wandb.ai/aastroza/mistral_hackathon/r/call/08fc131f-3a09-41c6-a9f3-c48bef07071d\n",
      "🍩 https://wandb.ai/aastroza/mistral_hackathon/r/call/4989d15e-3a29-4f97-8508-54c5a67a8db9\n",
      "🍩 https://wandb.ai/aastroza/mistral_hackathon/r/call/e7f71e6f-5e32-4a63-9dcd-75deb76e253e\n",
      "🍩 https://wandb.ai/aastroza/mistral_hackathon/r/call/264c00e4-bb91-4e86-ae3e-30c5d0170454\n",
      "🍩 https://wandb.ai/aastroza/mistral_hackathon/r/call/d5845fe0-b572-4384-9dff-cab16ec3c108\n",
      "🍩 https://wandb.ai/aastroza/mistral_hackathon/r/call/6de644d5-cdbf-42ea-8f0f-c507b287c914\n",
      "🍩 https://wandb.ai/aastroza/mistral_hackathon/r/call/fb0ee5a1-5707-4527-9e9b-798331bfa7cb\n",
      "🍩 https://wandb.ai/aastroza/mistral_hackathon/r/call/49b03fc9-403c-45fc-9c81-73da7965bd75\n",
      "🍩 https://wandb.ai/aastroza/mistral_hackathon/r/call/09cf640e-47d9-4b4b-b5c3-def3dee15fda\n",
      "🍩 https://wandb.ai/aastroza/mistral_hackathon/r/call/d7a6a43a-563d-45f0-9daa-063e2e3cca0e\n",
      "🍩 https://wandb.ai/aastroza/mistral_hackathon/r/call/7a12cace-7518-47f5-9443-ae1bcccff770\n",
      "🍩 https://wandb.ai/aastroza/mistral_hackathon/r/call/ac34a88e-980f-402c-af24-72a2a05c89cf\n",
      "🍩 https://wandb.ai/aastroza/mistral_hackathon/r/call/e9b688c0-3159-4a68-aafa-59afb6d94697\n",
      "🍩 https://wandb.ai/aastroza/mistral_hackathon/r/call/e8ba74d7-2a92-4bc3-8678-c34e31f7e512\n",
      "🍩 https://wandb.ai/aastroza/mistral_hackathon/r/call/e0ceff43-6fad-4150-830c-fcc618d4e072\n",
      "🍩 https://wandb.ai/aastroza/mistral_hackathon/r/call/1828e14e-c09a-4594-8e21-1c639062ee92\n",
      "🍩 https://wandb.ai/aastroza/mistral_hackathon/r/call/6833963b-a8a7-4544-b0dc-7ca6679973c7\n",
      "🍩 https://wandb.ai/aastroza/mistral_hackathon/r/call/e1a55d8b-2504-4f84-8ed3-5f742e8153be\n",
      "🍩 https://wandb.ai/aastroza/mistral_hackathon/r/call/df4fe0c8-8681-44a0-9186-bf173c38639f\n",
      "🍩 https://wandb.ai/aastroza/mistral_hackathon/r/call/10214c2a-6e9a-446e-979b-6b72804079cb\n",
      "🍩 https://wandb.ai/aastroza/mistral_hackathon/r/call/14d48a03-e306-4de5-a621-44337bcd2e78\n",
      "🍩 https://wandb.ai/aastroza/mistral_hackathon/r/call/a0d22ed3-e0b9-4620-8c6b-119aad398045\n",
      "🍩 https://wandb.ai/aastroza/mistral_hackathon/r/call/69e6b903-b17a-488c-8143-8c84636c21ba\n",
      "🍩 https://wandb.ai/aastroza/mistral_hackathon/r/call/d45db1fa-da6c-4d12-9b37-f5b7d46d819e\n",
      "🍩 https://wandb.ai/aastroza/mistral_hackathon/r/call/b5f988eb-9712-41bf-ace1-3dac32e65c26\n",
      "🍩 https://wandb.ai/aastroza/mistral_hackathon/r/call/e876ab36-f0a2-4009-ac35-db4243b88f86\n",
      "🍩 https://wandb.ai/aastroza/mistral_hackathon/r/call/6e05fa39-a1a5-4728-905f-42afff1fc79a\n",
      "🍩 https://wandb.ai/aastroza/mistral_hackathon/r/call/3e6ebeb0-962b-436a-a192-715c7eba8721\n",
      "🍩 https://wandb.ai/aastroza/mistral_hackathon/r/call/cf9c9672-2cc8-4d14-a11b-5427cd4d3e3e\n",
      "🍩 https://wandb.ai/aastroza/mistral_hackathon/r/call/22987115-7646-43a1-b12a-404a2e500518\n",
      "🍩 https://wandb.ai/aastroza/mistral_hackathon/r/call/7b86c1c0-b020-4f3e-9e81-da5a46d2fdc4\n",
      "🍩 https://wandb.ai/aastroza/mistral_hackathon/r/call/3b57087f-7542-418b-89c6-ef1e9d079428\n",
      "🍩 https://wandb.ai/aastroza/mistral_hackathon/r/call/90fbc722-f56f-4d17-ba3b-975add877ef3\n",
      "🍩 https://wandb.ai/aastroza/mistral_hackathon/r/call/527baf5a-25c3-499a-847d-990f075a02fc\n",
      "🍩 https://wandb.ai/aastroza/mistral_hackathon/r/call/96ac7c0b-954c-4077-93f4-1c7b2a7080e0\n",
      "📦 Published to https://wandb.ai/aastroza/mistral_hackathon/weave/objects/ds_eval_medium_7b/versions/iX7vdby09rE8oHt9hkBak0Ab0kzcgRzYWstYCBu9BYo\n"
     ]
    },
    {
     "data": {
      "text/plain": [
       "ObjectRef(entity='aastroza', project='mistral_hackathon', name='ds_eval_medium_7b', digest='iX7vdby09rE8oHt9hkBak0Ab0kzcgRzYWstYCBu9BYo', extra=[])"
      ]
     },
     "execution_count": 44,
     "metadata": {},
     "output_type": "execute_result"
    }
   ],
   "source": [
    "mistral_7b = MistralModel(model=\"open-mistral-7b\")\n",
    "ds_eval_7b_rows = await map(ds_eval_medium, mistral_7b.predict, col_name=\"mistral_7b\")\n",
    "ds_eval_7b_medium = weave.Dataset(name=\"ds_eval_medium_7b\", description=\"Mistral 7b predictions along with medium\", rows=ds_eval_7b_rows)\n",
    "weave.publish(ds_eval_7b_medium)"
   ]
  },
  {
   "cell_type": "code",
   "execution_count": 52,
   "metadata": {},
   "outputs": [],
   "source": [
    "class LLMJudge(weave.Model):\n",
    "    model: str = \"mistral-large-latest\"\n",
    "    \n",
    "    @weave.op\n",
    "    async def predict(self, keyword: str, mistral_7b: str, mistral_medium: str, text: str, **kwargs) -> dict:\n",
    "        messages = [\n",
    "            ChatMessage(\n",
    "                role=\"user\",\n",
    "                content=(\n",
    "                \"You are a world class comedian and you are judging a joke competition in Chile.\"\n",
    "                \"You have to pick the best joke between two jokes written about a keyword.\"\n",
    "                \"Take into consideration the jokes were written in Chilean Spanish and a ground truth joke as a reference. \\n\"\n",
    "                \"Here is the keyword: {keyword}\\n\"\n",
    "                \"Here is the joke1: {mistral_7b}\\n\"\n",
    "                \"Here is the joke2: {mistral_medium}\\n\"\n",
    "                \"Ground truth joke: {joke}\\n\"\n",
    "                \"Return the name of the best_joke (or None if you think both are bad) and the reason in short JSON object.\").format(\n",
    "                    keyword=keyword, \n",
    "                    mistral_7b=mistral_7b, \n",
    "                    mistral_medium=mistral_medium,\n",
    "                    joke=text)\n",
    "            )\n",
    "        ]\n",
    "        payload = await call_mistral(model=self.model, messages=messages, response_format={\"type\": \"json_object\"})\n",
    "        return json.loads(payload)"
   ]
  },
  {
   "cell_type": "code",
   "execution_count": 53,
   "metadata": {},
   "outputs": [
    {
     "data": {
      "text/plain": [
       "dict_keys(['text', 'keyword', 'mistral_medium', 'mistral_7b'])"
      ]
     },
     "execution_count": 53,
     "metadata": {},
     "output_type": "execute_result"
    }
   ],
   "source": [
    "ds_eval_7b_medium.rows[0].keys()"
   ]
  },
  {
   "cell_type": "code",
   "execution_count": 54,
   "metadata": {},
   "outputs": [
    {
     "name": "stdout",
     "output_type": "stream",
     "text": [
      "🍩 https://wandb.ai/aastroza/mistral_hackathon/r/call/3b503a9b-a59c-4a36-b95b-8f36c7776584\n"
     ]
    },
    {
     "data": {
      "text/plain": [
       "{'best_joke': 'joke2',\n",
       " 'reason': \"Joke2 uses a play on words with 'tesoro' and 'escavar' to create a humorous and suggestive comment about finding an attractive person at the beach. It is more clever and funny than Joke1, which simply states that searching is the best way to find a treasure.\"}"
      ]
     },
     "execution_count": 54,
     "metadata": {},
     "output_type": "execute_result"
    }
   ],
   "source": [
    "llm_judge = LLMJudge()\n",
    "res = await llm_judge.predict(**ds_eval_7b_medium.rows[0])\n",
    "res"
   ]
  },
  {
   "cell_type": "code",
   "execution_count": 56,
   "metadata": {},
   "outputs": [],
   "source": [
    "@weave.op\n",
    "def evaluate_joke(model_output: str) -> dict:\n",
    "    \"Evaluate the answer\"\n",
    "    return {\"win\": model_output[\"best_joke\"] == \"joke1\"}"
   ]
  },
  {
   "cell_type": "code",
   "execution_count": 57,
   "metadata": {},
   "outputs": [],
   "source": [
    "evaluation = weave.Evaluation(dataset=ds_eval_7b_medium, scorers=[evaluate_joke])"
   ]
  },
  {
   "cell_type": "code",
   "execution_count": 58,
   "metadata": {},
   "outputs": [
    {
     "data": {
      "text/html": [
       "<pre style=\"white-space:pre;overflow-x:auto;line-height:normal;font-family:Menlo,'DejaVu Sans Mono',consolas,'Courier New',monospace\">Evaluated <span style=\"color: #008080; text-decoration-color: #008080; font-weight: bold\">1</span> of <span style=\"color: #008080; text-decoration-color: #008080; font-weight: bold\">110</span> examples\n",
       "</pre>\n"
      ],
      "text/plain": [
       "Evaluated \u001b[1;36m1\u001b[0m of \u001b[1;36m110\u001b[0m examples\n"
      ]
     },
     "metadata": {},
     "output_type": "display_data"
    },
    {
     "data": {
      "text/html": [
       "<pre style=\"white-space:pre;overflow-x:auto;line-height:normal;font-family:Menlo,'DejaVu Sans Mono',consolas,'Courier New',monospace\">Evaluated <span style=\"color: #008080; text-decoration-color: #008080; font-weight: bold\">2</span> of <span style=\"color: #008080; text-decoration-color: #008080; font-weight: bold\">110</span> examples\n",
       "</pre>\n"
      ],
      "text/plain": [
       "Evaluated \u001b[1;36m2\u001b[0m of \u001b[1;36m110\u001b[0m examples\n"
      ]
     },
     "metadata": {},
     "output_type": "display_data"
    },
    {
     "data": {
      "text/html": [
       "<pre style=\"white-space:pre;overflow-x:auto;line-height:normal;font-family:Menlo,'DejaVu Sans Mono',consolas,'Courier New',monospace\">Evaluated <span style=\"color: #008080; text-decoration-color: #008080; font-weight: bold\">3</span> of <span style=\"color: #008080; text-decoration-color: #008080; font-weight: bold\">110</span> examples\n",
       "</pre>\n"
      ],
      "text/plain": [
       "Evaluated \u001b[1;36m3\u001b[0m of \u001b[1;36m110\u001b[0m examples\n"
      ]
     },
     "metadata": {},
     "output_type": "display_data"
    },
    {
     "data": {
      "text/html": [
       "<pre style=\"white-space:pre;overflow-x:auto;line-height:normal;font-family:Menlo,'DejaVu Sans Mono',consolas,'Courier New',monospace\">Evaluated <span style=\"color: #008080; text-decoration-color: #008080; font-weight: bold\">4</span> of <span style=\"color: #008080; text-decoration-color: #008080; font-weight: bold\">110</span> examples\n",
       "</pre>\n"
      ],
      "text/plain": [
       "Evaluated \u001b[1;36m4\u001b[0m of \u001b[1;36m110\u001b[0m examples\n"
      ]
     },
     "metadata": {},
     "output_type": "display_data"
    },
    {
     "data": {
      "text/html": [
       "<pre style=\"white-space:pre;overflow-x:auto;line-height:normal;font-family:Menlo,'DejaVu Sans Mono',consolas,'Courier New',monospace\">Evaluated <span style=\"color: #008080; text-decoration-color: #008080; font-weight: bold\">5</span> of <span style=\"color: #008080; text-decoration-color: #008080; font-weight: bold\">110</span> examples\n",
       "</pre>\n"
      ],
      "text/plain": [
       "Evaluated \u001b[1;36m5\u001b[0m of \u001b[1;36m110\u001b[0m examples\n"
      ]
     },
     "metadata": {},
     "output_type": "display_data"
    },
    {
     "data": {
      "text/html": [
       "<pre style=\"white-space:pre;overflow-x:auto;line-height:normal;font-family:Menlo,'DejaVu Sans Mono',consolas,'Courier New',monospace\">Evaluated <span style=\"color: #008080; text-decoration-color: #008080; font-weight: bold\">6</span> of <span style=\"color: #008080; text-decoration-color: #008080; font-weight: bold\">110</span> examples\n",
       "</pre>\n"
      ],
      "text/plain": [
       "Evaluated \u001b[1;36m6\u001b[0m of \u001b[1;36m110\u001b[0m examples\n"
      ]
     },
     "metadata": {},
     "output_type": "display_data"
    },
    {
     "data": {
      "text/html": [
       "<pre style=\"white-space:pre;overflow-x:auto;line-height:normal;font-family:Menlo,'DejaVu Sans Mono',consolas,'Courier New',monospace\">Evaluated <span style=\"color: #008080; text-decoration-color: #008080; font-weight: bold\">7</span> of <span style=\"color: #008080; text-decoration-color: #008080; font-weight: bold\">110</span> examples\n",
       "</pre>\n"
      ],
      "text/plain": [
       "Evaluated \u001b[1;36m7\u001b[0m of \u001b[1;36m110\u001b[0m examples\n"
      ]
     },
     "metadata": {},
     "output_type": "display_data"
    },
    {
     "data": {
      "text/html": [
       "<pre style=\"white-space:pre;overflow-x:auto;line-height:normal;font-family:Menlo,'DejaVu Sans Mono',consolas,'Courier New',monospace\">Evaluated <span style=\"color: #008080; text-decoration-color: #008080; font-weight: bold\">8</span> of <span style=\"color: #008080; text-decoration-color: #008080; font-weight: bold\">110</span> examples\n",
       "</pre>\n"
      ],
      "text/plain": [
       "Evaluated \u001b[1;36m8\u001b[0m of \u001b[1;36m110\u001b[0m examples\n"
      ]
     },
     "metadata": {},
     "output_type": "display_data"
    },
    {
     "data": {
      "text/html": [
       "<pre style=\"white-space:pre;overflow-x:auto;line-height:normal;font-family:Menlo,'DejaVu Sans Mono',consolas,'Courier New',monospace\">Evaluated <span style=\"color: #008080; text-decoration-color: #008080; font-weight: bold\">9</span> of <span style=\"color: #008080; text-decoration-color: #008080; font-weight: bold\">110</span> examples\n",
       "</pre>\n"
      ],
      "text/plain": [
       "Evaluated \u001b[1;36m9\u001b[0m of \u001b[1;36m110\u001b[0m examples\n"
      ]
     },
     "metadata": {},
     "output_type": "display_data"
    },
    {
     "data": {
      "text/html": [
       "<pre style=\"white-space:pre;overflow-x:auto;line-height:normal;font-family:Menlo,'DejaVu Sans Mono',consolas,'Courier New',monospace\">Evaluated <span style=\"color: #008080; text-decoration-color: #008080; font-weight: bold\">10</span> of <span style=\"color: #008080; text-decoration-color: #008080; font-weight: bold\">110</span> examples\n",
       "</pre>\n"
      ],
      "text/plain": [
       "Evaluated \u001b[1;36m10\u001b[0m of \u001b[1;36m110\u001b[0m examples\n"
      ]
     },
     "metadata": {},
     "output_type": "display_data"
    },
    {
     "data": {
      "text/html": [
       "<pre style=\"white-space:pre;overflow-x:auto;line-height:normal;font-family:Menlo,'DejaVu Sans Mono',consolas,'Courier New',monospace\">Evaluated <span style=\"color: #008080; text-decoration-color: #008080; font-weight: bold\">11</span> of <span style=\"color: #008080; text-decoration-color: #008080; font-weight: bold\">110</span> examples\n",
       "</pre>\n"
      ],
      "text/plain": [
       "Evaluated \u001b[1;36m11\u001b[0m of \u001b[1;36m110\u001b[0m examples\n"
      ]
     },
     "metadata": {},
     "output_type": "display_data"
    },
    {
     "data": {
      "text/html": [
       "<pre style=\"white-space:pre;overflow-x:auto;line-height:normal;font-family:Menlo,'DejaVu Sans Mono',consolas,'Courier New',monospace\">Evaluated <span style=\"color: #008080; text-decoration-color: #008080; font-weight: bold\">12</span> of <span style=\"color: #008080; text-decoration-color: #008080; font-weight: bold\">110</span> examples\n",
       "</pre>\n"
      ],
      "text/plain": [
       "Evaluated \u001b[1;36m12\u001b[0m of \u001b[1;36m110\u001b[0m examples\n"
      ]
     },
     "metadata": {},
     "output_type": "display_data"
    },
    {
     "data": {
      "text/html": [
       "<pre style=\"white-space:pre;overflow-x:auto;line-height:normal;font-family:Menlo,'DejaVu Sans Mono',consolas,'Courier New',monospace\">Evaluated <span style=\"color: #008080; text-decoration-color: #008080; font-weight: bold\">13</span> of <span style=\"color: #008080; text-decoration-color: #008080; font-weight: bold\">110</span> examples\n",
       "</pre>\n"
      ],
      "text/plain": [
       "Evaluated \u001b[1;36m13\u001b[0m of \u001b[1;36m110\u001b[0m examples\n"
      ]
     },
     "metadata": {},
     "output_type": "display_data"
    },
    {
     "data": {
      "text/html": [
       "<pre style=\"white-space:pre;overflow-x:auto;line-height:normal;font-family:Menlo,'DejaVu Sans Mono',consolas,'Courier New',monospace\">Evaluated <span style=\"color: #008080; text-decoration-color: #008080; font-weight: bold\">14</span> of <span style=\"color: #008080; text-decoration-color: #008080; font-weight: bold\">110</span> examples\n",
       "</pre>\n"
      ],
      "text/plain": [
       "Evaluated \u001b[1;36m14\u001b[0m of \u001b[1;36m110\u001b[0m examples\n"
      ]
     },
     "metadata": {},
     "output_type": "display_data"
    },
    {
     "data": {
      "text/html": [
       "<pre style=\"white-space:pre;overflow-x:auto;line-height:normal;font-family:Menlo,'DejaVu Sans Mono',consolas,'Courier New',monospace\">Evaluated <span style=\"color: #008080; text-decoration-color: #008080; font-weight: bold\">15</span> of <span style=\"color: #008080; text-decoration-color: #008080; font-weight: bold\">110</span> examples\n",
       "</pre>\n"
      ],
      "text/plain": [
       "Evaluated \u001b[1;36m15\u001b[0m of \u001b[1;36m110\u001b[0m examples\n"
      ]
     },
     "metadata": {},
     "output_type": "display_data"
    },
    {
     "data": {
      "text/html": [
       "<pre style=\"white-space:pre;overflow-x:auto;line-height:normal;font-family:Menlo,'DejaVu Sans Mono',consolas,'Courier New',monospace\">Evaluated <span style=\"color: #008080; text-decoration-color: #008080; font-weight: bold\">16</span> of <span style=\"color: #008080; text-decoration-color: #008080; font-weight: bold\">110</span> examples\n",
       "</pre>\n"
      ],
      "text/plain": [
       "Evaluated \u001b[1;36m16\u001b[0m of \u001b[1;36m110\u001b[0m examples\n"
      ]
     },
     "metadata": {},
     "output_type": "display_data"
    },
    {
     "data": {
      "text/html": [
       "<pre style=\"white-space:pre;overflow-x:auto;line-height:normal;font-family:Menlo,'DejaVu Sans Mono',consolas,'Courier New',monospace\">Evaluated <span style=\"color: #008080; text-decoration-color: #008080; font-weight: bold\">17</span> of <span style=\"color: #008080; text-decoration-color: #008080; font-weight: bold\">110</span> examples\n",
       "</pre>\n"
      ],
      "text/plain": [
       "Evaluated \u001b[1;36m17\u001b[0m of \u001b[1;36m110\u001b[0m examples\n"
      ]
     },
     "metadata": {},
     "output_type": "display_data"
    },
    {
     "data": {
      "text/html": [
       "<pre style=\"white-space:pre;overflow-x:auto;line-height:normal;font-family:Menlo,'DejaVu Sans Mono',consolas,'Courier New',monospace\">Evaluated <span style=\"color: #008080; text-decoration-color: #008080; font-weight: bold\">18</span> of <span style=\"color: #008080; text-decoration-color: #008080; font-weight: bold\">110</span> examples\n",
       "</pre>\n"
      ],
      "text/plain": [
       "Evaluated \u001b[1;36m18\u001b[0m of \u001b[1;36m110\u001b[0m examples\n"
      ]
     },
     "metadata": {},
     "output_type": "display_data"
    },
    {
     "data": {
      "text/html": [
       "<pre style=\"white-space:pre;overflow-x:auto;line-height:normal;font-family:Menlo,'DejaVu Sans Mono',consolas,'Courier New',monospace\">Evaluated <span style=\"color: #008080; text-decoration-color: #008080; font-weight: bold\">19</span> of <span style=\"color: #008080; text-decoration-color: #008080; font-weight: bold\">110</span> examples\n",
       "</pre>\n"
      ],
      "text/plain": [
       "Evaluated \u001b[1;36m19\u001b[0m of \u001b[1;36m110\u001b[0m examples\n"
      ]
     },
     "metadata": {},
     "output_type": "display_data"
    },
    {
     "data": {
      "text/html": [
       "<pre style=\"white-space:pre;overflow-x:auto;line-height:normal;font-family:Menlo,'DejaVu Sans Mono',consolas,'Courier New',monospace\">Evaluated <span style=\"color: #008080; text-decoration-color: #008080; font-weight: bold\">20</span> of <span style=\"color: #008080; text-decoration-color: #008080; font-weight: bold\">110</span> examples\n",
       "</pre>\n"
      ],
      "text/plain": [
       "Evaluated \u001b[1;36m20\u001b[0m of \u001b[1;36m110\u001b[0m examples\n"
      ]
     },
     "metadata": {},
     "output_type": "display_data"
    },
    {
     "data": {
      "text/html": [
       "<pre style=\"white-space:pre;overflow-x:auto;line-height:normal;font-family:Menlo,'DejaVu Sans Mono',consolas,'Courier New',monospace\">Evaluated <span style=\"color: #008080; text-decoration-color: #008080; font-weight: bold\">21</span> of <span style=\"color: #008080; text-decoration-color: #008080; font-weight: bold\">110</span> examples\n",
       "</pre>\n"
      ],
      "text/plain": [
       "Evaluated \u001b[1;36m21\u001b[0m of \u001b[1;36m110\u001b[0m examples\n"
      ]
     },
     "metadata": {},
     "output_type": "display_data"
    },
    {
     "data": {
      "text/html": [
       "<pre style=\"white-space:pre;overflow-x:auto;line-height:normal;font-family:Menlo,'DejaVu Sans Mono',consolas,'Courier New',monospace\">Evaluated <span style=\"color: #008080; text-decoration-color: #008080; font-weight: bold\">22</span> of <span style=\"color: #008080; text-decoration-color: #008080; font-weight: bold\">110</span> examples\n",
       "</pre>\n"
      ],
      "text/plain": [
       "Evaluated \u001b[1;36m22\u001b[0m of \u001b[1;36m110\u001b[0m examples\n"
      ]
     },
     "metadata": {},
     "output_type": "display_data"
    },
    {
     "data": {
      "text/html": [
       "<pre style=\"white-space:pre;overflow-x:auto;line-height:normal;font-family:Menlo,'DejaVu Sans Mono',consolas,'Courier New',monospace\">Evaluated <span style=\"color: #008080; text-decoration-color: #008080; font-weight: bold\">23</span> of <span style=\"color: #008080; text-decoration-color: #008080; font-weight: bold\">110</span> examples\n",
       "</pre>\n"
      ],
      "text/plain": [
       "Evaluated \u001b[1;36m23\u001b[0m of \u001b[1;36m110\u001b[0m examples\n"
      ]
     },
     "metadata": {},
     "output_type": "display_data"
    },
    {
     "data": {
      "text/html": [
       "<pre style=\"white-space:pre;overflow-x:auto;line-height:normal;font-family:Menlo,'DejaVu Sans Mono',consolas,'Courier New',monospace\">Evaluated <span style=\"color: #008080; text-decoration-color: #008080; font-weight: bold\">24</span> of <span style=\"color: #008080; text-decoration-color: #008080; font-weight: bold\">110</span> examples\n",
       "</pre>\n"
      ],
      "text/plain": [
       "Evaluated \u001b[1;36m24\u001b[0m of \u001b[1;36m110\u001b[0m examples\n"
      ]
     },
     "metadata": {},
     "output_type": "display_data"
    },
    {
     "data": {
      "text/html": [
       "<pre style=\"white-space:pre;overflow-x:auto;line-height:normal;font-family:Menlo,'DejaVu Sans Mono',consolas,'Courier New',monospace\">Evaluated <span style=\"color: #008080; text-decoration-color: #008080; font-weight: bold\">25</span> of <span style=\"color: #008080; text-decoration-color: #008080; font-weight: bold\">110</span> examples\n",
       "</pre>\n"
      ],
      "text/plain": [
       "Evaluated \u001b[1;36m25\u001b[0m of \u001b[1;36m110\u001b[0m examples\n"
      ]
     },
     "metadata": {},
     "output_type": "display_data"
    },
    {
     "data": {
      "text/html": [
       "<pre style=\"white-space:pre;overflow-x:auto;line-height:normal;font-family:Menlo,'DejaVu Sans Mono',consolas,'Courier New',monospace\">Evaluated <span style=\"color: #008080; text-decoration-color: #008080; font-weight: bold\">26</span> of <span style=\"color: #008080; text-decoration-color: #008080; font-weight: bold\">110</span> examples\n",
       "</pre>\n"
      ],
      "text/plain": [
       "Evaluated \u001b[1;36m26\u001b[0m of \u001b[1;36m110\u001b[0m examples\n"
      ]
     },
     "metadata": {},
     "output_type": "display_data"
    },
    {
     "data": {
      "text/html": [
       "<pre style=\"white-space:pre;overflow-x:auto;line-height:normal;font-family:Menlo,'DejaVu Sans Mono',consolas,'Courier New',monospace\">Evaluated <span style=\"color: #008080; text-decoration-color: #008080; font-weight: bold\">27</span> of <span style=\"color: #008080; text-decoration-color: #008080; font-weight: bold\">110</span> examples\n",
       "</pre>\n"
      ],
      "text/plain": [
       "Evaluated \u001b[1;36m27\u001b[0m of \u001b[1;36m110\u001b[0m examples\n"
      ]
     },
     "metadata": {},
     "output_type": "display_data"
    },
    {
     "data": {
      "text/html": [
       "<pre style=\"white-space:pre;overflow-x:auto;line-height:normal;font-family:Menlo,'DejaVu Sans Mono',consolas,'Courier New',monospace\">Evaluated <span style=\"color: #008080; text-decoration-color: #008080; font-weight: bold\">28</span> of <span style=\"color: #008080; text-decoration-color: #008080; font-weight: bold\">110</span> examples\n",
       "</pre>\n"
      ],
      "text/plain": [
       "Evaluated \u001b[1;36m28\u001b[0m of \u001b[1;36m110\u001b[0m examples\n"
      ]
     },
     "metadata": {},
     "output_type": "display_data"
    },
    {
     "data": {
      "text/html": [
       "<pre style=\"white-space:pre;overflow-x:auto;line-height:normal;font-family:Menlo,'DejaVu Sans Mono',consolas,'Courier New',monospace\">Evaluated <span style=\"color: #008080; text-decoration-color: #008080; font-weight: bold\">29</span> of <span style=\"color: #008080; text-decoration-color: #008080; font-weight: bold\">110</span> examples\n",
       "</pre>\n"
      ],
      "text/plain": [
       "Evaluated \u001b[1;36m29\u001b[0m of \u001b[1;36m110\u001b[0m examples\n"
      ]
     },
     "metadata": {},
     "output_type": "display_data"
    },
    {
     "data": {
      "text/html": [
       "<pre style=\"white-space:pre;overflow-x:auto;line-height:normal;font-family:Menlo,'DejaVu Sans Mono',consolas,'Courier New',monospace\">Evaluated <span style=\"color: #008080; text-decoration-color: #008080; font-weight: bold\">30</span> of <span style=\"color: #008080; text-decoration-color: #008080; font-weight: bold\">110</span> examples\n",
       "</pre>\n"
      ],
      "text/plain": [
       "Evaluated \u001b[1;36m30\u001b[0m of \u001b[1;36m110\u001b[0m examples\n"
      ]
     },
     "metadata": {},
     "output_type": "display_data"
    },
    {
     "data": {
      "text/html": [
       "<pre style=\"white-space:pre;overflow-x:auto;line-height:normal;font-family:Menlo,'DejaVu Sans Mono',consolas,'Courier New',monospace\">Evaluated <span style=\"color: #008080; text-decoration-color: #008080; font-weight: bold\">31</span> of <span style=\"color: #008080; text-decoration-color: #008080; font-weight: bold\">110</span> examples\n",
       "</pre>\n"
      ],
      "text/plain": [
       "Evaluated \u001b[1;36m31\u001b[0m of \u001b[1;36m110\u001b[0m examples\n"
      ]
     },
     "metadata": {},
     "output_type": "display_data"
    },
    {
     "data": {
      "text/html": [
       "<pre style=\"white-space:pre;overflow-x:auto;line-height:normal;font-family:Menlo,'DejaVu Sans Mono',consolas,'Courier New',monospace\">Evaluated <span style=\"color: #008080; text-decoration-color: #008080; font-weight: bold\">32</span> of <span style=\"color: #008080; text-decoration-color: #008080; font-weight: bold\">110</span> examples\n",
       "</pre>\n"
      ],
      "text/plain": [
       "Evaluated \u001b[1;36m32\u001b[0m of \u001b[1;36m110\u001b[0m examples\n"
      ]
     },
     "metadata": {},
     "output_type": "display_data"
    },
    {
     "data": {
      "text/html": [
       "<pre style=\"white-space:pre;overflow-x:auto;line-height:normal;font-family:Menlo,'DejaVu Sans Mono',consolas,'Courier New',monospace\">Evaluated <span style=\"color: #008080; text-decoration-color: #008080; font-weight: bold\">33</span> of <span style=\"color: #008080; text-decoration-color: #008080; font-weight: bold\">110</span> examples\n",
       "</pre>\n"
      ],
      "text/plain": [
       "Evaluated \u001b[1;36m33\u001b[0m of \u001b[1;36m110\u001b[0m examples\n"
      ]
     },
     "metadata": {},
     "output_type": "display_data"
    },
    {
     "data": {
      "text/html": [
       "<pre style=\"white-space:pre;overflow-x:auto;line-height:normal;font-family:Menlo,'DejaVu Sans Mono',consolas,'Courier New',monospace\">Evaluated <span style=\"color: #008080; text-decoration-color: #008080; font-weight: bold\">34</span> of <span style=\"color: #008080; text-decoration-color: #008080; font-weight: bold\">110</span> examples\n",
       "</pre>\n"
      ],
      "text/plain": [
       "Evaluated \u001b[1;36m34\u001b[0m of \u001b[1;36m110\u001b[0m examples\n"
      ]
     },
     "metadata": {},
     "output_type": "display_data"
    },
    {
     "data": {
      "text/html": [
       "<pre style=\"white-space:pre;overflow-x:auto;line-height:normal;font-family:Menlo,'DejaVu Sans Mono',consolas,'Courier New',monospace\">Evaluated <span style=\"color: #008080; text-decoration-color: #008080; font-weight: bold\">35</span> of <span style=\"color: #008080; text-decoration-color: #008080; font-weight: bold\">110</span> examples\n",
       "</pre>\n"
      ],
      "text/plain": [
       "Evaluated \u001b[1;36m35\u001b[0m of \u001b[1;36m110\u001b[0m examples\n"
      ]
     },
     "metadata": {},
     "output_type": "display_data"
    },
    {
     "data": {
      "text/html": [
       "<pre style=\"white-space:pre;overflow-x:auto;line-height:normal;font-family:Menlo,'DejaVu Sans Mono',consolas,'Courier New',monospace\">Evaluated <span style=\"color: #008080; text-decoration-color: #008080; font-weight: bold\">36</span> of <span style=\"color: #008080; text-decoration-color: #008080; font-weight: bold\">110</span> examples\n",
       "</pre>\n"
      ],
      "text/plain": [
       "Evaluated \u001b[1;36m36\u001b[0m of \u001b[1;36m110\u001b[0m examples\n"
      ]
     },
     "metadata": {},
     "output_type": "display_data"
    },
    {
     "data": {
      "text/html": [
       "<pre style=\"white-space:pre;overflow-x:auto;line-height:normal;font-family:Menlo,'DejaVu Sans Mono',consolas,'Courier New',monospace\">Evaluated <span style=\"color: #008080; text-decoration-color: #008080; font-weight: bold\">37</span> of <span style=\"color: #008080; text-decoration-color: #008080; font-weight: bold\">110</span> examples\n",
       "</pre>\n"
      ],
      "text/plain": [
       "Evaluated \u001b[1;36m37\u001b[0m of \u001b[1;36m110\u001b[0m examples\n"
      ]
     },
     "metadata": {},
     "output_type": "display_data"
    },
    {
     "data": {
      "text/html": [
       "<pre style=\"white-space:pre;overflow-x:auto;line-height:normal;font-family:Menlo,'DejaVu Sans Mono',consolas,'Courier New',monospace\">Evaluated <span style=\"color: #008080; text-decoration-color: #008080; font-weight: bold\">38</span> of <span style=\"color: #008080; text-decoration-color: #008080; font-weight: bold\">110</span> examples\n",
       "</pre>\n"
      ],
      "text/plain": [
       "Evaluated \u001b[1;36m38\u001b[0m of \u001b[1;36m110\u001b[0m examples\n"
      ]
     },
     "metadata": {},
     "output_type": "display_data"
    },
    {
     "data": {
      "text/html": [
       "<pre style=\"white-space:pre;overflow-x:auto;line-height:normal;font-family:Menlo,'DejaVu Sans Mono',consolas,'Courier New',monospace\">Evaluated <span style=\"color: #008080; text-decoration-color: #008080; font-weight: bold\">39</span> of <span style=\"color: #008080; text-decoration-color: #008080; font-weight: bold\">110</span> examples\n",
       "</pre>\n"
      ],
      "text/plain": [
       "Evaluated \u001b[1;36m39\u001b[0m of \u001b[1;36m110\u001b[0m examples\n"
      ]
     },
     "metadata": {},
     "output_type": "display_data"
    },
    {
     "data": {
      "text/html": [
       "<pre style=\"white-space:pre;overflow-x:auto;line-height:normal;font-family:Menlo,'DejaVu Sans Mono',consolas,'Courier New',monospace\">Evaluated <span style=\"color: #008080; text-decoration-color: #008080; font-weight: bold\">40</span> of <span style=\"color: #008080; text-decoration-color: #008080; font-weight: bold\">110</span> examples\n",
       "</pre>\n"
      ],
      "text/plain": [
       "Evaluated \u001b[1;36m40\u001b[0m of \u001b[1;36m110\u001b[0m examples\n"
      ]
     },
     "metadata": {},
     "output_type": "display_data"
    },
    {
     "data": {
      "text/html": [
       "<pre style=\"white-space:pre;overflow-x:auto;line-height:normal;font-family:Menlo,'DejaVu Sans Mono',consolas,'Courier New',monospace\">Evaluated <span style=\"color: #008080; text-decoration-color: #008080; font-weight: bold\">41</span> of <span style=\"color: #008080; text-decoration-color: #008080; font-weight: bold\">110</span> examples\n",
       "</pre>\n"
      ],
      "text/plain": [
       "Evaluated \u001b[1;36m41\u001b[0m of \u001b[1;36m110\u001b[0m examples\n"
      ]
     },
     "metadata": {},
     "output_type": "display_data"
    },
    {
     "data": {
      "text/html": [
       "<pre style=\"white-space:pre;overflow-x:auto;line-height:normal;font-family:Menlo,'DejaVu Sans Mono',consolas,'Courier New',monospace\">Evaluated <span style=\"color: #008080; text-decoration-color: #008080; font-weight: bold\">42</span> of <span style=\"color: #008080; text-decoration-color: #008080; font-weight: bold\">110</span> examples\n",
       "</pre>\n"
      ],
      "text/plain": [
       "Evaluated \u001b[1;36m42\u001b[0m of \u001b[1;36m110\u001b[0m examples\n"
      ]
     },
     "metadata": {},
     "output_type": "display_data"
    },
    {
     "data": {
      "text/html": [
       "<pre style=\"white-space:pre;overflow-x:auto;line-height:normal;font-family:Menlo,'DejaVu Sans Mono',consolas,'Courier New',monospace\">Evaluated <span style=\"color: #008080; text-decoration-color: #008080; font-weight: bold\">43</span> of <span style=\"color: #008080; text-decoration-color: #008080; font-weight: bold\">110</span> examples\n",
       "</pre>\n"
      ],
      "text/plain": [
       "Evaluated \u001b[1;36m43\u001b[0m of \u001b[1;36m110\u001b[0m examples\n"
      ]
     },
     "metadata": {},
     "output_type": "display_data"
    },
    {
     "data": {
      "text/html": [
       "<pre style=\"white-space:pre;overflow-x:auto;line-height:normal;font-family:Menlo,'DejaVu Sans Mono',consolas,'Courier New',monospace\">Evaluated <span style=\"color: #008080; text-decoration-color: #008080; font-weight: bold\">44</span> of <span style=\"color: #008080; text-decoration-color: #008080; font-weight: bold\">110</span> examples\n",
       "</pre>\n"
      ],
      "text/plain": [
       "Evaluated \u001b[1;36m44\u001b[0m of \u001b[1;36m110\u001b[0m examples\n"
      ]
     },
     "metadata": {},
     "output_type": "display_data"
    },
    {
     "data": {
      "text/html": [
       "<pre style=\"white-space:pre;overflow-x:auto;line-height:normal;font-family:Menlo,'DejaVu Sans Mono',consolas,'Courier New',monospace\">Evaluated <span style=\"color: #008080; text-decoration-color: #008080; font-weight: bold\">45</span> of <span style=\"color: #008080; text-decoration-color: #008080; font-weight: bold\">110</span> examples\n",
       "</pre>\n"
      ],
      "text/plain": [
       "Evaluated \u001b[1;36m45\u001b[0m of \u001b[1;36m110\u001b[0m examples\n"
      ]
     },
     "metadata": {},
     "output_type": "display_data"
    },
    {
     "data": {
      "text/html": [
       "<pre style=\"white-space:pre;overflow-x:auto;line-height:normal;font-family:Menlo,'DejaVu Sans Mono',consolas,'Courier New',monospace\">Evaluated <span style=\"color: #008080; text-decoration-color: #008080; font-weight: bold\">46</span> of <span style=\"color: #008080; text-decoration-color: #008080; font-weight: bold\">110</span> examples\n",
       "</pre>\n"
      ],
      "text/plain": [
       "Evaluated \u001b[1;36m46\u001b[0m of \u001b[1;36m110\u001b[0m examples\n"
      ]
     },
     "metadata": {},
     "output_type": "display_data"
    },
    {
     "data": {
      "text/html": [
       "<pre style=\"white-space:pre;overflow-x:auto;line-height:normal;font-family:Menlo,'DejaVu Sans Mono',consolas,'Courier New',monospace\">Evaluated <span style=\"color: #008080; text-decoration-color: #008080; font-weight: bold\">47</span> of <span style=\"color: #008080; text-decoration-color: #008080; font-weight: bold\">110</span> examples\n",
       "</pre>\n"
      ],
      "text/plain": [
       "Evaluated \u001b[1;36m47\u001b[0m of \u001b[1;36m110\u001b[0m examples\n"
      ]
     },
     "metadata": {},
     "output_type": "display_data"
    },
    {
     "data": {
      "text/html": [
       "<pre style=\"white-space:pre;overflow-x:auto;line-height:normal;font-family:Menlo,'DejaVu Sans Mono',consolas,'Courier New',monospace\">Evaluated <span style=\"color: #008080; text-decoration-color: #008080; font-weight: bold\">48</span> of <span style=\"color: #008080; text-decoration-color: #008080; font-weight: bold\">110</span> examples\n",
       "</pre>\n"
      ],
      "text/plain": [
       "Evaluated \u001b[1;36m48\u001b[0m of \u001b[1;36m110\u001b[0m examples\n"
      ]
     },
     "metadata": {},
     "output_type": "display_data"
    },
    {
     "data": {
      "text/html": [
       "<pre style=\"white-space:pre;overflow-x:auto;line-height:normal;font-family:Menlo,'DejaVu Sans Mono',consolas,'Courier New',monospace\">Evaluated <span style=\"color: #008080; text-decoration-color: #008080; font-weight: bold\">49</span> of <span style=\"color: #008080; text-decoration-color: #008080; font-weight: bold\">110</span> examples\n",
       "</pre>\n"
      ],
      "text/plain": [
       "Evaluated \u001b[1;36m49\u001b[0m of \u001b[1;36m110\u001b[0m examples\n"
      ]
     },
     "metadata": {},
     "output_type": "display_data"
    },
    {
     "data": {
      "text/html": [
       "<pre style=\"white-space:pre;overflow-x:auto;line-height:normal;font-family:Menlo,'DejaVu Sans Mono',consolas,'Courier New',monospace\">Evaluated <span style=\"color: #008080; text-decoration-color: #008080; font-weight: bold\">50</span> of <span style=\"color: #008080; text-decoration-color: #008080; font-weight: bold\">110</span> examples\n",
       "</pre>\n"
      ],
      "text/plain": [
       "Evaluated \u001b[1;36m50\u001b[0m of \u001b[1;36m110\u001b[0m examples\n"
      ]
     },
     "metadata": {},
     "output_type": "display_data"
    },
    {
     "data": {
      "text/html": [
       "<pre style=\"white-space:pre;overflow-x:auto;line-height:normal;font-family:Menlo,'DejaVu Sans Mono',consolas,'Courier New',monospace\">Evaluated <span style=\"color: #008080; text-decoration-color: #008080; font-weight: bold\">51</span> of <span style=\"color: #008080; text-decoration-color: #008080; font-weight: bold\">110</span> examples\n",
       "</pre>\n"
      ],
      "text/plain": [
       "Evaluated \u001b[1;36m51\u001b[0m of \u001b[1;36m110\u001b[0m examples\n"
      ]
     },
     "metadata": {},
     "output_type": "display_data"
    },
    {
     "data": {
      "text/html": [
       "<pre style=\"white-space:pre;overflow-x:auto;line-height:normal;font-family:Menlo,'DejaVu Sans Mono',consolas,'Courier New',monospace\">Evaluated <span style=\"color: #008080; text-decoration-color: #008080; font-weight: bold\">52</span> of <span style=\"color: #008080; text-decoration-color: #008080; font-weight: bold\">110</span> examples\n",
       "</pre>\n"
      ],
      "text/plain": [
       "Evaluated \u001b[1;36m52\u001b[0m of \u001b[1;36m110\u001b[0m examples\n"
      ]
     },
     "metadata": {},
     "output_type": "display_data"
    },
    {
     "data": {
      "text/html": [
       "<pre style=\"white-space:pre;overflow-x:auto;line-height:normal;font-family:Menlo,'DejaVu Sans Mono',consolas,'Courier New',monospace\">Evaluated <span style=\"color: #008080; text-decoration-color: #008080; font-weight: bold\">53</span> of <span style=\"color: #008080; text-decoration-color: #008080; font-weight: bold\">110</span> examples\n",
       "</pre>\n"
      ],
      "text/plain": [
       "Evaluated \u001b[1;36m53\u001b[0m of \u001b[1;36m110\u001b[0m examples\n"
      ]
     },
     "metadata": {},
     "output_type": "display_data"
    },
    {
     "data": {
      "text/html": [
       "<pre style=\"white-space:pre;overflow-x:auto;line-height:normal;font-family:Menlo,'DejaVu Sans Mono',consolas,'Courier New',monospace\">Evaluated <span style=\"color: #008080; text-decoration-color: #008080; font-weight: bold\">54</span> of <span style=\"color: #008080; text-decoration-color: #008080; font-weight: bold\">110</span> examples\n",
       "</pre>\n"
      ],
      "text/plain": [
       "Evaluated \u001b[1;36m54\u001b[0m of \u001b[1;36m110\u001b[0m examples\n"
      ]
     },
     "metadata": {},
     "output_type": "display_data"
    },
    {
     "data": {
      "text/html": [
       "<pre style=\"white-space:pre;overflow-x:auto;line-height:normal;font-family:Menlo,'DejaVu Sans Mono',consolas,'Courier New',monospace\">Evaluated <span style=\"color: #008080; text-decoration-color: #008080; font-weight: bold\">55</span> of <span style=\"color: #008080; text-decoration-color: #008080; font-weight: bold\">110</span> examples\n",
       "</pre>\n"
      ],
      "text/plain": [
       "Evaluated \u001b[1;36m55\u001b[0m of \u001b[1;36m110\u001b[0m examples\n"
      ]
     },
     "metadata": {},
     "output_type": "display_data"
    },
    {
     "data": {
      "text/html": [
       "<pre style=\"white-space:pre;overflow-x:auto;line-height:normal;font-family:Menlo,'DejaVu Sans Mono',consolas,'Courier New',monospace\">Evaluated <span style=\"color: #008080; text-decoration-color: #008080; font-weight: bold\">56</span> of <span style=\"color: #008080; text-decoration-color: #008080; font-weight: bold\">110</span> examples\n",
       "</pre>\n"
      ],
      "text/plain": [
       "Evaluated \u001b[1;36m56\u001b[0m of \u001b[1;36m110\u001b[0m examples\n"
      ]
     },
     "metadata": {},
     "output_type": "display_data"
    },
    {
     "data": {
      "text/html": [
       "<pre style=\"white-space:pre;overflow-x:auto;line-height:normal;font-family:Menlo,'DejaVu Sans Mono',consolas,'Courier New',monospace\">Evaluated <span style=\"color: #008080; text-decoration-color: #008080; font-weight: bold\">57</span> of <span style=\"color: #008080; text-decoration-color: #008080; font-weight: bold\">110</span> examples\n",
       "</pre>\n"
      ],
      "text/plain": [
       "Evaluated \u001b[1;36m57\u001b[0m of \u001b[1;36m110\u001b[0m examples\n"
      ]
     },
     "metadata": {},
     "output_type": "display_data"
    },
    {
     "data": {
      "text/html": [
       "<pre style=\"white-space:pre;overflow-x:auto;line-height:normal;font-family:Menlo,'DejaVu Sans Mono',consolas,'Courier New',monospace\">Evaluated <span style=\"color: #008080; text-decoration-color: #008080; font-weight: bold\">58</span> of <span style=\"color: #008080; text-decoration-color: #008080; font-weight: bold\">110</span> examples\n",
       "</pre>\n"
      ],
      "text/plain": [
       "Evaluated \u001b[1;36m58\u001b[0m of \u001b[1;36m110\u001b[0m examples\n"
      ]
     },
     "metadata": {},
     "output_type": "display_data"
    },
    {
     "data": {
      "text/html": [
       "<pre style=\"white-space:pre;overflow-x:auto;line-height:normal;font-family:Menlo,'DejaVu Sans Mono',consolas,'Courier New',monospace\">Evaluated <span style=\"color: #008080; text-decoration-color: #008080; font-weight: bold\">59</span> of <span style=\"color: #008080; text-decoration-color: #008080; font-weight: bold\">110</span> examples\n",
       "</pre>\n"
      ],
      "text/plain": [
       "Evaluated \u001b[1;36m59\u001b[0m of \u001b[1;36m110\u001b[0m examples\n"
      ]
     },
     "metadata": {},
     "output_type": "display_data"
    },
    {
     "data": {
      "text/html": [
       "<pre style=\"white-space:pre;overflow-x:auto;line-height:normal;font-family:Menlo,'DejaVu Sans Mono',consolas,'Courier New',monospace\">Evaluated <span style=\"color: #008080; text-decoration-color: #008080; font-weight: bold\">60</span> of <span style=\"color: #008080; text-decoration-color: #008080; font-weight: bold\">110</span> examples\n",
       "</pre>\n"
      ],
      "text/plain": [
       "Evaluated \u001b[1;36m60\u001b[0m of \u001b[1;36m110\u001b[0m examples\n"
      ]
     },
     "metadata": {},
     "output_type": "display_data"
    },
    {
     "data": {
      "text/html": [
       "<pre style=\"white-space:pre;overflow-x:auto;line-height:normal;font-family:Menlo,'DejaVu Sans Mono',consolas,'Courier New',monospace\">Evaluated <span style=\"color: #008080; text-decoration-color: #008080; font-weight: bold\">61</span> of <span style=\"color: #008080; text-decoration-color: #008080; font-weight: bold\">110</span> examples\n",
       "</pre>\n"
      ],
      "text/plain": [
       "Evaluated \u001b[1;36m61\u001b[0m of \u001b[1;36m110\u001b[0m examples\n"
      ]
     },
     "metadata": {},
     "output_type": "display_data"
    },
    {
     "data": {
      "text/html": [
       "<pre style=\"white-space:pre;overflow-x:auto;line-height:normal;font-family:Menlo,'DejaVu Sans Mono',consolas,'Courier New',monospace\">Evaluated <span style=\"color: #008080; text-decoration-color: #008080; font-weight: bold\">62</span> of <span style=\"color: #008080; text-decoration-color: #008080; font-weight: bold\">110</span> examples\n",
       "</pre>\n"
      ],
      "text/plain": [
       "Evaluated \u001b[1;36m62\u001b[0m of \u001b[1;36m110\u001b[0m examples\n"
      ]
     },
     "metadata": {},
     "output_type": "display_data"
    },
    {
     "data": {
      "text/html": [
       "<pre style=\"white-space:pre;overflow-x:auto;line-height:normal;font-family:Menlo,'DejaVu Sans Mono',consolas,'Courier New',monospace\">Evaluated <span style=\"color: #008080; text-decoration-color: #008080; font-weight: bold\">63</span> of <span style=\"color: #008080; text-decoration-color: #008080; font-weight: bold\">110</span> examples\n",
       "</pre>\n"
      ],
      "text/plain": [
       "Evaluated \u001b[1;36m63\u001b[0m of \u001b[1;36m110\u001b[0m examples\n"
      ]
     },
     "metadata": {},
     "output_type": "display_data"
    },
    {
     "data": {
      "text/html": [
       "<pre style=\"white-space:pre;overflow-x:auto;line-height:normal;font-family:Menlo,'DejaVu Sans Mono',consolas,'Courier New',monospace\">Evaluated <span style=\"color: #008080; text-decoration-color: #008080; font-weight: bold\">64</span> of <span style=\"color: #008080; text-decoration-color: #008080; font-weight: bold\">110</span> examples\n",
       "</pre>\n"
      ],
      "text/plain": [
       "Evaluated \u001b[1;36m64\u001b[0m of \u001b[1;36m110\u001b[0m examples\n"
      ]
     },
     "metadata": {},
     "output_type": "display_data"
    },
    {
     "data": {
      "text/html": [
       "<pre style=\"white-space:pre;overflow-x:auto;line-height:normal;font-family:Menlo,'DejaVu Sans Mono',consolas,'Courier New',monospace\">Evaluated <span style=\"color: #008080; text-decoration-color: #008080; font-weight: bold\">65</span> of <span style=\"color: #008080; text-decoration-color: #008080; font-weight: bold\">110</span> examples\n",
       "</pre>\n"
      ],
      "text/plain": [
       "Evaluated \u001b[1;36m65\u001b[0m of \u001b[1;36m110\u001b[0m examples\n"
      ]
     },
     "metadata": {},
     "output_type": "display_data"
    },
    {
     "data": {
      "text/html": [
       "<pre style=\"white-space:pre;overflow-x:auto;line-height:normal;font-family:Menlo,'DejaVu Sans Mono',consolas,'Courier New',monospace\">Evaluated <span style=\"color: #008080; text-decoration-color: #008080; font-weight: bold\">66</span> of <span style=\"color: #008080; text-decoration-color: #008080; font-weight: bold\">110</span> examples\n",
       "</pre>\n"
      ],
      "text/plain": [
       "Evaluated \u001b[1;36m66\u001b[0m of \u001b[1;36m110\u001b[0m examples\n"
      ]
     },
     "metadata": {},
     "output_type": "display_data"
    },
    {
     "data": {
      "text/html": [
       "<pre style=\"white-space:pre;overflow-x:auto;line-height:normal;font-family:Menlo,'DejaVu Sans Mono',consolas,'Courier New',monospace\">Evaluated <span style=\"color: #008080; text-decoration-color: #008080; font-weight: bold\">67</span> of <span style=\"color: #008080; text-decoration-color: #008080; font-weight: bold\">110</span> examples\n",
       "</pre>\n"
      ],
      "text/plain": [
       "Evaluated \u001b[1;36m67\u001b[0m of \u001b[1;36m110\u001b[0m examples\n"
      ]
     },
     "metadata": {},
     "output_type": "display_data"
    },
    {
     "data": {
      "text/html": [
       "<pre style=\"white-space:pre;overflow-x:auto;line-height:normal;font-family:Menlo,'DejaVu Sans Mono',consolas,'Courier New',monospace\">Evaluated <span style=\"color: #008080; text-decoration-color: #008080; font-weight: bold\">68</span> of <span style=\"color: #008080; text-decoration-color: #008080; font-weight: bold\">110</span> examples\n",
       "</pre>\n"
      ],
      "text/plain": [
       "Evaluated \u001b[1;36m68\u001b[0m of \u001b[1;36m110\u001b[0m examples\n"
      ]
     },
     "metadata": {},
     "output_type": "display_data"
    },
    {
     "data": {
      "text/html": [
       "<pre style=\"white-space:pre;overflow-x:auto;line-height:normal;font-family:Menlo,'DejaVu Sans Mono',consolas,'Courier New',monospace\">Evaluated <span style=\"color: #008080; text-decoration-color: #008080; font-weight: bold\">69</span> of <span style=\"color: #008080; text-decoration-color: #008080; font-weight: bold\">110</span> examples\n",
       "</pre>\n"
      ],
      "text/plain": [
       "Evaluated \u001b[1;36m69\u001b[0m of \u001b[1;36m110\u001b[0m examples\n"
      ]
     },
     "metadata": {},
     "output_type": "display_data"
    },
    {
     "data": {
      "text/html": [
       "<pre style=\"white-space:pre;overflow-x:auto;line-height:normal;font-family:Menlo,'DejaVu Sans Mono',consolas,'Courier New',monospace\">Evaluated <span style=\"color: #008080; text-decoration-color: #008080; font-weight: bold\">70</span> of <span style=\"color: #008080; text-decoration-color: #008080; font-weight: bold\">110</span> examples\n",
       "</pre>\n"
      ],
      "text/plain": [
       "Evaluated \u001b[1;36m70\u001b[0m of \u001b[1;36m110\u001b[0m examples\n"
      ]
     },
     "metadata": {},
     "output_type": "display_data"
    },
    {
     "data": {
      "text/html": [
       "<pre style=\"white-space:pre;overflow-x:auto;line-height:normal;font-family:Menlo,'DejaVu Sans Mono',consolas,'Courier New',monospace\">Evaluated <span style=\"color: #008080; text-decoration-color: #008080; font-weight: bold\">71</span> of <span style=\"color: #008080; text-decoration-color: #008080; font-weight: bold\">110</span> examples\n",
       "</pre>\n"
      ],
      "text/plain": [
       "Evaluated \u001b[1;36m71\u001b[0m of \u001b[1;36m110\u001b[0m examples\n"
      ]
     },
     "metadata": {},
     "output_type": "display_data"
    },
    {
     "data": {
      "text/html": [
       "<pre style=\"white-space:pre;overflow-x:auto;line-height:normal;font-family:Menlo,'DejaVu Sans Mono',consolas,'Courier New',monospace\">Evaluated <span style=\"color: #008080; text-decoration-color: #008080; font-weight: bold\">72</span> of <span style=\"color: #008080; text-decoration-color: #008080; font-weight: bold\">110</span> examples\n",
       "</pre>\n"
      ],
      "text/plain": [
       "Evaluated \u001b[1;36m72\u001b[0m of \u001b[1;36m110\u001b[0m examples\n"
      ]
     },
     "metadata": {},
     "output_type": "display_data"
    },
    {
     "data": {
      "text/html": [
       "<pre style=\"white-space:pre;overflow-x:auto;line-height:normal;font-family:Menlo,'DejaVu Sans Mono',consolas,'Courier New',monospace\">Evaluated <span style=\"color: #008080; text-decoration-color: #008080; font-weight: bold\">73</span> of <span style=\"color: #008080; text-decoration-color: #008080; font-weight: bold\">110</span> examples\n",
       "</pre>\n"
      ],
      "text/plain": [
       "Evaluated \u001b[1;36m73\u001b[0m of \u001b[1;36m110\u001b[0m examples\n"
      ]
     },
     "metadata": {},
     "output_type": "display_data"
    },
    {
     "data": {
      "text/html": [
       "<pre style=\"white-space:pre;overflow-x:auto;line-height:normal;font-family:Menlo,'DejaVu Sans Mono',consolas,'Courier New',monospace\">Evaluated <span style=\"color: #008080; text-decoration-color: #008080; font-weight: bold\">74</span> of <span style=\"color: #008080; text-decoration-color: #008080; font-weight: bold\">110</span> examples\n",
       "</pre>\n"
      ],
      "text/plain": [
       "Evaluated \u001b[1;36m74\u001b[0m of \u001b[1;36m110\u001b[0m examples\n"
      ]
     },
     "metadata": {},
     "output_type": "display_data"
    },
    {
     "data": {
      "text/html": [
       "<pre style=\"white-space:pre;overflow-x:auto;line-height:normal;font-family:Menlo,'DejaVu Sans Mono',consolas,'Courier New',monospace\">Evaluated <span style=\"color: #008080; text-decoration-color: #008080; font-weight: bold\">75</span> of <span style=\"color: #008080; text-decoration-color: #008080; font-weight: bold\">110</span> examples\n",
       "</pre>\n"
      ],
      "text/plain": [
       "Evaluated \u001b[1;36m75\u001b[0m of \u001b[1;36m110\u001b[0m examples\n"
      ]
     },
     "metadata": {},
     "output_type": "display_data"
    },
    {
     "data": {
      "text/html": [
       "<pre style=\"white-space:pre;overflow-x:auto;line-height:normal;font-family:Menlo,'DejaVu Sans Mono',consolas,'Courier New',monospace\">Evaluated <span style=\"color: #008080; text-decoration-color: #008080; font-weight: bold\">76</span> of <span style=\"color: #008080; text-decoration-color: #008080; font-weight: bold\">110</span> examples\n",
       "</pre>\n"
      ],
      "text/plain": [
       "Evaluated \u001b[1;36m76\u001b[0m of \u001b[1;36m110\u001b[0m examples\n"
      ]
     },
     "metadata": {},
     "output_type": "display_data"
    },
    {
     "data": {
      "text/html": [
       "<pre style=\"white-space:pre;overflow-x:auto;line-height:normal;font-family:Menlo,'DejaVu Sans Mono',consolas,'Courier New',monospace\">Evaluated <span style=\"color: #008080; text-decoration-color: #008080; font-weight: bold\">77</span> of <span style=\"color: #008080; text-decoration-color: #008080; font-weight: bold\">110</span> examples\n",
       "</pre>\n"
      ],
      "text/plain": [
       "Evaluated \u001b[1;36m77\u001b[0m of \u001b[1;36m110\u001b[0m examples\n"
      ]
     },
     "metadata": {},
     "output_type": "display_data"
    },
    {
     "data": {
      "text/html": [
       "<pre style=\"white-space:pre;overflow-x:auto;line-height:normal;font-family:Menlo,'DejaVu Sans Mono',consolas,'Courier New',monospace\">Evaluated <span style=\"color: #008080; text-decoration-color: #008080; font-weight: bold\">78</span> of <span style=\"color: #008080; text-decoration-color: #008080; font-weight: bold\">110</span> examples\n",
       "</pre>\n"
      ],
      "text/plain": [
       "Evaluated \u001b[1;36m78\u001b[0m of \u001b[1;36m110\u001b[0m examples\n"
      ]
     },
     "metadata": {},
     "output_type": "display_data"
    },
    {
     "data": {
      "text/html": [
       "<pre style=\"white-space:pre;overflow-x:auto;line-height:normal;font-family:Menlo,'DejaVu Sans Mono',consolas,'Courier New',monospace\">Evaluated <span style=\"color: #008080; text-decoration-color: #008080; font-weight: bold\">79</span> of <span style=\"color: #008080; text-decoration-color: #008080; font-weight: bold\">110</span> examples\n",
       "</pre>\n"
      ],
      "text/plain": [
       "Evaluated \u001b[1;36m79\u001b[0m of \u001b[1;36m110\u001b[0m examples\n"
      ]
     },
     "metadata": {},
     "output_type": "display_data"
    },
    {
     "data": {
      "text/html": [
       "<pre style=\"white-space:pre;overflow-x:auto;line-height:normal;font-family:Menlo,'DejaVu Sans Mono',consolas,'Courier New',monospace\">Evaluated <span style=\"color: #008080; text-decoration-color: #008080; font-weight: bold\">80</span> of <span style=\"color: #008080; text-decoration-color: #008080; font-weight: bold\">110</span> examples\n",
       "</pre>\n"
      ],
      "text/plain": [
       "Evaluated \u001b[1;36m80\u001b[0m of \u001b[1;36m110\u001b[0m examples\n"
      ]
     },
     "metadata": {},
     "output_type": "display_data"
    },
    {
     "data": {
      "text/html": [
       "<pre style=\"white-space:pre;overflow-x:auto;line-height:normal;font-family:Menlo,'DejaVu Sans Mono',consolas,'Courier New',monospace\">Evaluated <span style=\"color: #008080; text-decoration-color: #008080; font-weight: bold\">81</span> of <span style=\"color: #008080; text-decoration-color: #008080; font-weight: bold\">110</span> examples\n",
       "</pre>\n"
      ],
      "text/plain": [
       "Evaluated \u001b[1;36m81\u001b[0m of \u001b[1;36m110\u001b[0m examples\n"
      ]
     },
     "metadata": {},
     "output_type": "display_data"
    },
    {
     "data": {
      "text/html": [
       "<pre style=\"white-space:pre;overflow-x:auto;line-height:normal;font-family:Menlo,'DejaVu Sans Mono',consolas,'Courier New',monospace\">Evaluated <span style=\"color: #008080; text-decoration-color: #008080; font-weight: bold\">82</span> of <span style=\"color: #008080; text-decoration-color: #008080; font-weight: bold\">110</span> examples\n",
       "</pre>\n"
      ],
      "text/plain": [
       "Evaluated \u001b[1;36m82\u001b[0m of \u001b[1;36m110\u001b[0m examples\n"
      ]
     },
     "metadata": {},
     "output_type": "display_data"
    },
    {
     "data": {
      "text/html": [
       "<pre style=\"white-space:pre;overflow-x:auto;line-height:normal;font-family:Menlo,'DejaVu Sans Mono',consolas,'Courier New',monospace\">Evaluated <span style=\"color: #008080; text-decoration-color: #008080; font-weight: bold\">83</span> of <span style=\"color: #008080; text-decoration-color: #008080; font-weight: bold\">110</span> examples\n",
       "</pre>\n"
      ],
      "text/plain": [
       "Evaluated \u001b[1;36m83\u001b[0m of \u001b[1;36m110\u001b[0m examples\n"
      ]
     },
     "metadata": {},
     "output_type": "display_data"
    },
    {
     "data": {
      "text/html": [
       "<pre style=\"white-space:pre;overflow-x:auto;line-height:normal;font-family:Menlo,'DejaVu Sans Mono',consolas,'Courier New',monospace\">Evaluated <span style=\"color: #008080; text-decoration-color: #008080; font-weight: bold\">84</span> of <span style=\"color: #008080; text-decoration-color: #008080; font-weight: bold\">110</span> examples\n",
       "</pre>\n"
      ],
      "text/plain": [
       "Evaluated \u001b[1;36m84\u001b[0m of \u001b[1;36m110\u001b[0m examples\n"
      ]
     },
     "metadata": {},
     "output_type": "display_data"
    },
    {
     "data": {
      "text/html": [
       "<pre style=\"white-space:pre;overflow-x:auto;line-height:normal;font-family:Menlo,'DejaVu Sans Mono',consolas,'Courier New',monospace\">Evaluated <span style=\"color: #008080; text-decoration-color: #008080; font-weight: bold\">85</span> of <span style=\"color: #008080; text-decoration-color: #008080; font-weight: bold\">110</span> examples\n",
       "</pre>\n"
      ],
      "text/plain": [
       "Evaluated \u001b[1;36m85\u001b[0m of \u001b[1;36m110\u001b[0m examples\n"
      ]
     },
     "metadata": {},
     "output_type": "display_data"
    },
    {
     "data": {
      "text/html": [
       "<pre style=\"white-space:pre;overflow-x:auto;line-height:normal;font-family:Menlo,'DejaVu Sans Mono',consolas,'Courier New',monospace\">Evaluated <span style=\"color: #008080; text-decoration-color: #008080; font-weight: bold\">86</span> of <span style=\"color: #008080; text-decoration-color: #008080; font-weight: bold\">110</span> examples\n",
       "</pre>\n"
      ],
      "text/plain": [
       "Evaluated \u001b[1;36m86\u001b[0m of \u001b[1;36m110\u001b[0m examples\n"
      ]
     },
     "metadata": {},
     "output_type": "display_data"
    },
    {
     "data": {
      "text/html": [
       "<pre style=\"white-space:pre;overflow-x:auto;line-height:normal;font-family:Menlo,'DejaVu Sans Mono',consolas,'Courier New',monospace\">Evaluated <span style=\"color: #008080; text-decoration-color: #008080; font-weight: bold\">87</span> of <span style=\"color: #008080; text-decoration-color: #008080; font-weight: bold\">110</span> examples\n",
       "</pre>\n"
      ],
      "text/plain": [
       "Evaluated \u001b[1;36m87\u001b[0m of \u001b[1;36m110\u001b[0m examples\n"
      ]
     },
     "metadata": {},
     "output_type": "display_data"
    },
    {
     "data": {
      "text/html": [
       "<pre style=\"white-space:pre;overflow-x:auto;line-height:normal;font-family:Menlo,'DejaVu Sans Mono',consolas,'Courier New',monospace\">Evaluated <span style=\"color: #008080; text-decoration-color: #008080; font-weight: bold\">88</span> of <span style=\"color: #008080; text-decoration-color: #008080; font-weight: bold\">110</span> examples\n",
       "</pre>\n"
      ],
      "text/plain": [
       "Evaluated \u001b[1;36m88\u001b[0m of \u001b[1;36m110\u001b[0m examples\n"
      ]
     },
     "metadata": {},
     "output_type": "display_data"
    },
    {
     "data": {
      "text/html": [
       "<pre style=\"white-space:pre;overflow-x:auto;line-height:normal;font-family:Menlo,'DejaVu Sans Mono',consolas,'Courier New',monospace\">Evaluated <span style=\"color: #008080; text-decoration-color: #008080; font-weight: bold\">89</span> of <span style=\"color: #008080; text-decoration-color: #008080; font-weight: bold\">110</span> examples\n",
       "</pre>\n"
      ],
      "text/plain": [
       "Evaluated \u001b[1;36m89\u001b[0m of \u001b[1;36m110\u001b[0m examples\n"
      ]
     },
     "metadata": {},
     "output_type": "display_data"
    },
    {
     "data": {
      "text/html": [
       "<pre style=\"white-space:pre;overflow-x:auto;line-height:normal;font-family:Menlo,'DejaVu Sans Mono',consolas,'Courier New',monospace\">Evaluated <span style=\"color: #008080; text-decoration-color: #008080; font-weight: bold\">90</span> of <span style=\"color: #008080; text-decoration-color: #008080; font-weight: bold\">110</span> examples\n",
       "</pre>\n"
      ],
      "text/plain": [
       "Evaluated \u001b[1;36m90\u001b[0m of \u001b[1;36m110\u001b[0m examples\n"
      ]
     },
     "metadata": {},
     "output_type": "display_data"
    },
    {
     "data": {
      "text/html": [
       "<pre style=\"white-space:pre;overflow-x:auto;line-height:normal;font-family:Menlo,'DejaVu Sans Mono',consolas,'Courier New',monospace\">Evaluated <span style=\"color: #008080; text-decoration-color: #008080; font-weight: bold\">91</span> of <span style=\"color: #008080; text-decoration-color: #008080; font-weight: bold\">110</span> examples\n",
       "</pre>\n"
      ],
      "text/plain": [
       "Evaluated \u001b[1;36m91\u001b[0m of \u001b[1;36m110\u001b[0m examples\n"
      ]
     },
     "metadata": {},
     "output_type": "display_data"
    },
    {
     "data": {
      "text/html": [
       "<pre style=\"white-space:pre;overflow-x:auto;line-height:normal;font-family:Menlo,'DejaVu Sans Mono',consolas,'Courier New',monospace\">Evaluated <span style=\"color: #008080; text-decoration-color: #008080; font-weight: bold\">92</span> of <span style=\"color: #008080; text-decoration-color: #008080; font-weight: bold\">110</span> examples\n",
       "</pre>\n"
      ],
      "text/plain": [
       "Evaluated \u001b[1;36m92\u001b[0m of \u001b[1;36m110\u001b[0m examples\n"
      ]
     },
     "metadata": {},
     "output_type": "display_data"
    },
    {
     "data": {
      "text/html": [
       "<pre style=\"white-space:pre;overflow-x:auto;line-height:normal;font-family:Menlo,'DejaVu Sans Mono',consolas,'Courier New',monospace\">Evaluated <span style=\"color: #008080; text-decoration-color: #008080; font-weight: bold\">93</span> of <span style=\"color: #008080; text-decoration-color: #008080; font-weight: bold\">110</span> examples\n",
       "</pre>\n"
      ],
      "text/plain": [
       "Evaluated \u001b[1;36m93\u001b[0m of \u001b[1;36m110\u001b[0m examples\n"
      ]
     },
     "metadata": {},
     "output_type": "display_data"
    },
    {
     "data": {
      "text/html": [
       "<pre style=\"white-space:pre;overflow-x:auto;line-height:normal;font-family:Menlo,'DejaVu Sans Mono',consolas,'Courier New',monospace\">Evaluated <span style=\"color: #008080; text-decoration-color: #008080; font-weight: bold\">94</span> of <span style=\"color: #008080; text-decoration-color: #008080; font-weight: bold\">110</span> examples\n",
       "</pre>\n"
      ],
      "text/plain": [
       "Evaluated \u001b[1;36m94\u001b[0m of \u001b[1;36m110\u001b[0m examples\n"
      ]
     },
     "metadata": {},
     "output_type": "display_data"
    },
    {
     "data": {
      "text/html": [
       "<pre style=\"white-space:pre;overflow-x:auto;line-height:normal;font-family:Menlo,'DejaVu Sans Mono',consolas,'Courier New',monospace\">Evaluated <span style=\"color: #008080; text-decoration-color: #008080; font-weight: bold\">95</span> of <span style=\"color: #008080; text-decoration-color: #008080; font-weight: bold\">110</span> examples\n",
       "</pre>\n"
      ],
      "text/plain": [
       "Evaluated \u001b[1;36m95\u001b[0m of \u001b[1;36m110\u001b[0m examples\n"
      ]
     },
     "metadata": {},
     "output_type": "display_data"
    },
    {
     "data": {
      "text/html": [
       "<pre style=\"white-space:pre;overflow-x:auto;line-height:normal;font-family:Menlo,'DejaVu Sans Mono',consolas,'Courier New',monospace\">Evaluated <span style=\"color: #008080; text-decoration-color: #008080; font-weight: bold\">96</span> of <span style=\"color: #008080; text-decoration-color: #008080; font-weight: bold\">110</span> examples\n",
       "</pre>\n"
      ],
      "text/plain": [
       "Evaluated \u001b[1;36m96\u001b[0m of \u001b[1;36m110\u001b[0m examples\n"
      ]
     },
     "metadata": {},
     "output_type": "display_data"
    },
    {
     "data": {
      "text/html": [
       "<pre style=\"white-space:pre;overflow-x:auto;line-height:normal;font-family:Menlo,'DejaVu Sans Mono',consolas,'Courier New',monospace\">Evaluated <span style=\"color: #008080; text-decoration-color: #008080; font-weight: bold\">97</span> of <span style=\"color: #008080; text-decoration-color: #008080; font-weight: bold\">110</span> examples\n",
       "</pre>\n"
      ],
      "text/plain": [
       "Evaluated \u001b[1;36m97\u001b[0m of \u001b[1;36m110\u001b[0m examples\n"
      ]
     },
     "metadata": {},
     "output_type": "display_data"
    },
    {
     "data": {
      "text/html": [
       "<pre style=\"white-space:pre;overflow-x:auto;line-height:normal;font-family:Menlo,'DejaVu Sans Mono',consolas,'Courier New',monospace\">Evaluated <span style=\"color: #008080; text-decoration-color: #008080; font-weight: bold\">98</span> of <span style=\"color: #008080; text-decoration-color: #008080; font-weight: bold\">110</span> examples\n",
       "</pre>\n"
      ],
      "text/plain": [
       "Evaluated \u001b[1;36m98\u001b[0m of \u001b[1;36m110\u001b[0m examples\n"
      ]
     },
     "metadata": {},
     "output_type": "display_data"
    },
    {
     "data": {
      "text/html": [
       "<pre style=\"white-space:pre;overflow-x:auto;line-height:normal;font-family:Menlo,'DejaVu Sans Mono',consolas,'Courier New',monospace\">Evaluated <span style=\"color: #008080; text-decoration-color: #008080; font-weight: bold\">99</span> of <span style=\"color: #008080; text-decoration-color: #008080; font-weight: bold\">110</span> examples\n",
       "</pre>\n"
      ],
      "text/plain": [
       "Evaluated \u001b[1;36m99\u001b[0m of \u001b[1;36m110\u001b[0m examples\n"
      ]
     },
     "metadata": {},
     "output_type": "display_data"
    },
    {
     "data": {
      "text/html": [
       "<pre style=\"white-space:pre;overflow-x:auto;line-height:normal;font-family:Menlo,'DejaVu Sans Mono',consolas,'Courier New',monospace\">Evaluated <span style=\"color: #008080; text-decoration-color: #008080; font-weight: bold\">100</span> of <span style=\"color: #008080; text-decoration-color: #008080; font-weight: bold\">110</span> examples\n",
       "</pre>\n"
      ],
      "text/plain": [
       "Evaluated \u001b[1;36m100\u001b[0m of \u001b[1;36m110\u001b[0m examples\n"
      ]
     },
     "metadata": {},
     "output_type": "display_data"
    },
    {
     "data": {
      "text/html": [
       "<pre style=\"white-space:pre;overflow-x:auto;line-height:normal;font-family:Menlo,'DejaVu Sans Mono',consolas,'Courier New',monospace\">Evaluated <span style=\"color: #008080; text-decoration-color: #008080; font-weight: bold\">101</span> of <span style=\"color: #008080; text-decoration-color: #008080; font-weight: bold\">110</span> examples\n",
       "</pre>\n"
      ],
      "text/plain": [
       "Evaluated \u001b[1;36m101\u001b[0m of \u001b[1;36m110\u001b[0m examples\n"
      ]
     },
     "metadata": {},
     "output_type": "display_data"
    },
    {
     "data": {
      "text/html": [
       "<pre style=\"white-space:pre;overflow-x:auto;line-height:normal;font-family:Menlo,'DejaVu Sans Mono',consolas,'Courier New',monospace\">Evaluated <span style=\"color: #008080; text-decoration-color: #008080; font-weight: bold\">102</span> of <span style=\"color: #008080; text-decoration-color: #008080; font-weight: bold\">110</span> examples\n",
       "</pre>\n"
      ],
      "text/plain": [
       "Evaluated \u001b[1;36m102\u001b[0m of \u001b[1;36m110\u001b[0m examples\n"
      ]
     },
     "metadata": {},
     "output_type": "display_data"
    },
    {
     "data": {
      "text/html": [
       "<pre style=\"white-space:pre;overflow-x:auto;line-height:normal;font-family:Menlo,'DejaVu Sans Mono',consolas,'Courier New',monospace\">Evaluated <span style=\"color: #008080; text-decoration-color: #008080; font-weight: bold\">103</span> of <span style=\"color: #008080; text-decoration-color: #008080; font-weight: bold\">110</span> examples\n",
       "</pre>\n"
      ],
      "text/plain": [
       "Evaluated \u001b[1;36m103\u001b[0m of \u001b[1;36m110\u001b[0m examples\n"
      ]
     },
     "metadata": {},
     "output_type": "display_data"
    },
    {
     "data": {
      "text/html": [
       "<pre style=\"white-space:pre;overflow-x:auto;line-height:normal;font-family:Menlo,'DejaVu Sans Mono',consolas,'Courier New',monospace\">Evaluated <span style=\"color: #008080; text-decoration-color: #008080; font-weight: bold\">104</span> of <span style=\"color: #008080; text-decoration-color: #008080; font-weight: bold\">110</span> examples\n",
       "</pre>\n"
      ],
      "text/plain": [
       "Evaluated \u001b[1;36m104\u001b[0m of \u001b[1;36m110\u001b[0m examples\n"
      ]
     },
     "metadata": {},
     "output_type": "display_data"
    },
    {
     "data": {
      "text/html": [
       "<pre style=\"white-space:pre;overflow-x:auto;line-height:normal;font-family:Menlo,'DejaVu Sans Mono',consolas,'Courier New',monospace\">Evaluated <span style=\"color: #008080; text-decoration-color: #008080; font-weight: bold\">105</span> of <span style=\"color: #008080; text-decoration-color: #008080; font-weight: bold\">110</span> examples\n",
       "</pre>\n"
      ],
      "text/plain": [
       "Evaluated \u001b[1;36m105\u001b[0m of \u001b[1;36m110\u001b[0m examples\n"
      ]
     },
     "metadata": {},
     "output_type": "display_data"
    },
    {
     "data": {
      "text/html": [
       "<pre style=\"white-space:pre;overflow-x:auto;line-height:normal;font-family:Menlo,'DejaVu Sans Mono',consolas,'Courier New',monospace\">Evaluated <span style=\"color: #008080; text-decoration-color: #008080; font-weight: bold\">106</span> of <span style=\"color: #008080; text-decoration-color: #008080; font-weight: bold\">110</span> examples\n",
       "</pre>\n"
      ],
      "text/plain": [
       "Evaluated \u001b[1;36m106\u001b[0m of \u001b[1;36m110\u001b[0m examples\n"
      ]
     },
     "metadata": {},
     "output_type": "display_data"
    },
    {
     "data": {
      "text/html": [
       "<pre style=\"white-space:pre;overflow-x:auto;line-height:normal;font-family:Menlo,'DejaVu Sans Mono',consolas,'Courier New',monospace\">Evaluated <span style=\"color: #008080; text-decoration-color: #008080; font-weight: bold\">107</span> of <span style=\"color: #008080; text-decoration-color: #008080; font-weight: bold\">110</span> examples\n",
       "</pre>\n"
      ],
      "text/plain": [
       "Evaluated \u001b[1;36m107\u001b[0m of \u001b[1;36m110\u001b[0m examples\n"
      ]
     },
     "metadata": {},
     "output_type": "display_data"
    },
    {
     "data": {
      "text/html": [
       "<pre style=\"white-space:pre;overflow-x:auto;line-height:normal;font-family:Menlo,'DejaVu Sans Mono',consolas,'Courier New',monospace\">Evaluated <span style=\"color: #008080; text-decoration-color: #008080; font-weight: bold\">108</span> of <span style=\"color: #008080; text-decoration-color: #008080; font-weight: bold\">110</span> examples\n",
       "</pre>\n"
      ],
      "text/plain": [
       "Evaluated \u001b[1;36m108\u001b[0m of \u001b[1;36m110\u001b[0m examples\n"
      ]
     },
     "metadata": {},
     "output_type": "display_data"
    },
    {
     "data": {
      "text/html": [
       "<pre style=\"white-space:pre;overflow-x:auto;line-height:normal;font-family:Menlo,'DejaVu Sans Mono',consolas,'Courier New',monospace\">Evaluated <span style=\"color: #008080; text-decoration-color: #008080; font-weight: bold\">109</span> of <span style=\"color: #008080; text-decoration-color: #008080; font-weight: bold\">110</span> examples\n",
       "</pre>\n"
      ],
      "text/plain": [
       "Evaluated \u001b[1;36m109\u001b[0m of \u001b[1;36m110\u001b[0m examples\n"
      ]
     },
     "metadata": {},
     "output_type": "display_data"
    },
    {
     "data": {
      "text/html": [
       "<pre style=\"white-space:pre;overflow-x:auto;line-height:normal;font-family:Menlo,'DejaVu Sans Mono',consolas,'Courier New',monospace\">Predict and score failed\n",
       "</pre>\n"
      ],
      "text/plain": [
       "Predict and score failed\n"
      ]
     },
     "metadata": {},
     "output_type": "display_data"
    },
    {
     "name": "stderr",
     "output_type": "stream",
     "text": [
      "Traceback (most recent call last):\n",
      "  File \"c:\\Users\\Alonso\\Dropbox\\personal\\repos\\mistral-fine-tuning\\.venv\\Lib\\site-packages\\weave\\flow\\eval.py\", line 283, in eval_example\n",
      "    eval_row = await self.predict_and_score(model, example)\n",
      "               ^^^^^^^^^^^^^^^^^^^^^^^^^^^^^^^^^^^^^^^^^^^^\n",
      "  File \"c:\\Users\\Alonso\\Dropbox\\personal\\repos\\mistral-fine-tuning\\.venv\\Lib\\site-packages\\weave\\trace\\op.py\", line 141, in _run_async\n",
      "    output = await awaited_res\n",
      "             ^^^^^^^^^^^^^^^^^\n",
      "  File \"c:\\Users\\Alonso\\Dropbox\\personal\\repos\\mistral-fine-tuning\\.venv\\Lib\\site-packages\\weave\\flow\\eval.py\", line 221, in predict_and_score\n",
      "    result = await async_call(score_fn, **score_args)\n",
      "             ^^^^^^^^^^^^^^^^^^^^^^^^^^^^^^^^^^^^^^^^\n",
      "  File \"C:\\Users\\Alonso\\.rye\\py\\cpython@3.12.1\\install\\Lib\\asyncio\\threads.py\", line 25, in to_thread\n",
      "    return await loop.run_in_executor(None, func_call)\n",
      "           ^^^^^^^^^^^^^^^^^^^^^^^^^^^^^^^^^^^^^^^^^^^\n",
      "  File \"C:\\Users\\Alonso\\.rye\\py\\cpython@3.12.1\\install\\Lib\\concurrent\\futures\\thread.py\", line 58, in run\n",
      "    result = self.fn(*self.args, **self.kwargs)\n",
      "             ^^^^^^^^^^^^^^^^^^^^^^^^^^^^^^^^^^\n",
      "  File \"c:\\Users\\Alonso\\Dropbox\\personal\\repos\\mistral-fine-tuning\\.venv\\Lib\\site-packages\\weave\\trace\\op.py\", line 74, in __call__\n",
      "    return self._execute_run(run, *args, **kwargs)\n",
      "           ^^^^^^^^^^^^^^^^^^^^^^^^^^^^^^^^^^^^^^^\n",
      "  File \"c:\\Users\\Alonso\\Dropbox\\personal\\repos\\mistral-fine-tuning\\.venv\\Lib\\site-packages\\weave\\trace\\op.py\", line 123, in _execute_run\n",
      "    res = self.resolve_fn(*args, **kwargs)\n",
      "          ^^^^^^^^^^^^^^^^^^^^^^^^^^^^^^^^\n",
      "  File \"C:\\Users\\Alonso\\AppData\\Local\\Temp\\ipykernel_21392\\2792674141.py\", line 4, in evaluate_joke\n",
      "    return {\"win\": model_output[\"best_joke\"] == \"joke1\"}\n",
      "                   ~~~~~~~~~~~~^^^^^^^^^^^^^\n",
      "KeyError: 'best_joke'\n"
     ]
    },
    {
     "data": {
      "text/html": [
       "<pre style=\"white-space:pre;overflow-x:auto;line-height:normal;font-family:Menlo,'DejaVu Sans Mono',consolas,'Courier New',monospace\">Evaluated <span style=\"color: #008080; text-decoration-color: #008080; font-weight: bold\">110</span> of <span style=\"color: #008080; text-decoration-color: #008080; font-weight: bold\">110</span> examples\n",
       "</pre>\n"
      ],
      "text/plain": [
       "Evaluated \u001b[1;36m110\u001b[0m of \u001b[1;36m110\u001b[0m examples\n"
      ]
     },
     "metadata": {},
     "output_type": "display_data"
    },
    {
     "data": {
      "text/html": [
       "<pre style=\"white-space:pre;overflow-x:auto;line-height:normal;font-family:Menlo,'DejaVu Sans Mono',consolas,'Courier New',monospace\">Evaluation summary\n",
       "<span style=\"font-weight: bold\">{</span>\n",
       "    <span style=\"color: #008000; text-decoration-color: #008000\">'evaluate_joke'</span>: <span style=\"font-weight: bold\">{</span><span style=\"color: #008000; text-decoration-color: #008000\">'win'</span>: <span style=\"font-weight: bold\">{</span><span style=\"color: #008000; text-decoration-color: #008000\">'true_count'</span>: <span style=\"color: #008080; text-decoration-color: #008080; font-weight: bold\">47</span>, <span style=\"color: #008000; text-decoration-color: #008000\">'true_fraction'</span>: <span style=\"color: #008080; text-decoration-color: #008080; font-weight: bold\">0.43119266055045874</span><span style=\"font-weight: bold\">}}</span>,\n",
       "    <span style=\"color: #008000; text-decoration-color: #008000\">'model_latency'</span>: <span style=\"font-weight: bold\">{</span><span style=\"color: #008000; text-decoration-color: #008000\">'mean'</span>: <span style=\"color: #008080; text-decoration-color: #008080; font-weight: bold\">26.51700864363154</span><span style=\"font-weight: bold\">}</span>\n",
       "<span style=\"font-weight: bold\">}</span>\n",
       "</pre>\n"
      ],
      "text/plain": [
       "Evaluation summary\n",
       "\u001b[1m{\u001b[0m\n",
       "    \u001b[32m'evaluate_joke'\u001b[0m: \u001b[1m{\u001b[0m\u001b[32m'win'\u001b[0m: \u001b[1m{\u001b[0m\u001b[32m'true_count'\u001b[0m: \u001b[1;36m47\u001b[0m, \u001b[32m'true_fraction'\u001b[0m: \u001b[1;36m0.43119266055045874\u001b[0m\u001b[1m}\u001b[0m\u001b[1m}\u001b[0m,\n",
       "    \u001b[32m'model_latency'\u001b[0m: \u001b[1m{\u001b[0m\u001b[32m'mean'\u001b[0m: \u001b[1;36m26.51700864363154\u001b[0m\u001b[1m}\u001b[0m\n",
       "\u001b[1m}\u001b[0m\n"
      ]
     },
     "metadata": {},
     "output_type": "display_data"
    },
    {
     "name": "stdout",
     "output_type": "stream",
     "text": [
      "🍩 https://wandb.ai/aastroza/mistral_hackathon/r/call/f45fe651-0171-4a40-a569-32e294aa847d\n"
     ]
    },
    {
     "data": {
      "text/plain": [
       "{'evaluate_joke': {'win': {'true_count': 47,\n",
       "   'true_fraction': 0.43119266055045874}},\n",
       " 'model_latency': {'mean': 26.51700864363154}}"
      ]
     },
     "execution_count": 58,
     "metadata": {},
     "output_type": "execute_result"
    }
   ],
   "source": [
    "await evaluation.evaluate(llm_judge)"
   ]
  },
  {
   "cell_type": "code",
   "execution_count": 64,
   "metadata": {},
   "outputs": [],
   "source": [
    "def format_messages(row):\n",
    "    \"Format on the expected MistralAI fine-tuning dataset\"\n",
    "    keyword = row['keyword']\n",
    "    joke = row['text']\n",
    "    messages = create_messages(keyword, cls=dict)\n",
    "    # we need to append the answer for training 👇\n",
    "    messages = {\"messages\":messages + [dict(role=\"assistant\", content=joke)]}\n",
    "    return messages"
   ]
  },
  {
   "cell_type": "code",
   "execution_count": 65,
   "metadata": {},
   "outputs": [
    {
     "data": {
      "text/plain": [
       "(2093, 110)"
      ]
     },
     "execution_count": 65,
     "metadata": {},
     "output_type": "execute_result"
    }
   ],
   "source": [
    "df = pd.read_json('../data/processed/jokes.jsonl', lines=True)\n",
    "df_train=df.sample(frac=0.95, random_state=200)\n",
    "df_eval=df.drop(df_train.index)\n",
    "len(df_train), len(df_eval)"
   ]
  },
  {
   "cell_type": "code",
   "execution_count": 67,
   "metadata": {},
   "outputs": [
    {
     "data": {
      "text/plain": [
       "767     {'messages': [{'role': 'user', 'content': 'You...\n",
       "538     {'messages': [{'role': 'user', 'content': 'You...\n",
       "1637    {'messages': [{'role': 'user', 'content': 'You...\n",
       "1666    {'messages': [{'role': 'user', 'content': 'You...\n",
       "1759    {'messages': [{'role': 'user', 'content': 'You...\n",
       "dtype: object"
      ]
     },
     "execution_count": 67,
     "metadata": {},
     "output_type": "execute_result"
    }
   ],
   "source": [
    "formatted_df_train = df_train.apply(format_messages, axis=1)\n",
    "formatted_df_eval = df_eval.apply(format_messages, axis=1)\n",
    "formatted_df_train.head()"
   ]
  },
  {
   "cell_type": "code",
   "execution_count": 68,
   "metadata": {},
   "outputs": [],
   "source": [
    "formatted_df_train.to_json(\"../data/processed/formatted_df_train.jsonl\", orient=\"records\", lines=True)\n",
    "formatted_df_eval.to_json(\"../data/processed/formatted_df_eval.jsonl\", orient=\"records\", lines=True)"
   ]
  },
  {
   "cell_type": "code",
   "execution_count": 70,
   "metadata": {},
   "outputs": [],
   "source": [
    "client = MistralClient(api_key=os.environ[\"MISTRAL_API_KEY\"])\n",
    "\n",
    "with open(\"../data/processed/formatted_df_train.jsonl\", \"rb\") as f:\n",
    "    ds_train = client.files.create(file=(\"formatted_df_train.jsonl\", f))\n",
    "with open(\"../data/processed/formatted_df_eval.jsonl\", \"rb\") as f:\n",
    "    ds_eval = client.files.create(file=(\"eval.jsonl\", f))"
   ]
  },
  {
   "cell_type": "code",
   "execution_count": 71,
   "metadata": {},
   "outputs": [],
   "source": [
    "def pprint(obj):\n",
    "    print(json.dumps(obj.dict(), indent=4))"
   ]
  },
  {
   "cell_type": "code",
   "execution_count": 72,
   "metadata": {},
   "outputs": [
    {
     "name": "stdout",
     "output_type": "stream",
     "text": [
      "{\n",
      "    \"id\": \"d8718303-7865-47a0-8ab8-9cc209d1bd0a\",\n",
      "    \"object\": \"file\",\n",
      "    \"bytes\": 1793233,\n",
      "    \"created_at\": 1719803995,\n",
      "    \"filename\": \"formatted_df_train.jsonl\",\n",
      "    \"purpose\": \"fine-tune\"\n",
      "}\n"
     ]
    }
   ],
   "source": [
    "pprint(ds_train)"
   ]
  },
  {
   "cell_type": "code",
   "execution_count": 74,
   "metadata": {},
   "outputs": [],
   "source": [
    "created_jobs = client.jobs.create(\n",
    "    model=\"open-mistral-7b\",\n",
    "    training_files=[ds_train.id],\n",
    "    validation_files=[ds_eval.id],\n",
    "    hyperparameters=TrainingParameters(\n",
    "        training_steps=25,\n",
    "        learning_rate=0.0001,\n",
    "        ),\n",
    "    integrations=[\n",
    "        WandbIntegrationIn(\n",
    "            project=\"mistral_hackathon\",\n",
    "            run_name=\"finetune_wandb\",\n",
    "            api_key=os.environ.get(\"WANDB_API_KEY\"),\n",
    "        ).dict()\n",
    "    ],\n",
    ")"
   ]
  },
  {
   "cell_type": "code",
   "execution_count": 75,
   "metadata": {},
   "outputs": [
    {
     "name": "stdout",
     "output_type": "stream",
     "text": [
      "{\n",
      "    \"id\": \"ee377e19-d646-4d7f-b3f8-429dd318f606\",\n",
      "    \"hyperparameters\": {\n",
      "        \"training_steps\": 25,\n",
      "        \"learning_rate\": 0.0001\n",
      "    },\n",
      "    \"fine_tuned_model\": null,\n",
      "    \"model\": \"open-mistral-7b\",\n",
      "    \"status\": \"QUEUED\",\n",
      "    \"job_type\": \"FT\",\n",
      "    \"created_at\": 1719804119,\n",
      "    \"modified_at\": 1719804119,\n",
      "    \"training_files\": [\n",
      "        \"d8718303-7865-47a0-8ab8-9cc209d1bd0a\"\n",
      "    ],\n",
      "    \"validation_files\": [\n",
      "        \"77977d54-1be9-4dc3-8143-7a5e81779c6c\"\n",
      "    ],\n",
      "    \"object\": \"job\",\n",
      "    \"integrations\": [\n",
      "        {\n",
      "            \"type\": \"wandb\",\n",
      "            \"project\": \"mistral_hackathon\",\n",
      "            \"name\": null,\n",
      "            \"run_name\": \"finetune_wandb\"\n",
      "        }\n",
      "    ]\n",
      "}\n"
     ]
    }
   ],
   "source": [
    "pprint(created_jobs)"
   ]
  },
  {
   "cell_type": "code",
   "execution_count": 76,
   "metadata": {},
   "outputs": [
    {
     "name": "stdout",
     "output_type": "stream",
     "text": [
      "{\n",
      "    \"id\": \"ee377e19-d646-4d7f-b3f8-429dd318f606\",\n",
      "    \"hyperparameters\": {\n",
      "        \"training_steps\": 25,\n",
      "        \"learning_rate\": 0.0001\n",
      "    },\n",
      "    \"fine_tuned_model\": null,\n",
      "    \"model\": \"open-mistral-7b\",\n",
      "    \"status\": \"RUNNING\",\n",
      "    \"job_type\": \"FT\",\n",
      "    \"created_at\": 1719804119,\n",
      "    \"modified_at\": 1719804120,\n",
      "    \"training_files\": [\n",
      "        \"d8718303-7865-47a0-8ab8-9cc209d1bd0a\"\n",
      "    ],\n",
      "    \"validation_files\": [\n",
      "        \"77977d54-1be9-4dc3-8143-7a5e81779c6c\"\n",
      "    ],\n",
      "    \"object\": \"job\",\n",
      "    \"integrations\": [\n",
      "        {\n",
      "            \"type\": \"wandb\",\n",
      "            \"project\": \"mistral_hackathon\",\n",
      "            \"name\": null,\n",
      "            \"run_name\": \"finetune_wandb\"\n",
      "        }\n",
      "    ],\n",
      "    \"events\": [\n",
      "        {\n",
      "            \"name\": \"status-updated\",\n",
      "            \"data\": {\n",
      "                \"status\": \"RUNNING\"\n",
      "            },\n",
      "            \"created_at\": 1719804120\n",
      "        },\n",
      "        {\n",
      "            \"name\": \"status-updated\",\n",
      "            \"data\": {\n",
      "                \"status\": \"QUEUED\"\n",
      "            },\n",
      "            \"created_at\": 1719804119\n",
      "        }\n",
      "    ],\n",
      "    \"checkpoints\": [],\n",
      "    \"estimated_start_time\": null\n",
      "}\n",
      "Job is RUNNING, waiting 10 seconds\n",
      "{\n",
      "    \"id\": \"ee377e19-d646-4d7f-b3f8-429dd318f606\",\n",
      "    \"hyperparameters\": {\n",
      "        \"training_steps\": 25,\n",
      "        \"learning_rate\": 0.0001\n",
      "    },\n",
      "    \"fine_tuned_model\": null,\n",
      "    \"model\": \"open-mistral-7b\",\n",
      "    \"status\": \"RUNNING\",\n",
      "    \"job_type\": \"FT\",\n",
      "    \"created_at\": 1719804119,\n",
      "    \"modified_at\": 1719804120,\n",
      "    \"training_files\": [\n",
      "        \"d8718303-7865-47a0-8ab8-9cc209d1bd0a\"\n",
      "    ],\n",
      "    \"validation_files\": [\n",
      "        \"77977d54-1be9-4dc3-8143-7a5e81779c6c\"\n",
      "    ],\n",
      "    \"object\": \"job\",\n",
      "    \"integrations\": [\n",
      "        {\n",
      "            \"type\": \"wandb\",\n",
      "            \"project\": \"mistral_hackathon\",\n",
      "            \"name\": null,\n",
      "            \"run_name\": \"finetune_wandb\"\n",
      "        }\n",
      "    ],\n",
      "    \"events\": [\n",
      "        {\n",
      "            \"name\": \"status-updated\",\n",
      "            \"data\": {\n",
      "                \"status\": \"RUNNING\"\n",
      "            },\n",
      "            \"created_at\": 1719804120\n",
      "        },\n",
      "        {\n",
      "            \"name\": \"status-updated\",\n",
      "            \"data\": {\n",
      "                \"status\": \"QUEUED\"\n",
      "            },\n",
      "            \"created_at\": 1719804119\n",
      "        }\n",
      "    ],\n",
      "    \"checkpoints\": [],\n",
      "    \"estimated_start_time\": null\n",
      "}\n",
      "Job is RUNNING, waiting 10 seconds\n",
      "{\n",
      "    \"id\": \"ee377e19-d646-4d7f-b3f8-429dd318f606\",\n",
      "    \"hyperparameters\": {\n",
      "        \"training_steps\": 25,\n",
      "        \"learning_rate\": 0.0001\n",
      "    },\n",
      "    \"fine_tuned_model\": null,\n",
      "    \"model\": \"open-mistral-7b\",\n",
      "    \"status\": \"RUNNING\",\n",
      "    \"job_type\": \"FT\",\n",
      "    \"created_at\": 1719804119,\n",
      "    \"modified_at\": 1719804120,\n",
      "    \"training_files\": [\n",
      "        \"d8718303-7865-47a0-8ab8-9cc209d1bd0a\"\n",
      "    ],\n",
      "    \"validation_files\": [\n",
      "        \"77977d54-1be9-4dc3-8143-7a5e81779c6c\"\n",
      "    ],\n",
      "    \"object\": \"job\",\n",
      "    \"integrations\": [\n",
      "        {\n",
      "            \"type\": \"wandb\",\n",
      "            \"project\": \"mistral_hackathon\",\n",
      "            \"name\": null,\n",
      "            \"run_name\": \"finetune_wandb\"\n",
      "        }\n",
      "    ],\n",
      "    \"events\": [\n",
      "        {\n",
      "            \"name\": \"status-updated\",\n",
      "            \"data\": {\n",
      "                \"status\": \"RUNNING\"\n",
      "            },\n",
      "            \"created_at\": 1719804120\n",
      "        },\n",
      "        {\n",
      "            \"name\": \"status-updated\",\n",
      "            \"data\": {\n",
      "                \"status\": \"QUEUED\"\n",
      "            },\n",
      "            \"created_at\": 1719804119\n",
      "        }\n",
      "    ],\n",
      "    \"checkpoints\": [],\n",
      "    \"estimated_start_time\": null\n",
      "}\n",
      "Job is RUNNING, waiting 10 seconds\n",
      "{\n",
      "    \"id\": \"ee377e19-d646-4d7f-b3f8-429dd318f606\",\n",
      "    \"hyperparameters\": {\n",
      "        \"training_steps\": 25,\n",
      "        \"learning_rate\": 0.0001\n",
      "    },\n",
      "    \"fine_tuned_model\": null,\n",
      "    \"model\": \"open-mistral-7b\",\n",
      "    \"status\": \"RUNNING\",\n",
      "    \"job_type\": \"FT\",\n",
      "    \"created_at\": 1719804119,\n",
      "    \"modified_at\": 1719804120,\n",
      "    \"training_files\": [\n",
      "        \"d8718303-7865-47a0-8ab8-9cc209d1bd0a\"\n",
      "    ],\n",
      "    \"validation_files\": [\n",
      "        \"77977d54-1be9-4dc3-8143-7a5e81779c6c\"\n",
      "    ],\n",
      "    \"object\": \"job\",\n",
      "    \"integrations\": [\n",
      "        {\n",
      "            \"type\": \"wandb\",\n",
      "            \"project\": \"mistral_hackathon\",\n",
      "            \"name\": null,\n",
      "            \"run_name\": \"finetune_wandb\"\n",
      "        }\n",
      "    ],\n",
      "    \"events\": [\n",
      "        {\n",
      "            \"name\": \"status-updated\",\n",
      "            \"data\": {\n",
      "                \"status\": \"RUNNING\"\n",
      "            },\n",
      "            \"created_at\": 1719804120\n",
      "        },\n",
      "        {\n",
      "            \"name\": \"status-updated\",\n",
      "            \"data\": {\n",
      "                \"status\": \"QUEUED\"\n",
      "            },\n",
      "            \"created_at\": 1719804119\n",
      "        }\n",
      "    ],\n",
      "    \"checkpoints\": [],\n",
      "    \"estimated_start_time\": null\n",
      "}\n",
      "Job is RUNNING, waiting 10 seconds\n",
      "{\n",
      "    \"id\": \"ee377e19-d646-4d7f-b3f8-429dd318f606\",\n",
      "    \"hyperparameters\": {\n",
      "        \"training_steps\": 25,\n",
      "        \"learning_rate\": 0.0001\n",
      "    },\n",
      "    \"fine_tuned_model\": null,\n",
      "    \"model\": \"open-mistral-7b\",\n",
      "    \"status\": \"RUNNING\",\n",
      "    \"job_type\": \"FT\",\n",
      "    \"created_at\": 1719804119,\n",
      "    \"modified_at\": 1719804120,\n",
      "    \"training_files\": [\n",
      "        \"d8718303-7865-47a0-8ab8-9cc209d1bd0a\"\n",
      "    ],\n",
      "    \"validation_files\": [\n",
      "        \"77977d54-1be9-4dc3-8143-7a5e81779c6c\"\n",
      "    ],\n",
      "    \"object\": \"job\",\n",
      "    \"integrations\": [\n",
      "        {\n",
      "            \"type\": \"wandb\",\n",
      "            \"project\": \"mistral_hackathon\",\n",
      "            \"name\": null,\n",
      "            \"run_name\": \"finetune_wandb\"\n",
      "        }\n",
      "    ],\n",
      "    \"events\": [\n",
      "        {\n",
      "            \"name\": \"status-updated\",\n",
      "            \"data\": {\n",
      "                \"status\": \"RUNNING\"\n",
      "            },\n",
      "            \"created_at\": 1719804120\n",
      "        },\n",
      "        {\n",
      "            \"name\": \"status-updated\",\n",
      "            \"data\": {\n",
      "                \"status\": \"QUEUED\"\n",
      "            },\n",
      "            \"created_at\": 1719804119\n",
      "        }\n",
      "    ],\n",
      "    \"checkpoints\": [],\n",
      "    \"estimated_start_time\": null\n",
      "}\n",
      "Job is RUNNING, waiting 10 seconds\n",
      "{\n",
      "    \"id\": \"ee377e19-d646-4d7f-b3f8-429dd318f606\",\n",
      "    \"hyperparameters\": {\n",
      "        \"training_steps\": 25,\n",
      "        \"learning_rate\": 0.0001\n",
      "    },\n",
      "    \"fine_tuned_model\": null,\n",
      "    \"model\": \"open-mistral-7b\",\n",
      "    \"status\": \"RUNNING\",\n",
      "    \"job_type\": \"FT\",\n",
      "    \"created_at\": 1719804119,\n",
      "    \"modified_at\": 1719804120,\n",
      "    \"training_files\": [\n",
      "        \"d8718303-7865-47a0-8ab8-9cc209d1bd0a\"\n",
      "    ],\n",
      "    \"validation_files\": [\n",
      "        \"77977d54-1be9-4dc3-8143-7a5e81779c6c\"\n",
      "    ],\n",
      "    \"object\": \"job\",\n",
      "    \"integrations\": [\n",
      "        {\n",
      "            \"type\": \"wandb\",\n",
      "            \"project\": \"mistral_hackathon\",\n",
      "            \"name\": null,\n",
      "            \"run_name\": \"finetune_wandb\"\n",
      "        }\n",
      "    ],\n",
      "    \"events\": [\n",
      "        {\n",
      "            \"name\": \"status-updated\",\n",
      "            \"data\": {\n",
      "                \"status\": \"RUNNING\"\n",
      "            },\n",
      "            \"created_at\": 1719804120\n",
      "        },\n",
      "        {\n",
      "            \"name\": \"status-updated\",\n",
      "            \"data\": {\n",
      "                \"status\": \"QUEUED\"\n",
      "            },\n",
      "            \"created_at\": 1719804119\n",
      "        }\n",
      "    ],\n",
      "    \"checkpoints\": [\n",
      "        {\n",
      "            \"metrics\": {\n",
      "                \"train_loss\": 1.96829,\n",
      "                \"valid_loss\": 2.383397,\n",
      "                \"valid_mean_token_accuracy\": 5.217639\n",
      "            },\n",
      "            \"step_number\": 10,\n",
      "            \"created_at\": 1719804193\n",
      "        }\n",
      "    ],\n",
      "    \"estimated_start_time\": null\n",
      "}\n",
      "Job is RUNNING, waiting 10 seconds\n",
      "{\n",
      "    \"id\": \"ee377e19-d646-4d7f-b3f8-429dd318f606\",\n",
      "    \"hyperparameters\": {\n",
      "        \"training_steps\": 25,\n",
      "        \"learning_rate\": 0.0001\n",
      "    },\n",
      "    \"fine_tuned_model\": null,\n",
      "    \"model\": \"open-mistral-7b\",\n",
      "    \"status\": \"RUNNING\",\n",
      "    \"job_type\": \"FT\",\n",
      "    \"created_at\": 1719804119,\n",
      "    \"modified_at\": 1719804120,\n",
      "    \"training_files\": [\n",
      "        \"d8718303-7865-47a0-8ab8-9cc209d1bd0a\"\n",
      "    ],\n",
      "    \"validation_files\": [\n",
      "        \"77977d54-1be9-4dc3-8143-7a5e81779c6c\"\n",
      "    ],\n",
      "    \"object\": \"job\",\n",
      "    \"integrations\": [\n",
      "        {\n",
      "            \"type\": \"wandb\",\n",
      "            \"project\": \"mistral_hackathon\",\n",
      "            \"name\": null,\n",
      "            \"run_name\": \"finetune_wandb\"\n",
      "        }\n",
      "    ],\n",
      "    \"events\": [\n",
      "        {\n",
      "            \"name\": \"status-updated\",\n",
      "            \"data\": {\n",
      "                \"status\": \"RUNNING\"\n",
      "            },\n",
      "            \"created_at\": 1719804120\n",
      "        },\n",
      "        {\n",
      "            \"name\": \"status-updated\",\n",
      "            \"data\": {\n",
      "                \"status\": \"QUEUED\"\n",
      "            },\n",
      "            \"created_at\": 1719804119\n",
      "        }\n",
      "    ],\n",
      "    \"checkpoints\": [\n",
      "        {\n",
      "            \"metrics\": {\n",
      "                \"train_loss\": 1.96829,\n",
      "                \"valid_loss\": 2.383397,\n",
      "                \"valid_mean_token_accuracy\": 5.217639\n",
      "            },\n",
      "            \"step_number\": 10,\n",
      "            \"created_at\": 1719804193\n",
      "        }\n",
      "    ],\n",
      "    \"estimated_start_time\": null\n",
      "}\n",
      "Job is RUNNING, waiting 10 seconds\n",
      "{\n",
      "    \"id\": \"ee377e19-d646-4d7f-b3f8-429dd318f606\",\n",
      "    \"hyperparameters\": {\n",
      "        \"training_steps\": 25,\n",
      "        \"learning_rate\": 0.0001\n",
      "    },\n",
      "    \"fine_tuned_model\": null,\n",
      "    \"model\": \"open-mistral-7b\",\n",
      "    \"status\": \"RUNNING\",\n",
      "    \"job_type\": \"FT\",\n",
      "    \"created_at\": 1719804119,\n",
      "    \"modified_at\": 1719804120,\n",
      "    \"training_files\": [\n",
      "        \"d8718303-7865-47a0-8ab8-9cc209d1bd0a\"\n",
      "    ],\n",
      "    \"validation_files\": [\n",
      "        \"77977d54-1be9-4dc3-8143-7a5e81779c6c\"\n",
      "    ],\n",
      "    \"object\": \"job\",\n",
      "    \"integrations\": [\n",
      "        {\n",
      "            \"type\": \"wandb\",\n",
      "            \"project\": \"mistral_hackathon\",\n",
      "            \"name\": null,\n",
      "            \"run_name\": \"finetune_wandb\"\n",
      "        }\n",
      "    ],\n",
      "    \"events\": [\n",
      "        {\n",
      "            \"name\": \"status-updated\",\n",
      "            \"data\": {\n",
      "                \"status\": \"RUNNING\"\n",
      "            },\n",
      "            \"created_at\": 1719804120\n",
      "        },\n",
      "        {\n",
      "            \"name\": \"status-updated\",\n",
      "            \"data\": {\n",
      "                \"status\": \"QUEUED\"\n",
      "            },\n",
      "            \"created_at\": 1719804119\n",
      "        }\n",
      "    ],\n",
      "    \"checkpoints\": [\n",
      "        {\n",
      "            \"metrics\": {\n",
      "                \"train_loss\": 1.96829,\n",
      "                \"valid_loss\": 2.383397,\n",
      "                \"valid_mean_token_accuracy\": 5.217639\n",
      "            },\n",
      "            \"step_number\": 10,\n",
      "            \"created_at\": 1719804193\n",
      "        }\n",
      "    ],\n",
      "    \"estimated_start_time\": null\n",
      "}\n",
      "Job is RUNNING, waiting 10 seconds\n",
      "{\n",
      "    \"id\": \"ee377e19-d646-4d7f-b3f8-429dd318f606\",\n",
      "    \"hyperparameters\": {\n",
      "        \"training_steps\": 25,\n",
      "        \"learning_rate\": 0.0001\n",
      "    },\n",
      "    \"fine_tuned_model\": null,\n",
      "    \"model\": \"open-mistral-7b\",\n",
      "    \"status\": \"RUNNING\",\n",
      "    \"job_type\": \"FT\",\n",
      "    \"created_at\": 1719804119,\n",
      "    \"modified_at\": 1719804120,\n",
      "    \"training_files\": [\n",
      "        \"d8718303-7865-47a0-8ab8-9cc209d1bd0a\"\n",
      "    ],\n",
      "    \"validation_files\": [\n",
      "        \"77977d54-1be9-4dc3-8143-7a5e81779c6c\"\n",
      "    ],\n",
      "    \"object\": \"job\",\n",
      "    \"integrations\": [\n",
      "        {\n",
      "            \"type\": \"wandb\",\n",
      "            \"project\": \"mistral_hackathon\",\n",
      "            \"name\": null,\n",
      "            \"run_name\": \"finetune_wandb\"\n",
      "        }\n",
      "    ],\n",
      "    \"events\": [\n",
      "        {\n",
      "            \"name\": \"status-updated\",\n",
      "            \"data\": {\n",
      "                \"status\": \"RUNNING\"\n",
      "            },\n",
      "            \"created_at\": 1719804120\n",
      "        },\n",
      "        {\n",
      "            \"name\": \"status-updated\",\n",
      "            \"data\": {\n",
      "                \"status\": \"QUEUED\"\n",
      "            },\n",
      "            \"created_at\": 1719804119\n",
      "        }\n",
      "    ],\n",
      "    \"checkpoints\": [\n",
      "        {\n",
      "            \"metrics\": {\n",
      "                \"train_loss\": 1.96829,\n",
      "                \"valid_loss\": 2.383397,\n",
      "                \"valid_mean_token_accuracy\": 5.217639\n",
      "            },\n",
      "            \"step_number\": 10,\n",
      "            \"created_at\": 1719804193\n",
      "        }\n",
      "    ],\n",
      "    \"estimated_start_time\": null\n",
      "}\n",
      "Job is RUNNING, waiting 10 seconds\n",
      "{\n",
      "    \"id\": \"ee377e19-d646-4d7f-b3f8-429dd318f606\",\n",
      "    \"hyperparameters\": {\n",
      "        \"training_steps\": 25,\n",
      "        \"learning_rate\": 0.0001\n",
      "    },\n",
      "    \"fine_tuned_model\": null,\n",
      "    \"model\": \"open-mistral-7b\",\n",
      "    \"status\": \"RUNNING\",\n",
      "    \"job_type\": \"FT\",\n",
      "    \"created_at\": 1719804119,\n",
      "    \"modified_at\": 1719804120,\n",
      "    \"training_files\": [\n",
      "        \"d8718303-7865-47a0-8ab8-9cc209d1bd0a\"\n",
      "    ],\n",
      "    \"validation_files\": [\n",
      "        \"77977d54-1be9-4dc3-8143-7a5e81779c6c\"\n",
      "    ],\n",
      "    \"object\": \"job\",\n",
      "    \"integrations\": [\n",
      "        {\n",
      "            \"type\": \"wandb\",\n",
      "            \"project\": \"mistral_hackathon\",\n",
      "            \"name\": null,\n",
      "            \"run_name\": \"finetune_wandb\"\n",
      "        }\n",
      "    ],\n",
      "    \"events\": [\n",
      "        {\n",
      "            \"name\": \"status-updated\",\n",
      "            \"data\": {\n",
      "                \"status\": \"RUNNING\"\n",
      "            },\n",
      "            \"created_at\": 1719804120\n",
      "        },\n",
      "        {\n",
      "            \"name\": \"status-updated\",\n",
      "            \"data\": {\n",
      "                \"status\": \"QUEUED\"\n",
      "            },\n",
      "            \"created_at\": 1719804119\n",
      "        }\n",
      "    ],\n",
      "    \"checkpoints\": [\n",
      "        {\n",
      "            \"metrics\": {\n",
      "                \"train_loss\": 1.96829,\n",
      "                \"valid_loss\": 2.383397,\n",
      "                \"valid_mean_token_accuracy\": 5.217639\n",
      "            },\n",
      "            \"step_number\": 10,\n",
      "            \"created_at\": 1719804193\n",
      "        }\n",
      "    ],\n",
      "    \"estimated_start_time\": null\n",
      "}\n",
      "Job is RUNNING, waiting 10 seconds\n",
      "{\n",
      "    \"id\": \"ee377e19-d646-4d7f-b3f8-429dd318f606\",\n",
      "    \"hyperparameters\": {\n",
      "        \"training_steps\": 25,\n",
      "        \"learning_rate\": 0.0001\n",
      "    },\n",
      "    \"fine_tuned_model\": null,\n",
      "    \"model\": \"open-mistral-7b\",\n",
      "    \"status\": \"RUNNING\",\n",
      "    \"job_type\": \"FT\",\n",
      "    \"created_at\": 1719804119,\n",
      "    \"modified_at\": 1719804120,\n",
      "    \"training_files\": [\n",
      "        \"d8718303-7865-47a0-8ab8-9cc209d1bd0a\"\n",
      "    ],\n",
      "    \"validation_files\": [\n",
      "        \"77977d54-1be9-4dc3-8143-7a5e81779c6c\"\n",
      "    ],\n",
      "    \"object\": \"job\",\n",
      "    \"integrations\": [\n",
      "        {\n",
      "            \"type\": \"wandb\",\n",
      "            \"project\": \"mistral_hackathon\",\n",
      "            \"name\": null,\n",
      "            \"run_name\": \"finetune_wandb\"\n",
      "        }\n",
      "    ],\n",
      "    \"events\": [\n",
      "        {\n",
      "            \"name\": \"status-updated\",\n",
      "            \"data\": {\n",
      "                \"status\": \"RUNNING\"\n",
      "            },\n",
      "            \"created_at\": 1719804120\n",
      "        },\n",
      "        {\n",
      "            \"name\": \"status-updated\",\n",
      "            \"data\": {\n",
      "                \"status\": \"QUEUED\"\n",
      "            },\n",
      "            \"created_at\": 1719804119\n",
      "        }\n",
      "    ],\n",
      "    \"checkpoints\": [\n",
      "        {\n",
      "            \"metrics\": {\n",
      "                \"train_loss\": 1.864056,\n",
      "                \"valid_loss\": 2.30413,\n",
      "                \"valid_mean_token_accuracy\": 4.938695\n",
      "            },\n",
      "            \"step_number\": 20,\n",
      "            \"created_at\": 1719804247\n",
      "        },\n",
      "        {\n",
      "            \"metrics\": {\n",
      "                \"train_loss\": 1.96829,\n",
      "                \"valid_loss\": 2.383397,\n",
      "                \"valid_mean_token_accuracy\": 5.217639\n",
      "            },\n",
      "            \"step_number\": 10,\n",
      "            \"created_at\": 1719804193\n",
      "        }\n",
      "    ],\n",
      "    \"estimated_start_time\": null\n",
      "}\n",
      "Job is RUNNING, waiting 10 seconds\n",
      "{\n",
      "    \"id\": \"ee377e19-d646-4d7f-b3f8-429dd318f606\",\n",
      "    \"hyperparameters\": {\n",
      "        \"training_steps\": 25,\n",
      "        \"learning_rate\": 0.0001\n",
      "    },\n",
      "    \"fine_tuned_model\": null,\n",
      "    \"model\": \"open-mistral-7b\",\n",
      "    \"status\": \"RUNNING\",\n",
      "    \"job_type\": \"FT\",\n",
      "    \"created_at\": 1719804119,\n",
      "    \"modified_at\": 1719804120,\n",
      "    \"training_files\": [\n",
      "        \"d8718303-7865-47a0-8ab8-9cc209d1bd0a\"\n",
      "    ],\n",
      "    \"validation_files\": [\n",
      "        \"77977d54-1be9-4dc3-8143-7a5e81779c6c\"\n",
      "    ],\n",
      "    \"object\": \"job\",\n",
      "    \"integrations\": [\n",
      "        {\n",
      "            \"type\": \"wandb\",\n",
      "            \"project\": \"mistral_hackathon\",\n",
      "            \"name\": null,\n",
      "            \"run_name\": \"finetune_wandb\"\n",
      "        }\n",
      "    ],\n",
      "    \"events\": [\n",
      "        {\n",
      "            \"name\": \"status-updated\",\n",
      "            \"data\": {\n",
      "                \"status\": \"RUNNING\"\n",
      "            },\n",
      "            \"created_at\": 1719804120\n",
      "        },\n",
      "        {\n",
      "            \"name\": \"status-updated\",\n",
      "            \"data\": {\n",
      "                \"status\": \"QUEUED\"\n",
      "            },\n",
      "            \"created_at\": 1719804119\n",
      "        }\n",
      "    ],\n",
      "    \"checkpoints\": [\n",
      "        {\n",
      "            \"metrics\": {\n",
      "                \"train_loss\": 1.864056,\n",
      "                \"valid_loss\": 2.30413,\n",
      "                \"valid_mean_token_accuracy\": 4.938695\n",
      "            },\n",
      "            \"step_number\": 20,\n",
      "            \"created_at\": 1719804247\n",
      "        },\n",
      "        {\n",
      "            \"metrics\": {\n",
      "                \"train_loss\": 1.96829,\n",
      "                \"valid_loss\": 2.383397,\n",
      "                \"valid_mean_token_accuracy\": 5.217639\n",
      "            },\n",
      "            \"step_number\": 10,\n",
      "            \"created_at\": 1719804193\n",
      "        }\n",
      "    ],\n",
      "    \"estimated_start_time\": null\n",
      "}\n",
      "Job is RUNNING, waiting 10 seconds\n",
      "{\n",
      "    \"id\": \"ee377e19-d646-4d7f-b3f8-429dd318f606\",\n",
      "    \"hyperparameters\": {\n",
      "        \"training_steps\": 25,\n",
      "        \"learning_rate\": 0.0001\n",
      "    },\n",
      "    \"fine_tuned_model\": null,\n",
      "    \"model\": \"open-mistral-7b\",\n",
      "    \"status\": \"RUNNING\",\n",
      "    \"job_type\": \"FT\",\n",
      "    \"created_at\": 1719804119,\n",
      "    \"modified_at\": 1719804120,\n",
      "    \"training_files\": [\n",
      "        \"d8718303-7865-47a0-8ab8-9cc209d1bd0a\"\n",
      "    ],\n",
      "    \"validation_files\": [\n",
      "        \"77977d54-1be9-4dc3-8143-7a5e81779c6c\"\n",
      "    ],\n",
      "    \"object\": \"job\",\n",
      "    \"integrations\": [\n",
      "        {\n",
      "            \"type\": \"wandb\",\n",
      "            \"project\": \"mistral_hackathon\",\n",
      "            \"name\": null,\n",
      "            \"run_name\": \"finetune_wandb\"\n",
      "        }\n",
      "    ],\n",
      "    \"events\": [\n",
      "        {\n",
      "            \"name\": \"status-updated\",\n",
      "            \"data\": {\n",
      "                \"status\": \"RUNNING\"\n",
      "            },\n",
      "            \"created_at\": 1719804120\n",
      "        },\n",
      "        {\n",
      "            \"name\": \"status-updated\",\n",
      "            \"data\": {\n",
      "                \"status\": \"QUEUED\"\n",
      "            },\n",
      "            \"created_at\": 1719804119\n",
      "        }\n",
      "    ],\n",
      "    \"checkpoints\": [\n",
      "        {\n",
      "            \"metrics\": {\n",
      "                \"train_loss\": 1.864056,\n",
      "                \"valid_loss\": 2.30413,\n",
      "                \"valid_mean_token_accuracy\": 4.938695\n",
      "            },\n",
      "            \"step_number\": 20,\n",
      "            \"created_at\": 1719804247\n",
      "        },\n",
      "        {\n",
      "            \"metrics\": {\n",
      "                \"train_loss\": 1.96829,\n",
      "                \"valid_loss\": 2.383397,\n",
      "                \"valid_mean_token_accuracy\": 5.217639\n",
      "            },\n",
      "            \"step_number\": 10,\n",
      "            \"created_at\": 1719804193\n",
      "        }\n",
      "    ],\n",
      "    \"estimated_start_time\": null\n",
      "}\n",
      "Job is RUNNING, waiting 10 seconds\n",
      "{\n",
      "    \"id\": \"ee377e19-d646-4d7f-b3f8-429dd318f606\",\n",
      "    \"hyperparameters\": {\n",
      "        \"training_steps\": 25,\n",
      "        \"learning_rate\": 0.0001\n",
      "    },\n",
      "    \"fine_tuned_model\": null,\n",
      "    \"model\": \"open-mistral-7b\",\n",
      "    \"status\": \"RUNNING\",\n",
      "    \"job_type\": \"FT\",\n",
      "    \"created_at\": 1719804119,\n",
      "    \"modified_at\": 1719804120,\n",
      "    \"training_files\": [\n",
      "        \"d8718303-7865-47a0-8ab8-9cc209d1bd0a\"\n",
      "    ],\n",
      "    \"validation_files\": [\n",
      "        \"77977d54-1be9-4dc3-8143-7a5e81779c6c\"\n",
      "    ],\n",
      "    \"object\": \"job\",\n",
      "    \"integrations\": [\n",
      "        {\n",
      "            \"type\": \"wandb\",\n",
      "            \"project\": \"mistral_hackathon\",\n",
      "            \"name\": null,\n",
      "            \"run_name\": \"finetune_wandb\"\n",
      "        }\n",
      "    ],\n",
      "    \"events\": [\n",
      "        {\n",
      "            \"name\": \"status-updated\",\n",
      "            \"data\": {\n",
      "                \"status\": \"RUNNING\"\n",
      "            },\n",
      "            \"created_at\": 1719804120\n",
      "        },\n",
      "        {\n",
      "            \"name\": \"status-updated\",\n",
      "            \"data\": {\n",
      "                \"status\": \"QUEUED\"\n",
      "            },\n",
      "            \"created_at\": 1719804119\n",
      "        }\n",
      "    ],\n",
      "    \"checkpoints\": [\n",
      "        {\n",
      "            \"metrics\": {\n",
      "                \"train_loss\": 1.864056,\n",
      "                \"valid_loss\": 2.30413,\n",
      "                \"valid_mean_token_accuracy\": 4.938695\n",
      "            },\n",
      "            \"step_number\": 20,\n",
      "            \"created_at\": 1719804247\n",
      "        },\n",
      "        {\n",
      "            \"metrics\": {\n",
      "                \"train_loss\": 1.96829,\n",
      "                \"valid_loss\": 2.383397,\n",
      "                \"valid_mean_token_accuracy\": 5.217639\n",
      "            },\n",
      "            \"step_number\": 10,\n",
      "            \"created_at\": 1719804193\n",
      "        }\n",
      "    ],\n",
      "    \"estimated_start_time\": null\n",
      "}\n",
      "Job is RUNNING, waiting 10 seconds\n",
      "{\n",
      "    \"id\": \"ee377e19-d646-4d7f-b3f8-429dd318f606\",\n",
      "    \"hyperparameters\": {\n",
      "        \"training_steps\": 25,\n",
      "        \"learning_rate\": 0.0001\n",
      "    },\n",
      "    \"fine_tuned_model\": null,\n",
      "    \"model\": \"open-mistral-7b\",\n",
      "    \"status\": \"RUNNING\",\n",
      "    \"job_type\": \"FT\",\n",
      "    \"created_at\": 1719804119,\n",
      "    \"modified_at\": 1719804120,\n",
      "    \"training_files\": [\n",
      "        \"d8718303-7865-47a0-8ab8-9cc209d1bd0a\"\n",
      "    ],\n",
      "    \"validation_files\": [\n",
      "        \"77977d54-1be9-4dc3-8143-7a5e81779c6c\"\n",
      "    ],\n",
      "    \"object\": \"job\",\n",
      "    \"integrations\": [\n",
      "        {\n",
      "            \"type\": \"wandb\",\n",
      "            \"project\": \"mistral_hackathon\",\n",
      "            \"name\": null,\n",
      "            \"run_name\": \"finetune_wandb\"\n",
      "        }\n",
      "    ],\n",
      "    \"events\": [\n",
      "        {\n",
      "            \"name\": \"status-updated\",\n",
      "            \"data\": {\n",
      "                \"status\": \"RUNNING\"\n",
      "            },\n",
      "            \"created_at\": 1719804120\n",
      "        },\n",
      "        {\n",
      "            \"name\": \"status-updated\",\n",
      "            \"data\": {\n",
      "                \"status\": \"QUEUED\"\n",
      "            },\n",
      "            \"created_at\": 1719804119\n",
      "        }\n",
      "    ],\n",
      "    \"checkpoints\": [\n",
      "        {\n",
      "            \"metrics\": {\n",
      "                \"train_loss\": 1.864056,\n",
      "                \"valid_loss\": 2.30413,\n",
      "                \"valid_mean_token_accuracy\": 4.938695\n",
      "            },\n",
      "            \"step_number\": 20,\n",
      "            \"created_at\": 1719804247\n",
      "        },\n",
      "        {\n",
      "            \"metrics\": {\n",
      "                \"train_loss\": 1.96829,\n",
      "                \"valid_loss\": 2.383397,\n",
      "                \"valid_mean_token_accuracy\": 5.217639\n",
      "            },\n",
      "            \"step_number\": 10,\n",
      "            \"created_at\": 1719804193\n",
      "        }\n",
      "    ],\n",
      "    \"estimated_start_time\": null\n",
      "}\n",
      "Job is RUNNING, waiting 10 seconds\n",
      "{\n",
      "    \"id\": \"ee377e19-d646-4d7f-b3f8-429dd318f606\",\n",
      "    \"hyperparameters\": {\n",
      "        \"training_steps\": 25,\n",
      "        \"learning_rate\": 0.0001\n",
      "    },\n",
      "    \"fine_tuned_model\": null,\n",
      "    \"model\": \"open-mistral-7b\",\n",
      "    \"status\": \"RUNNING\",\n",
      "    \"job_type\": \"FT\",\n",
      "    \"created_at\": 1719804119,\n",
      "    \"modified_at\": 1719804120,\n",
      "    \"training_files\": [\n",
      "        \"d8718303-7865-47a0-8ab8-9cc209d1bd0a\"\n",
      "    ],\n",
      "    \"validation_files\": [\n",
      "        \"77977d54-1be9-4dc3-8143-7a5e81779c6c\"\n",
      "    ],\n",
      "    \"object\": \"job\",\n",
      "    \"integrations\": [\n",
      "        {\n",
      "            \"type\": \"wandb\",\n",
      "            \"project\": \"mistral_hackathon\",\n",
      "            \"name\": null,\n",
      "            \"run_name\": \"finetune_wandb\"\n",
      "        }\n",
      "    ],\n",
      "    \"events\": [\n",
      "        {\n",
      "            \"name\": \"status-updated\",\n",
      "            \"data\": {\n",
      "                \"status\": \"RUNNING\"\n",
      "            },\n",
      "            \"created_at\": 1719804120\n",
      "        },\n",
      "        {\n",
      "            \"name\": \"status-updated\",\n",
      "            \"data\": {\n",
      "                \"status\": \"QUEUED\"\n",
      "            },\n",
      "            \"created_at\": 1719804119\n",
      "        }\n",
      "    ],\n",
      "    \"checkpoints\": [\n",
      "        {\n",
      "            \"metrics\": {\n",
      "                \"train_loss\": 1.864056,\n",
      "                \"valid_loss\": 2.30413,\n",
      "                \"valid_mean_token_accuracy\": 4.938695\n",
      "            },\n",
      "            \"step_number\": 20,\n",
      "            \"created_at\": 1719804247\n",
      "        },\n",
      "        {\n",
      "            \"metrics\": {\n",
      "                \"train_loss\": 1.96829,\n",
      "                \"valid_loss\": 2.383397,\n",
      "                \"valid_mean_token_accuracy\": 5.217639\n",
      "            },\n",
      "            \"step_number\": 10,\n",
      "            \"created_at\": 1719804193\n",
      "        }\n",
      "    ],\n",
      "    \"estimated_start_time\": null\n",
      "}\n",
      "Job is RUNNING, waiting 10 seconds\n",
      "{\n",
      "    \"id\": \"ee377e19-d646-4d7f-b3f8-429dd318f606\",\n",
      "    \"hyperparameters\": {\n",
      "        \"training_steps\": 25,\n",
      "        \"learning_rate\": 0.0001\n",
      "    },\n",
      "    \"fine_tuned_model\": null,\n",
      "    \"model\": \"open-mistral-7b\",\n",
      "    \"status\": \"RUNNING\",\n",
      "    \"job_type\": \"FT\",\n",
      "    \"created_at\": 1719804119,\n",
      "    \"modified_at\": 1719804120,\n",
      "    \"training_files\": [\n",
      "        \"d8718303-7865-47a0-8ab8-9cc209d1bd0a\"\n",
      "    ],\n",
      "    \"validation_files\": [\n",
      "        \"77977d54-1be9-4dc3-8143-7a5e81779c6c\"\n",
      "    ],\n",
      "    \"object\": \"job\",\n",
      "    \"integrations\": [\n",
      "        {\n",
      "            \"type\": \"wandb\",\n",
      "            \"project\": \"mistral_hackathon\",\n",
      "            \"name\": null,\n",
      "            \"run_name\": \"finetune_wandb\"\n",
      "        }\n",
      "    ],\n",
      "    \"events\": [\n",
      "        {\n",
      "            \"name\": \"status-updated\",\n",
      "            \"data\": {\n",
      "                \"status\": \"RUNNING\"\n",
      "            },\n",
      "            \"created_at\": 1719804120\n",
      "        },\n",
      "        {\n",
      "            \"name\": \"status-updated\",\n",
      "            \"data\": {\n",
      "                \"status\": \"QUEUED\"\n",
      "            },\n",
      "            \"created_at\": 1719804119\n",
      "        }\n",
      "    ],\n",
      "    \"checkpoints\": [\n",
      "        {\n",
      "            \"metrics\": {\n",
      "                \"train_loss\": 1.864056,\n",
      "                \"valid_loss\": 2.30413,\n",
      "                \"valid_mean_token_accuracy\": 4.938695\n",
      "            },\n",
      "            \"step_number\": 20,\n",
      "            \"created_at\": 1719804247\n",
      "        },\n",
      "        {\n",
      "            \"metrics\": {\n",
      "                \"train_loss\": 1.96829,\n",
      "                \"valid_loss\": 2.383397,\n",
      "                \"valid_mean_token_accuracy\": 5.217639\n",
      "            },\n",
      "            \"step_number\": 10,\n",
      "            \"created_at\": 1719804193\n",
      "        }\n",
      "    ],\n",
      "    \"estimated_start_time\": null\n",
      "}\n",
      "Job is RUNNING, waiting 10 seconds\n",
      "{\n",
      "    \"id\": \"ee377e19-d646-4d7f-b3f8-429dd318f606\",\n",
      "    \"hyperparameters\": {\n",
      "        \"training_steps\": 25,\n",
      "        \"learning_rate\": 0.0001\n",
      "    },\n",
      "    \"fine_tuned_model\": \"ft:open-mistral-7b:fd6d41e7:20240701:ee377e19\",\n",
      "    \"model\": \"open-mistral-7b\",\n",
      "    \"status\": \"SUCCESS\",\n",
      "    \"job_type\": \"FT\",\n",
      "    \"created_at\": 1719804119,\n",
      "    \"modified_at\": 1719804310,\n",
      "    \"training_files\": [\n",
      "        \"d8718303-7865-47a0-8ab8-9cc209d1bd0a\"\n",
      "    ],\n",
      "    \"validation_files\": [\n",
      "        \"77977d54-1be9-4dc3-8143-7a5e81779c6c\"\n",
      "    ],\n",
      "    \"object\": \"job\",\n",
      "    \"integrations\": [\n",
      "        {\n",
      "            \"type\": \"wandb\",\n",
      "            \"project\": \"mistral_hackathon\",\n",
      "            \"name\": null,\n",
      "            \"run_name\": \"finetune_wandb\"\n",
      "        }\n",
      "    ],\n",
      "    \"events\": [\n",
      "        {\n",
      "            \"name\": \"status-updated\",\n",
      "            \"data\": {\n",
      "                \"status\": \"SUCCESS\"\n",
      "            },\n",
      "            \"created_at\": 1719804310\n",
      "        },\n",
      "        {\n",
      "            \"name\": \"status-updated\",\n",
      "            \"data\": {\n",
      "                \"status\": \"RUNNING\"\n",
      "            },\n",
      "            \"created_at\": 1719804120\n",
      "        },\n",
      "        {\n",
      "            \"name\": \"status-updated\",\n",
      "            \"data\": {\n",
      "                \"status\": \"QUEUED\"\n",
      "            },\n",
      "            \"created_at\": 1719804119\n",
      "        }\n",
      "    ],\n",
      "    \"checkpoints\": [\n",
      "        {\n",
      "            \"metrics\": {\n",
      "                \"train_loss\": 1.864056,\n",
      "                \"valid_loss\": 2.30413,\n",
      "                \"valid_mean_token_accuracy\": 4.938695\n",
      "            },\n",
      "            \"step_number\": 20,\n",
      "            \"created_at\": 1719804247\n",
      "        },\n",
      "        {\n",
      "            \"metrics\": {\n",
      "                \"train_loss\": 1.96829,\n",
      "                \"valid_loss\": 2.383397,\n",
      "                \"valid_mean_token_accuracy\": 5.217639\n",
      "            },\n",
      "            \"step_number\": 10,\n",
      "            \"created_at\": 1719804193\n",
      "        }\n",
      "    ],\n",
      "    \"estimated_start_time\": null\n",
      "}\n",
      "Job is SUCCESS, waiting 10 seconds\n"
     ]
    }
   ],
   "source": [
    "import time\n",
    "\n",
    "retrieved_job = client.jobs.retrieve(created_jobs.id)\n",
    "while retrieved_job.status in [\"RUNNING\", \"QUEUED\"]:\n",
    "    retrieved_job = client.jobs.retrieve(created_jobs.id)\n",
    "    pprint(retrieved_job)\n",
    "    print(f\"Job is {retrieved_job.status}, waiting 10 seconds\")\n",
    "    time.sleep(10)"
   ]
  },
  {
   "cell_type": "code",
   "execution_count": 78,
   "metadata": {},
   "outputs": [
    {
     "name": "stdout",
     "output_type": "stream",
     "text": [
      "{\n",
      "    \"id\": \"ee377e19-d646-4d7f-b3f8-429dd318f606\",\n",
      "    \"hyperparameters\": {\n",
      "        \"training_steps\": 25,\n",
      "        \"learning_rate\": 0.0001\n",
      "    },\n",
      "    \"fine_tuned_model\": \"ft:open-mistral-7b:fd6d41e7:20240701:ee377e19\",\n",
      "    \"model\": \"open-mistral-7b\",\n",
      "    \"status\": \"SUCCESS\",\n",
      "    \"job_type\": \"FT\",\n",
      "    \"created_at\": 1719804119,\n",
      "    \"modified_at\": 1719804310,\n",
      "    \"training_files\": [\n",
      "        \"d8718303-7865-47a0-8ab8-9cc209d1bd0a\"\n",
      "    ],\n",
      "    \"validation_files\": [\n",
      "        \"77977d54-1be9-4dc3-8143-7a5e81779c6c\"\n",
      "    ],\n",
      "    \"object\": \"job\",\n",
      "    \"integrations\": [\n",
      "        {\n",
      "            \"type\": \"wandb\",\n",
      "            \"project\": \"mistral_hackathon\",\n",
      "            \"name\": null,\n",
      "            \"run_name\": \"finetune_wandb\"\n",
      "        }\n",
      "    ],\n",
      "    \"events\": [\n",
      "        {\n",
      "            \"name\": \"status-updated\",\n",
      "            \"data\": {\n",
      "                \"status\": \"SUCCESS\"\n",
      "            },\n",
      "            \"created_at\": 1719804310\n",
      "        },\n",
      "        {\n",
      "            \"name\": \"status-updated\",\n",
      "            \"data\": {\n",
      "                \"status\": \"RUNNING\"\n",
      "            },\n",
      "            \"created_at\": 1719804120\n",
      "        },\n",
      "        {\n",
      "            \"name\": \"status-updated\",\n",
      "            \"data\": {\n",
      "                \"status\": \"QUEUED\"\n",
      "            },\n",
      "            \"created_at\": 1719804119\n",
      "        }\n",
      "    ],\n",
      "    \"checkpoints\": [\n",
      "        {\n",
      "            \"metrics\": {\n",
      "                \"train_loss\": 1.864056,\n",
      "                \"valid_loss\": 2.30413,\n",
      "                \"valid_mean_token_accuracy\": 4.938695\n",
      "            },\n",
      "            \"step_number\": 20,\n",
      "            \"created_at\": 1719804247\n",
      "        },\n",
      "        {\n",
      "            \"metrics\": {\n",
      "                \"train_loss\": 1.96829,\n",
      "                \"valid_loss\": 2.383397,\n",
      "                \"valid_mean_token_accuracy\": 5.217639\n",
      "            },\n",
      "            \"step_number\": 10,\n",
      "            \"created_at\": 1719804193\n",
      "        }\n",
      "    ],\n",
      "    \"estimated_start_time\": null\n",
      "}\n"
     ]
    }
   ],
   "source": [
    "retrieved_jobs = client.jobs.retrieve(created_jobs.id)\n",
    "pprint(retrieved_jobs)"
   ]
  },
  {
   "cell_type": "code",
   "execution_count": 77,
   "metadata": {},
   "outputs": [],
   "source": [
    "ds_eval_medium = weave.ref('ds_eval_medium:latest').get()"
   ]
  },
  {
   "cell_type": "code",
   "execution_count": 81,
   "metadata": {},
   "outputs": [],
   "source": [
    "client = MistralAsyncClient(api_key=os.environ[\"MISTRAL_API_KEY\"])"
   ]
  },
  {
   "cell_type": "code",
   "execution_count": 82,
   "metadata": {},
   "outputs": [
    {
     "name": "stdout",
     "output_type": "stream",
     "text": [
      "🍩 https://wandb.ai/aastroza/mistral_hackathon/r/call/84da3856-0602-4f8a-9c79-7a215ae6e750\n",
      "🍩 https://wandb.ai/aastroza/mistral_hackathon/r/call/2e6dfc57-0ba4-4cf3-9288-b33d65559c2a\n",
      "🍩 https://wandb.ai/aastroza/mistral_hackathon/r/call/407fda3c-2125-47c2-be48-1eeeb669d315\n",
      "🍩 https://wandb.ai/aastroza/mistral_hackathon/r/call/477c61b2-e382-42f4-94f7-1674b0a99d8c\n",
      "🍩 https://wandb.ai/aastroza/mistral_hackathon/r/call/abb9c6fc-883b-4f66-8f50-08a9856f165f\n",
      "🍩 https://wandb.ai/aastroza/mistral_hackathon/r/call/c2f99fdd-61ca-40d5-ab77-9cfb1cf9ed48\n",
      "🍩 https://wandb.ai/aastroza/mistral_hackathon/r/call/1d61acf1-b3de-4f08-ba6c-e3855c49da27\n",
      "🍩 https://wandb.ai/aastroza/mistral_hackathon/r/call/968c362b-725f-4355-8353-10c74e9e9463\n",
      "🍩 https://wandb.ai/aastroza/mistral_hackathon/r/call/f0504664-875c-4ae4-a41e-13fe3e711824\n",
      "🍩 https://wandb.ai/aastroza/mistral_hackathon/r/call/1fc16902-3d3e-4333-9edc-b0795e7c1c97\n",
      "🍩 https://wandb.ai/aastroza/mistral_hackathon/r/call/60a7ea78-f269-43b3-914f-e48c8d98c8fd\n",
      "🍩 https://wandb.ai/aastroza/mistral_hackathon/r/call/628a0664-d2de-4040-ad3e-8b51f3d9a4c9\n",
      "🍩 https://wandb.ai/aastroza/mistral_hackathon/r/call/dd818c97-c9cb-4c46-b073-1e0de2db6378\n",
      "🍩 https://wandb.ai/aastroza/mistral_hackathon/r/call/4185c14b-847d-4eb4-8643-145a04627957\n",
      "🍩 https://wandb.ai/aastroza/mistral_hackathon/r/call/6c496b6c-2efc-43a8-8f36-a986af74c69c\n",
      "🍩 https://wandb.ai/aastroza/mistral_hackathon/r/call/3c3700f5-615f-4bf1-886c-f838a34faf3f\n",
      "🍩 https://wandb.ai/aastroza/mistral_hackathon/r/call/a316471c-2dfd-4cf8-a25f-6e0f6980f452\n",
      "🍩 https://wandb.ai/aastroza/mistral_hackathon/r/call/2a686721-4b01-4e8d-9fac-103155463c6e\n",
      "🍩 https://wandb.ai/aastroza/mistral_hackathon/r/call/54a01bcf-dc74-482a-9571-1b91a5374035\n",
      "🍩 https://wandb.ai/aastroza/mistral_hackathon/r/call/d282af9d-dcb0-4a3d-ab0e-632c1a0bde7e\n",
      "🍩 https://wandb.ai/aastroza/mistral_hackathon/r/call/18bf89e8-12b9-41b2-b23a-ff0338cf39d5\n",
      "🍩 https://wandb.ai/aastroza/mistral_hackathon/r/call/7be858da-d616-4eb8-bf13-ac6556b243b8\n",
      "🍩 https://wandb.ai/aastroza/mistral_hackathon/r/call/ea8e9453-6055-47d9-830a-d72caa63cb20\n",
      "🍩 https://wandb.ai/aastroza/mistral_hackathon/r/call/50590be1-3885-4d60-a131-a4320e7730c5\n",
      "🍩 https://wandb.ai/aastroza/mistral_hackathon/r/call/4181f6fd-5cae-48fd-a730-efcad09d753c\n",
      "🍩 https://wandb.ai/aastroza/mistral_hackathon/r/call/9c040405-f428-4c8b-8590-cb07a7033471\n",
      "🍩 https://wandb.ai/aastroza/mistral_hackathon/r/call/76a87045-ba37-4e13-a070-4887744dfee5\n",
      "🍩 https://wandb.ai/aastroza/mistral_hackathon/r/call/d85065e8-30a1-477c-9e3f-0ef6cea04d72\n",
      "🍩 https://wandb.ai/aastroza/mistral_hackathon/r/call/8e079a93-2876-486f-852e-2ce31db46df7\n",
      "🍩 https://wandb.ai/aastroza/mistral_hackathon/r/call/78b86ebd-6cac-45b7-b062-a5b3544713ee\n",
      "🍩 https://wandb.ai/aastroza/mistral_hackathon/r/call/8dd13d22-5409-4cbe-b548-78a1ddce4627\n",
      "🍩 https://wandb.ai/aastroza/mistral_hackathon/r/call/a2025daa-b759-40ec-b4ff-8654ab59a8ea\n",
      "🍩 https://wandb.ai/aastroza/mistral_hackathon/r/call/142f2a10-7ffd-45fb-8abb-5f07b7d60202\n",
      "🍩 https://wandb.ai/aastroza/mistral_hackathon/r/call/142b9b1b-7ed9-44bd-90ff-27f0c18758bb\n",
      "🍩 https://wandb.ai/aastroza/mistral_hackathon/r/call/441ef165-1cfa-4e57-a7ee-5363847f2b1f\n",
      "🍩 https://wandb.ai/aastroza/mistral_hackathon/r/call/3f6414fb-b4a7-407a-b027-296d828a9741\n",
      "🍩 https://wandb.ai/aastroza/mistral_hackathon/r/call/ad699c3f-a3bc-4aee-ba96-01d28fbc2ade\n",
      "🍩 https://wandb.ai/aastroza/mistral_hackathon/r/call/62da8187-a8a7-4f7c-ae64-0227410edd0f\n",
      "🍩 https://wandb.ai/aastroza/mistral_hackathon/r/call/0b58e7d2-ddd9-4921-bb69-e009f298725c\n",
      "🍩 https://wandb.ai/aastroza/mistral_hackathon/r/call/8736e523-0fb2-405d-a251-4e21917d366a\n",
      "🍩 https://wandb.ai/aastroza/mistral_hackathon/r/call/8fdb1ba2-2c79-4d66-ba77-1bd0abcf1659\n",
      "🍩 https://wandb.ai/aastroza/mistral_hackathon/r/call/4ac92ad4-90f6-4936-bbf1-9f82ec6a1f2e\n",
      "🍩 https://wandb.ai/aastroza/mistral_hackathon/r/call/01a5cf4b-a27c-446a-8ab4-4fca5b1c51cf\n",
      "🍩 https://wandb.ai/aastroza/mistral_hackathon/r/call/50952a25-6ba0-41fa-a3e1-600ad799e0b9\n",
      "🍩 https://wandb.ai/aastroza/mistral_hackathon/r/call/b94e8ee7-8f1d-4b40-9067-83ff5b330c23\n"
     ]
    },
    {
     "ename": "MistralException",
     "evalue": "Unexpected exception (ReadError): ",
     "output_type": "error",
     "traceback": [
      "\u001b[1;31m---------------------------------------------------------------------------\u001b[0m",
      "\u001b[1;31mReadError\u001b[0m                                 Traceback (most recent call last)",
      "File \u001b[1;32mc:\\Users\\Alonso\\Dropbox\\personal\\repos\\mistral-fine-tuning\\.venv\\Lib\\site-packages\\httpx\\_transports\\default.py:66\u001b[0m, in \u001b[0;36mmap_httpcore_exceptions\u001b[1;34m()\u001b[0m\n\u001b[0;32m     65\u001b[0m \u001b[38;5;28;01mtry\u001b[39;00m:\n\u001b[1;32m---> 66\u001b[0m     \u001b[38;5;28;01myield\u001b[39;00m\n\u001b[0;32m     67\u001b[0m \u001b[38;5;28;01mexcept\u001b[39;00m \u001b[38;5;167;01mException\u001b[39;00m \u001b[38;5;28;01mas\u001b[39;00m exc:\n",
      "File \u001b[1;32mc:\\Users\\Alonso\\Dropbox\\personal\\repos\\mistral-fine-tuning\\.venv\\Lib\\site-packages\\httpx\\_transports\\default.py:366\u001b[0m, in \u001b[0;36mAsyncHTTPTransport.handle_async_request\u001b[1;34m(self, request)\u001b[0m\n\u001b[0;32m    365\u001b[0m \u001b[38;5;28;01mwith\u001b[39;00m map_httpcore_exceptions():\n\u001b[1;32m--> 366\u001b[0m     resp \u001b[38;5;241m=\u001b[39m \u001b[38;5;28;01mawait\u001b[39;00m \u001b[38;5;28mself\u001b[39m\u001b[38;5;241m.\u001b[39m_pool\u001b[38;5;241m.\u001b[39mhandle_async_request(req)\n\u001b[0;32m    368\u001b[0m \u001b[38;5;28;01massert\u001b[39;00m \u001b[38;5;28misinstance\u001b[39m(resp\u001b[38;5;241m.\u001b[39mstream, typing\u001b[38;5;241m.\u001b[39mAsyncIterable)\n",
      "File \u001b[1;32mc:\\Users\\Alonso\\Dropbox\\personal\\repos\\mistral-fine-tuning\\.venv\\Lib\\site-packages\\httpcore\\_async\\connection_pool.py:216\u001b[0m, in \u001b[0;36mAsyncConnectionPool.handle_async_request\u001b[1;34m(self, request)\u001b[0m\n\u001b[0;32m    215\u001b[0m     \u001b[38;5;28;01mawait\u001b[39;00m \u001b[38;5;28mself\u001b[39m\u001b[38;5;241m.\u001b[39m_close_connections(closing)\n\u001b[1;32m--> 216\u001b[0m     \u001b[38;5;28;01mraise\u001b[39;00m exc \u001b[38;5;28;01mfrom\u001b[39;00m \u001b[38;5;28;01mNone\u001b[39;00m\n\u001b[0;32m    218\u001b[0m \u001b[38;5;66;03m# Return the response. Note that in this case we still have to manage\u001b[39;00m\n\u001b[0;32m    219\u001b[0m \u001b[38;5;66;03m# the point at which the response is closed.\u001b[39;00m\n",
      "File \u001b[1;32mc:\\Users\\Alonso\\Dropbox\\personal\\repos\\mistral-fine-tuning\\.venv\\Lib\\site-packages\\httpcore\\_async\\connection_pool.py:196\u001b[0m, in \u001b[0;36mAsyncConnectionPool.handle_async_request\u001b[1;34m(self, request)\u001b[0m\n\u001b[0;32m    194\u001b[0m \u001b[38;5;28;01mtry\u001b[39;00m:\n\u001b[0;32m    195\u001b[0m     \u001b[38;5;66;03m# Send the request on the assigned connection.\u001b[39;00m\n\u001b[1;32m--> 196\u001b[0m     response \u001b[38;5;241m=\u001b[39m \u001b[38;5;28;01mawait\u001b[39;00m connection\u001b[38;5;241m.\u001b[39mhandle_async_request(\n\u001b[0;32m    197\u001b[0m         pool_request\u001b[38;5;241m.\u001b[39mrequest\n\u001b[0;32m    198\u001b[0m     )\n\u001b[0;32m    199\u001b[0m \u001b[38;5;28;01mexcept\u001b[39;00m ConnectionNotAvailable:\n\u001b[0;32m    200\u001b[0m     \u001b[38;5;66;03m# In some cases a connection may initially be available to\u001b[39;00m\n\u001b[0;32m    201\u001b[0m     \u001b[38;5;66;03m# handle a request, but then become unavailable.\u001b[39;00m\n\u001b[0;32m    202\u001b[0m     \u001b[38;5;66;03m#\u001b[39;00m\n\u001b[0;32m    203\u001b[0m     \u001b[38;5;66;03m# In this case we clear the connection and try again.\u001b[39;00m\n",
      "File \u001b[1;32mc:\\Users\\Alonso\\Dropbox\\personal\\repos\\mistral-fine-tuning\\.venv\\Lib\\site-packages\\httpcore\\_async\\connection.py:101\u001b[0m, in \u001b[0;36mAsyncHTTPConnection.handle_async_request\u001b[1;34m(self, request)\u001b[0m\n\u001b[0;32m     99\u001b[0m     \u001b[38;5;28;01mraise\u001b[39;00m exc\n\u001b[1;32m--> 101\u001b[0m \u001b[38;5;28;01mreturn\u001b[39;00m \u001b[38;5;28;01mawait\u001b[39;00m \u001b[38;5;28mself\u001b[39m\u001b[38;5;241m.\u001b[39m_connection\u001b[38;5;241m.\u001b[39mhandle_async_request(request)\n",
      "File \u001b[1;32mc:\\Users\\Alonso\\Dropbox\\personal\\repos\\mistral-fine-tuning\\.venv\\Lib\\site-packages\\httpcore\\_async\\http11.py:143\u001b[0m, in \u001b[0;36mAsyncHTTP11Connection.handle_async_request\u001b[1;34m(self, request)\u001b[0m\n\u001b[0;32m    142\u001b[0m         \u001b[38;5;28;01mawait\u001b[39;00m \u001b[38;5;28mself\u001b[39m\u001b[38;5;241m.\u001b[39m_response_closed()\n\u001b[1;32m--> 143\u001b[0m \u001b[38;5;28;01mraise\u001b[39;00m exc\n",
      "File \u001b[1;32mc:\\Users\\Alonso\\Dropbox\\personal\\repos\\mistral-fine-tuning\\.venv\\Lib\\site-packages\\httpcore\\_async\\http11.py:113\u001b[0m, in \u001b[0;36mAsyncHTTP11Connection.handle_async_request\u001b[1;34m(self, request)\u001b[0m\n\u001b[0;32m    104\u001b[0m \u001b[38;5;28;01masync\u001b[39;00m \u001b[38;5;28;01mwith\u001b[39;00m Trace(\n\u001b[0;32m    105\u001b[0m     \u001b[38;5;124m\"\u001b[39m\u001b[38;5;124mreceive_response_headers\u001b[39m\u001b[38;5;124m\"\u001b[39m, logger, request, kwargs\n\u001b[0;32m    106\u001b[0m ) \u001b[38;5;28;01mas\u001b[39;00m trace:\n\u001b[0;32m    107\u001b[0m     (\n\u001b[0;32m    108\u001b[0m         http_version,\n\u001b[0;32m    109\u001b[0m         status,\n\u001b[0;32m    110\u001b[0m         reason_phrase,\n\u001b[0;32m    111\u001b[0m         headers,\n\u001b[0;32m    112\u001b[0m         trailing_data,\n\u001b[1;32m--> 113\u001b[0m     ) \u001b[38;5;241m=\u001b[39m \u001b[38;5;28;01mawait\u001b[39;00m \u001b[38;5;28mself\u001b[39m\u001b[38;5;241m.\u001b[39m_receive_response_headers(\u001b[38;5;241m*\u001b[39m\u001b[38;5;241m*\u001b[39mkwargs)\n\u001b[0;32m    114\u001b[0m     trace\u001b[38;5;241m.\u001b[39mreturn_value \u001b[38;5;241m=\u001b[39m (\n\u001b[0;32m    115\u001b[0m         http_version,\n\u001b[0;32m    116\u001b[0m         status,\n\u001b[0;32m    117\u001b[0m         reason_phrase,\n\u001b[0;32m    118\u001b[0m         headers,\n\u001b[0;32m    119\u001b[0m     )\n",
      "File \u001b[1;32mc:\\Users\\Alonso\\Dropbox\\personal\\repos\\mistral-fine-tuning\\.venv\\Lib\\site-packages\\httpcore\\_async\\http11.py:186\u001b[0m, in \u001b[0;36mAsyncHTTP11Connection._receive_response_headers\u001b[1;34m(self, request)\u001b[0m\n\u001b[0;32m    185\u001b[0m \u001b[38;5;28;01mwhile\u001b[39;00m \u001b[38;5;28;01mTrue\u001b[39;00m:\n\u001b[1;32m--> 186\u001b[0m     event \u001b[38;5;241m=\u001b[39m \u001b[38;5;28;01mawait\u001b[39;00m \u001b[38;5;28mself\u001b[39m\u001b[38;5;241m.\u001b[39m_receive_event(timeout\u001b[38;5;241m=\u001b[39mtimeout)\n\u001b[0;32m    187\u001b[0m     \u001b[38;5;28;01mif\u001b[39;00m \u001b[38;5;28misinstance\u001b[39m(event, h11\u001b[38;5;241m.\u001b[39mResponse):\n",
      "File \u001b[1;32mc:\\Users\\Alonso\\Dropbox\\personal\\repos\\mistral-fine-tuning\\.venv\\Lib\\site-packages\\httpcore\\_async\\http11.py:224\u001b[0m, in \u001b[0;36mAsyncHTTP11Connection._receive_event\u001b[1;34m(self, timeout)\u001b[0m\n\u001b[0;32m    223\u001b[0m \u001b[38;5;28;01mif\u001b[39;00m event \u001b[38;5;129;01mis\u001b[39;00m h11\u001b[38;5;241m.\u001b[39mNEED_DATA:\n\u001b[1;32m--> 224\u001b[0m     data \u001b[38;5;241m=\u001b[39m \u001b[38;5;28;01mawait\u001b[39;00m \u001b[38;5;28mself\u001b[39m\u001b[38;5;241m.\u001b[39m_network_stream\u001b[38;5;241m.\u001b[39mread(\n\u001b[0;32m    225\u001b[0m         \u001b[38;5;28mself\u001b[39m\u001b[38;5;241m.\u001b[39mREAD_NUM_BYTES, timeout\u001b[38;5;241m=\u001b[39mtimeout\n\u001b[0;32m    226\u001b[0m     )\n\u001b[0;32m    228\u001b[0m     \u001b[38;5;66;03m# If we feed this case through h11 we'll raise an exception like:\u001b[39;00m\n\u001b[0;32m    229\u001b[0m     \u001b[38;5;66;03m#\u001b[39;00m\n\u001b[0;32m    230\u001b[0m     \u001b[38;5;66;03m#     httpcore.RemoteProtocolError: can't handle event type\u001b[39;00m\n\u001b[1;32m   (...)\u001b[0m\n\u001b[0;32m    234\u001b[0m     \u001b[38;5;66;03m# perspective. Instead we handle this case distinctly and treat\u001b[39;00m\n\u001b[0;32m    235\u001b[0m     \u001b[38;5;66;03m# it as a ConnectError.\u001b[39;00m\n",
      "File \u001b[1;32mc:\\Users\\Alonso\\Dropbox\\personal\\repos\\mistral-fine-tuning\\.venv\\Lib\\site-packages\\httpcore\\_backends\\anyio.py:32\u001b[0m, in \u001b[0;36mAnyIOStream.read\u001b[1;34m(self, max_bytes, timeout)\u001b[0m\n\u001b[0;32m     26\u001b[0m exc_map \u001b[38;5;241m=\u001b[39m {\n\u001b[0;32m     27\u001b[0m     \u001b[38;5;167;01mTimeoutError\u001b[39;00m: ReadTimeout,\n\u001b[0;32m     28\u001b[0m     anyio\u001b[38;5;241m.\u001b[39mBrokenResourceError: ReadError,\n\u001b[0;32m     29\u001b[0m     anyio\u001b[38;5;241m.\u001b[39mClosedResourceError: ReadError,\n\u001b[0;32m     30\u001b[0m     anyio\u001b[38;5;241m.\u001b[39mEndOfStream: ReadError,\n\u001b[0;32m     31\u001b[0m }\n\u001b[1;32m---> 32\u001b[0m \u001b[43m\u001b[49m\u001b[38;5;28;43;01mwith\u001b[39;49;00m\u001b[43m \u001b[49m\u001b[43mmap_exceptions\u001b[49m\u001b[43m(\u001b[49m\u001b[43mexc_map\u001b[49m\u001b[43m)\u001b[49m\u001b[43m:\u001b[49m\n\u001b[0;32m     33\u001b[0m \u001b[43m    \u001b[49m\u001b[38;5;28;43;01mwith\u001b[39;49;00m\u001b[43m \u001b[49m\u001b[43manyio\u001b[49m\u001b[38;5;241;43m.\u001b[39;49m\u001b[43mfail_after\u001b[49m\u001b[43m(\u001b[49m\u001b[43mtimeout\u001b[49m\u001b[43m)\u001b[49m\u001b[43m:\u001b[49m\n",
      "File \u001b[1;32m~\\.rye\\py\\cpython@3.12.1\\install\\Lib\\contextlib.py:158\u001b[0m, in \u001b[0;36m_GeneratorContextManager.__exit__\u001b[1;34m(self, typ, value, traceback)\u001b[0m\n\u001b[0;32m    157\u001b[0m \u001b[38;5;28;01mtry\u001b[39;00m:\n\u001b[1;32m--> 158\u001b[0m     \u001b[38;5;28;43mself\u001b[39;49m\u001b[38;5;241;43m.\u001b[39;49m\u001b[43mgen\u001b[49m\u001b[38;5;241;43m.\u001b[39;49m\u001b[43mthrow\u001b[49m\u001b[43m(\u001b[49m\u001b[43mvalue\u001b[49m\u001b[43m)\u001b[49m\n\u001b[0;32m    159\u001b[0m \u001b[38;5;28;01mexcept\u001b[39;00m \u001b[38;5;167;01mStopIteration\u001b[39;00m \u001b[38;5;28;01mas\u001b[39;00m exc:\n\u001b[0;32m    160\u001b[0m     \u001b[38;5;66;03m# Suppress StopIteration *unless* it's the same exception that\u001b[39;00m\n\u001b[0;32m    161\u001b[0m     \u001b[38;5;66;03m# was passed to throw().  This prevents a StopIteration\u001b[39;00m\n\u001b[0;32m    162\u001b[0m     \u001b[38;5;66;03m# raised inside the \"with\" statement from being suppressed.\u001b[39;00m\n",
      "File \u001b[1;32mc:\\Users\\Alonso\\Dropbox\\personal\\repos\\mistral-fine-tuning\\.venv\\Lib\\site-packages\\httpcore\\_exceptions.py:14\u001b[0m, in \u001b[0;36mmap_exceptions\u001b[1;34m(map)\u001b[0m\n\u001b[0;32m     13\u001b[0m     \u001b[38;5;28;01mif\u001b[39;00m \u001b[38;5;28misinstance\u001b[39m(exc, from_exc):\n\u001b[1;32m---> 14\u001b[0m         \u001b[38;5;28;01mraise\u001b[39;00m to_exc(exc) \u001b[38;5;28;01mfrom\u001b[39;00m \u001b[38;5;21;01mexc\u001b[39;00m\n\u001b[0;32m     15\u001b[0m \u001b[38;5;28;01mraise\u001b[39;00m\n",
      "\u001b[1;31mReadError\u001b[0m: ",
      "\nThe above exception was the direct cause of the following exception:\n",
      "\u001b[1;31mReadError\u001b[0m                                 Traceback (most recent call last)",
      "File \u001b[1;32mc:\\Users\\Alonso\\Dropbox\\personal\\repos\\mistral-fine-tuning\\.venv\\Lib\\site-packages\\mistralai\\async_client.py:140\u001b[0m, in \u001b[0;36mMistralAsyncClient._request\u001b[1;34m(self, method, json, path, stream, attempt, data, **kwargs)\u001b[0m\n\u001b[0;32m    139\u001b[0m \u001b[38;5;28;01melse\u001b[39;00m:\n\u001b[1;32m--> 140\u001b[0m     response \u001b[38;5;241m=\u001b[39m \u001b[38;5;28;01mawait\u001b[39;00m \u001b[38;5;28mself\u001b[39m\u001b[38;5;241m.\u001b[39m_client\u001b[38;5;241m.\u001b[39mrequest(\n\u001b[0;32m    141\u001b[0m         method,\n\u001b[0;32m    142\u001b[0m         url,\n\u001b[0;32m    143\u001b[0m         headers\u001b[38;5;241m=\u001b[39mheaders,\n\u001b[0;32m    144\u001b[0m         json\u001b[38;5;241m=\u001b[39mjson,\n\u001b[0;32m    145\u001b[0m         data\u001b[38;5;241m=\u001b[39mdata,\n\u001b[0;32m    146\u001b[0m         \u001b[38;5;241m*\u001b[39m\u001b[38;5;241m*\u001b[39mkwargs,\n\u001b[0;32m    147\u001b[0m     )\n\u001b[0;32m    149\u001b[0m     \u001b[38;5;28;01myield\u001b[39;00m \u001b[38;5;28;01mawait\u001b[39;00m \u001b[38;5;28mself\u001b[39m\u001b[38;5;241m.\u001b[39m_check_response(response)\n",
      "File \u001b[1;32mc:\\Users\\Alonso\\Dropbox\\personal\\repos\\mistral-fine-tuning\\.venv\\Lib\\site-packages\\httpx\\_client.py:1530\u001b[0m, in \u001b[0;36mAsyncClient.request\u001b[1;34m(self, method, url, content, data, files, json, params, headers, cookies, auth, follow_redirects, timeout, extensions)\u001b[0m\n\u001b[0;32m   1517\u001b[0m request \u001b[38;5;241m=\u001b[39m \u001b[38;5;28mself\u001b[39m\u001b[38;5;241m.\u001b[39mbuild_request(\n\u001b[0;32m   1518\u001b[0m     method\u001b[38;5;241m=\u001b[39mmethod,\n\u001b[0;32m   1519\u001b[0m     url\u001b[38;5;241m=\u001b[39murl,\n\u001b[1;32m   (...)\u001b[0m\n\u001b[0;32m   1528\u001b[0m     extensions\u001b[38;5;241m=\u001b[39mextensions,\n\u001b[0;32m   1529\u001b[0m )\n\u001b[1;32m-> 1530\u001b[0m \u001b[38;5;28;01mreturn\u001b[39;00m \u001b[38;5;28;01mawait\u001b[39;00m \u001b[38;5;28mself\u001b[39m\u001b[38;5;241m.\u001b[39msend(request, auth\u001b[38;5;241m=\u001b[39mauth, follow_redirects\u001b[38;5;241m=\u001b[39mfollow_redirects)\n",
      "File \u001b[1;32mc:\\Users\\Alonso\\Dropbox\\personal\\repos\\mistral-fine-tuning\\.venv\\Lib\\site-packages\\httpx\\_client.py:1617\u001b[0m, in \u001b[0;36mAsyncClient.send\u001b[1;34m(self, request, stream, auth, follow_redirects)\u001b[0m\n\u001b[0;32m   1615\u001b[0m auth \u001b[38;5;241m=\u001b[39m \u001b[38;5;28mself\u001b[39m\u001b[38;5;241m.\u001b[39m_build_request_auth(request, auth)\n\u001b[1;32m-> 1617\u001b[0m response \u001b[38;5;241m=\u001b[39m \u001b[38;5;28;01mawait\u001b[39;00m \u001b[38;5;28mself\u001b[39m\u001b[38;5;241m.\u001b[39m_send_handling_auth(\n\u001b[0;32m   1618\u001b[0m     request,\n\u001b[0;32m   1619\u001b[0m     auth\u001b[38;5;241m=\u001b[39mauth,\n\u001b[0;32m   1620\u001b[0m     follow_redirects\u001b[38;5;241m=\u001b[39mfollow_redirects,\n\u001b[0;32m   1621\u001b[0m     history\u001b[38;5;241m=\u001b[39m[],\n\u001b[0;32m   1622\u001b[0m )\n\u001b[0;32m   1623\u001b[0m \u001b[38;5;28;01mtry\u001b[39;00m:\n",
      "File \u001b[1;32mc:\\Users\\Alonso\\Dropbox\\personal\\repos\\mistral-fine-tuning\\.venv\\Lib\\site-packages\\httpx\\_client.py:1645\u001b[0m, in \u001b[0;36mAsyncClient._send_handling_auth\u001b[1;34m(self, request, auth, follow_redirects, history)\u001b[0m\n\u001b[0;32m   1644\u001b[0m \u001b[38;5;28;01mwhile\u001b[39;00m \u001b[38;5;28;01mTrue\u001b[39;00m:\n\u001b[1;32m-> 1645\u001b[0m     response \u001b[38;5;241m=\u001b[39m \u001b[38;5;28;01mawait\u001b[39;00m \u001b[38;5;28mself\u001b[39m\u001b[38;5;241m.\u001b[39m_send_handling_redirects(\n\u001b[0;32m   1646\u001b[0m         request,\n\u001b[0;32m   1647\u001b[0m         follow_redirects\u001b[38;5;241m=\u001b[39mfollow_redirects,\n\u001b[0;32m   1648\u001b[0m         history\u001b[38;5;241m=\u001b[39mhistory,\n\u001b[0;32m   1649\u001b[0m     )\n\u001b[0;32m   1650\u001b[0m     \u001b[38;5;28;01mtry\u001b[39;00m:\n",
      "File \u001b[1;32mc:\\Users\\Alonso\\Dropbox\\personal\\repos\\mistral-fine-tuning\\.venv\\Lib\\site-packages\\httpx\\_client.py:1682\u001b[0m, in \u001b[0;36mAsyncClient._send_handling_redirects\u001b[1;34m(self, request, follow_redirects, history)\u001b[0m\n\u001b[0;32m   1680\u001b[0m     \u001b[38;5;28;01mawait\u001b[39;00m hook(request)\n\u001b[1;32m-> 1682\u001b[0m response \u001b[38;5;241m=\u001b[39m \u001b[38;5;28;01mawait\u001b[39;00m \u001b[38;5;28mself\u001b[39m\u001b[38;5;241m.\u001b[39m_send_single_request(request)\n\u001b[0;32m   1683\u001b[0m \u001b[38;5;28;01mtry\u001b[39;00m:\n",
      "File \u001b[1;32mc:\\Users\\Alonso\\Dropbox\\personal\\repos\\mistral-fine-tuning\\.venv\\Lib\\site-packages\\httpx\\_client.py:1719\u001b[0m, in \u001b[0;36mAsyncClient._send_single_request\u001b[1;34m(self, request)\u001b[0m\n\u001b[0;32m   1718\u001b[0m \u001b[38;5;28;01mwith\u001b[39;00m request_context(request\u001b[38;5;241m=\u001b[39mrequest):\n\u001b[1;32m-> 1719\u001b[0m     response \u001b[38;5;241m=\u001b[39m \u001b[38;5;28;01mawait\u001b[39;00m transport\u001b[38;5;241m.\u001b[39mhandle_async_request(request)\n\u001b[0;32m   1721\u001b[0m \u001b[38;5;28;01massert\u001b[39;00m \u001b[38;5;28misinstance\u001b[39m(response\u001b[38;5;241m.\u001b[39mstream, AsyncByteStream)\n",
      "File \u001b[1;32mc:\\Users\\Alonso\\Dropbox\\personal\\repos\\mistral-fine-tuning\\.venv\\Lib\\site-packages\\httpx\\_transports\\default.py:365\u001b[0m, in \u001b[0;36mAsyncHTTPTransport.handle_async_request\u001b[1;34m(self, request)\u001b[0m\n\u001b[0;32m    353\u001b[0m req \u001b[38;5;241m=\u001b[39m httpcore\u001b[38;5;241m.\u001b[39mRequest(\n\u001b[0;32m    354\u001b[0m     method\u001b[38;5;241m=\u001b[39mrequest\u001b[38;5;241m.\u001b[39mmethod,\n\u001b[0;32m    355\u001b[0m     url\u001b[38;5;241m=\u001b[39mhttpcore\u001b[38;5;241m.\u001b[39mURL(\n\u001b[1;32m   (...)\u001b[0m\n\u001b[0;32m    363\u001b[0m     extensions\u001b[38;5;241m=\u001b[39mrequest\u001b[38;5;241m.\u001b[39mextensions,\n\u001b[0;32m    364\u001b[0m )\n\u001b[1;32m--> 365\u001b[0m \u001b[43m\u001b[49m\u001b[38;5;28;43;01mwith\u001b[39;49;00m\u001b[43m \u001b[49m\u001b[43mmap_httpcore_exceptions\u001b[49m\u001b[43m(\u001b[49m\u001b[43m)\u001b[49m\u001b[43m:\u001b[49m\n\u001b[0;32m    366\u001b[0m \u001b[43m    \u001b[49m\u001b[43mresp\u001b[49m\u001b[43m \u001b[49m\u001b[38;5;241;43m=\u001b[39;49m\u001b[43m \u001b[49m\u001b[38;5;28;43;01mawait\u001b[39;49;00m\u001b[43m \u001b[49m\u001b[38;5;28;43mself\u001b[39;49m\u001b[38;5;241;43m.\u001b[39;49m\u001b[43m_pool\u001b[49m\u001b[38;5;241;43m.\u001b[39;49m\u001b[43mhandle_async_request\u001b[49m\u001b[43m(\u001b[49m\u001b[43mreq\u001b[49m\u001b[43m)\u001b[49m\n",
      "File \u001b[1;32m~\\.rye\\py\\cpython@3.12.1\\install\\Lib\\contextlib.py:158\u001b[0m, in \u001b[0;36m_GeneratorContextManager.__exit__\u001b[1;34m(self, typ, value, traceback)\u001b[0m\n\u001b[0;32m    157\u001b[0m \u001b[38;5;28;01mtry\u001b[39;00m:\n\u001b[1;32m--> 158\u001b[0m     \u001b[38;5;28;43mself\u001b[39;49m\u001b[38;5;241;43m.\u001b[39;49m\u001b[43mgen\u001b[49m\u001b[38;5;241;43m.\u001b[39;49m\u001b[43mthrow\u001b[49m\u001b[43m(\u001b[49m\u001b[43mvalue\u001b[49m\u001b[43m)\u001b[49m\n\u001b[0;32m    159\u001b[0m \u001b[38;5;28;01mexcept\u001b[39;00m \u001b[38;5;167;01mStopIteration\u001b[39;00m \u001b[38;5;28;01mas\u001b[39;00m exc:\n\u001b[0;32m    160\u001b[0m     \u001b[38;5;66;03m# Suppress StopIteration *unless* it's the same exception that\u001b[39;00m\n\u001b[0;32m    161\u001b[0m     \u001b[38;5;66;03m# was passed to throw().  This prevents a StopIteration\u001b[39;00m\n\u001b[0;32m    162\u001b[0m     \u001b[38;5;66;03m# raised inside the \"with\" statement from being suppressed.\u001b[39;00m\n",
      "File \u001b[1;32mc:\\Users\\Alonso\\Dropbox\\personal\\repos\\mistral-fine-tuning\\.venv\\Lib\\site-packages\\httpx\\_transports\\default.py:83\u001b[0m, in \u001b[0;36mmap_httpcore_exceptions\u001b[1;34m()\u001b[0m\n\u001b[0;32m     82\u001b[0m message \u001b[38;5;241m=\u001b[39m \u001b[38;5;28mstr\u001b[39m(exc)\n\u001b[1;32m---> 83\u001b[0m \u001b[38;5;28;01mraise\u001b[39;00m mapped_exc(message) \u001b[38;5;28;01mfrom\u001b[39;00m \u001b[38;5;21;01mexc\u001b[39;00m\n",
      "\u001b[1;31mReadError\u001b[0m: ",
      "\nThe above exception was the direct cause of the following exception:\n",
      "\u001b[1;31mMistralException\u001b[0m                          Traceback (most recent call last)",
      "Cell \u001b[1;32mIn[82], line 2\u001b[0m\n\u001b[0;32m      1\u001b[0m mistral_7b_ft \u001b[38;5;241m=\u001b[39m MistralModel(model\u001b[38;5;241m=\u001b[39mretrieved_jobs\u001b[38;5;241m.\u001b[39mfine_tuned_model)\n\u001b[1;32m----> 2\u001b[0m ds_eval_7b_rows \u001b[38;5;241m=\u001b[39m \u001b[38;5;28;01mawait\u001b[39;00m \u001b[38;5;28mmap\u001b[39m(ds_eval_medium, mistral_7b_ft\u001b[38;5;241m.\u001b[39mpredict, col_name\u001b[38;5;241m=\u001b[39m\u001b[38;5;124m\"\u001b[39m\u001b[38;5;124mmistral_7b\u001b[39m\u001b[38;5;124m\"\u001b[39m)\n\u001b[0;32m      3\u001b[0m ds_eval_7b_ft_medium \u001b[38;5;241m=\u001b[39m weave\u001b[38;5;241m.\u001b[39mDataset(name\u001b[38;5;241m=\u001b[39m\u001b[38;5;124m\"\u001b[39m\u001b[38;5;124mds_eval_medium_7b_ft\u001b[39m\u001b[38;5;124m\"\u001b[39m, description\u001b[38;5;241m=\u001b[39m\u001b[38;5;124m\"\u001b[39m\u001b[38;5;124mFinetuned Mistral 7b predictions along with medium\u001b[39m\u001b[38;5;124m\"\u001b[39m, rows\u001b[38;5;241m=\u001b[39mds_eval_7b_rows)\n\u001b[0;32m      4\u001b[0m weave\u001b[38;5;241m.\u001b[39mpublish(ds_eval_7b_ft_medium)\n",
      "Cell \u001b[1;32mIn[39], line 17\u001b[0m, in \u001b[0;36mmap\u001b[1;34m(ds, func, max_concurrent_tasks, col_name)\u001b[0m\n\u001b[0;32m     15\u001b[0m \u001b[38;5;28;01masync\u001b[39;00m \u001b[38;5;28;01mdef\u001b[39;00m \u001b[38;5;21mmap\u001b[39m(ds, func, max_concurrent_tasks \u001b[38;5;241m=\u001b[39m \u001b[38;5;241m7\u001b[39m, col_name\u001b[38;5;241m=\u001b[39m\u001b[38;5;124m\"\u001b[39m\u001b[38;5;124mmodel_preds\u001b[39m\u001b[38;5;124m\"\u001b[39m):\n\u001b[0;32m     16\u001b[0m     new_dataset \u001b[38;5;241m=\u001b[39m []\n\u001b[1;32m---> 17\u001b[0m     \u001b[38;5;28;01masync\u001b[39;00m \u001b[38;5;28;01mfor\u001b[39;00m example, map_results \u001b[38;5;129;01min\u001b[39;00m async_foreach(ds\u001b[38;5;241m.\u001b[39mrows, func, max_concurrent_tasks):\n\u001b[0;32m     18\u001b[0m         example\u001b[38;5;241m.\u001b[39mupdate({col_name: map_results})\n\u001b[0;32m     19\u001b[0m         new_dataset\u001b[38;5;241m.\u001b[39mappend(example)\n",
      "Cell \u001b[1;32mIn[39], line 12\u001b[0m, in \u001b[0;36masync_foreach\u001b[1;34m(sequence, func, max_concurrent_tasks)\u001b[0m\n\u001b[0;32m      9\u001b[0m tasks \u001b[38;5;241m=\u001b[39m [asyncio\u001b[38;5;241m.\u001b[39mcreate_task(process_item(item)) \u001b[38;5;28;01mfor\u001b[39;00m item \u001b[38;5;129;01min\u001b[39;00m sequence]\n\u001b[0;32m     11\u001b[0m \u001b[38;5;28;01mfor\u001b[39;00m task \u001b[38;5;129;01min\u001b[39;00m asyncio\u001b[38;5;241m.\u001b[39mas_completed(tasks):\n\u001b[1;32m---> 12\u001b[0m     item, result \u001b[38;5;241m=\u001b[39m \u001b[38;5;28;01mawait\u001b[39;00m task\n\u001b[0;32m     13\u001b[0m     \u001b[38;5;28;01myield\u001b[39;00m item, result\n",
      "File \u001b[1;32m~\\.rye\\py\\cpython@3.12.1\\install\\Lib\\asyncio\\tasks.py:631\u001b[0m, in \u001b[0;36mas_completed.<locals>._wait_for_one\u001b[1;34m()\u001b[0m\n\u001b[0;32m    628\u001b[0m \u001b[38;5;28;01mif\u001b[39;00m f \u001b[38;5;129;01mis\u001b[39;00m \u001b[38;5;28;01mNone\u001b[39;00m:\n\u001b[0;32m    629\u001b[0m     \u001b[38;5;66;03m# Dummy value from _on_timeout().\u001b[39;00m\n\u001b[0;32m    630\u001b[0m     \u001b[38;5;28;01mraise\u001b[39;00m exceptions\u001b[38;5;241m.\u001b[39mTimeoutError\n\u001b[1;32m--> 631\u001b[0m \u001b[38;5;28;01mreturn\u001b[39;00m \u001b[43mf\u001b[49m\u001b[38;5;241;43m.\u001b[39;49m\u001b[43mresult\u001b[49m\u001b[43m(\u001b[49m\u001b[43m)\u001b[49m\n",
      "Cell \u001b[1;32mIn[39], line 6\u001b[0m, in \u001b[0;36masync_foreach.<locals>.process_item\u001b[1;34m(item)\u001b[0m\n\u001b[0;32m      4\u001b[0m \u001b[38;5;28;01masync\u001b[39;00m \u001b[38;5;28;01mdef\u001b[39;00m \u001b[38;5;21mprocess_item\u001b[39m(item):\n\u001b[0;32m      5\u001b[0m     \u001b[38;5;28;01masync\u001b[39;00m \u001b[38;5;28;01mwith\u001b[39;00m semaphore:\n\u001b[1;32m----> 6\u001b[0m         result \u001b[38;5;241m=\u001b[39m \u001b[38;5;28;01mawait\u001b[39;00m func(item)\n\u001b[0;32m      7\u001b[0m         \u001b[38;5;28;01mreturn\u001b[39;00m item, result\n",
      "File \u001b[1;32mc:\\Users\\Alonso\\Dropbox\\personal\\repos\\mistral-fine-tuning\\.venv\\Lib\\site-packages\\weave\\trace\\op.py:141\u001b[0m, in \u001b[0;36mOp._execute_run.<locals>._run_async\u001b[1;34m()\u001b[0m\n\u001b[0;32m    139\u001b[0m     awaited_res \u001b[38;5;241m=\u001b[39m res\n\u001b[0;32m    140\u001b[0m     call_context\u001b[38;5;241m.\u001b[39mpush_call(run)\n\u001b[1;32m--> 141\u001b[0m     output \u001b[38;5;241m=\u001b[39m \u001b[38;5;28;01mawait\u001b[39;00m awaited_res\n\u001b[0;32m    142\u001b[0m     \u001b[38;5;28;01mreturn\u001b[39;00m on_output(output)\n\u001b[0;32m    143\u001b[0m \u001b[38;5;28;01mexcept\u001b[39;00m \u001b[38;5;167;01mBaseException\u001b[39;00m \u001b[38;5;28;01mas\u001b[39;00m e:\n",
      "Cell \u001b[1;32mIn[43], line 12\u001b[0m, in \u001b[0;36mMistralModel.predict\u001b[1;34m(self, keyword)\u001b[0m\n\u001b[0;32m      9\u001b[0m \u001b[38;5;129m@weave\u001b[39m\u001b[38;5;241m.\u001b[39mop\n\u001b[0;32m     10\u001b[0m \u001b[38;5;28;01masync\u001b[39;00m \u001b[38;5;28;01mdef\u001b[39;00m \u001b[38;5;21mpredict\u001b[39m(\u001b[38;5;28mself\u001b[39m, keyword:\u001b[38;5;28mstr\u001b[39m):\n\u001b[0;32m     11\u001b[0m     messages \u001b[38;5;241m=\u001b[39m \u001b[38;5;28mself\u001b[39m\u001b[38;5;241m.\u001b[39mcreate_messages(keyword)\n\u001b[1;32m---> 12\u001b[0m     \u001b[38;5;28;01mreturn\u001b[39;00m \u001b[38;5;28;01mawait\u001b[39;00m call_mistral(model\u001b[38;5;241m=\u001b[39m\u001b[38;5;28mself\u001b[39m\u001b[38;5;241m.\u001b[39mmodel, messages\u001b[38;5;241m=\u001b[39mmessages)\n",
      "File \u001b[1;32mc:\\Users\\Alonso\\Dropbox\\personal\\repos\\mistral-fine-tuning\\.venv\\Lib\\site-packages\\weave\\trace\\op.py:141\u001b[0m, in \u001b[0;36mOp._execute_run.<locals>._run_async\u001b[1;34m()\u001b[0m\n\u001b[0;32m    139\u001b[0m     awaited_res \u001b[38;5;241m=\u001b[39m res\n\u001b[0;32m    140\u001b[0m     call_context\u001b[38;5;241m.\u001b[39mpush_call(run)\n\u001b[1;32m--> 141\u001b[0m     output \u001b[38;5;241m=\u001b[39m \u001b[38;5;28;01mawait\u001b[39;00m awaited_res\n\u001b[0;32m    142\u001b[0m     \u001b[38;5;28;01mreturn\u001b[39;00m on_output(output)\n\u001b[0;32m    143\u001b[0m \u001b[38;5;28;01mexcept\u001b[39;00m \u001b[38;5;167;01mBaseException\u001b[39;00m \u001b[38;5;28;01mas\u001b[39;00m e:\n",
      "Cell \u001b[1;32mIn[15], line 8\u001b[0m, in \u001b[0;36mcall_mistral\u001b[1;34m(model, messages, **kwargs)\u001b[0m\n\u001b[0;32m      5\u001b[0m \u001b[38;5;129m@weave\u001b[39m\u001b[38;5;241m.\u001b[39mop()\n\u001b[0;32m      6\u001b[0m \u001b[38;5;28;01masync\u001b[39;00m \u001b[38;5;28;01mdef\u001b[39;00m \u001b[38;5;21mcall_mistral\u001b[39m(model:\u001b[38;5;28mstr\u001b[39m, messages:\u001b[38;5;28mlist\u001b[39m, \u001b[38;5;241m*\u001b[39m\u001b[38;5;241m*\u001b[39mkwargs) \u001b[38;5;241m-\u001b[39m\u001b[38;5;241m>\u001b[39m \u001b[38;5;28mstr\u001b[39m:\n\u001b[0;32m      7\u001b[0m     \u001b[38;5;124m\"\u001b[39m\u001b[38;5;124mCall the Mistral API\u001b[39m\u001b[38;5;124m\"\u001b[39m\n\u001b[1;32m----> 8\u001b[0m     chat_response \u001b[38;5;241m=\u001b[39m \u001b[38;5;28;01mawait\u001b[39;00m client\u001b[38;5;241m.\u001b[39mchat(\n\u001b[0;32m      9\u001b[0m         model\u001b[38;5;241m=\u001b[39mmodel,\n\u001b[0;32m     10\u001b[0m         messages\u001b[38;5;241m=\u001b[39mmessages,\n\u001b[0;32m     11\u001b[0m         \u001b[38;5;241m*\u001b[39m\u001b[38;5;241m*\u001b[39mkwargs,\n\u001b[0;32m     12\u001b[0m     )\n\u001b[0;32m     13\u001b[0m     \u001b[38;5;28;01mreturn\u001b[39;00m chat_response\u001b[38;5;241m.\u001b[39mchoices[\u001b[38;5;241m0\u001b[39m]\u001b[38;5;241m.\u001b[39mmessage\u001b[38;5;241m.\u001b[39mcontent\n",
      "File \u001b[1;32mc:\\Users\\Alonso\\Dropbox\\personal\\repos\\mistral-fine-tuning\\.venv\\Lib\\site-packages\\weave\\trace\\op.py:141\u001b[0m, in \u001b[0;36mOp._execute_run.<locals>._run_async\u001b[1;34m()\u001b[0m\n\u001b[0;32m    139\u001b[0m     awaited_res \u001b[38;5;241m=\u001b[39m res\n\u001b[0;32m    140\u001b[0m     call_context\u001b[38;5;241m.\u001b[39mpush_call(run)\n\u001b[1;32m--> 141\u001b[0m     output \u001b[38;5;241m=\u001b[39m \u001b[38;5;28;01mawait\u001b[39;00m awaited_res\n\u001b[0;32m    142\u001b[0m     \u001b[38;5;28;01mreturn\u001b[39;00m on_output(output)\n\u001b[0;32m    143\u001b[0m \u001b[38;5;28;01mexcept\u001b[39;00m \u001b[38;5;167;01mBaseException\u001b[39;00m \u001b[38;5;28;01mas\u001b[39;00m e:\n",
      "File \u001b[1;32mc:\\Users\\Alonso\\Dropbox\\personal\\repos\\mistral-fine-tuning\\.venv\\Lib\\site-packages\\mistralai\\async_client.py:218\u001b[0m, in \u001b[0;36mMistralAsyncClient.chat\u001b[1;34m(self, messages, model, tools, temperature, max_tokens, top_p, random_seed, safe_mode, safe_prompt, tool_choice, response_format)\u001b[0m\n\u001b[0;32m    202\u001b[0m request \u001b[38;5;241m=\u001b[39m \u001b[38;5;28mself\u001b[39m\u001b[38;5;241m.\u001b[39m_make_chat_request(\n\u001b[0;32m    203\u001b[0m     messages,\n\u001b[0;32m    204\u001b[0m     model,\n\u001b[1;32m   (...)\u001b[0m\n\u001b[0;32m    213\u001b[0m     response_format\u001b[38;5;241m=\u001b[39mresponse_format,\n\u001b[0;32m    214\u001b[0m )\n\u001b[0;32m    216\u001b[0m single_response \u001b[38;5;241m=\u001b[39m \u001b[38;5;28mself\u001b[39m\u001b[38;5;241m.\u001b[39m_request(\u001b[38;5;124m\"\u001b[39m\u001b[38;5;124mpost\u001b[39m\u001b[38;5;124m\"\u001b[39m, request, \u001b[38;5;124m\"\u001b[39m\u001b[38;5;124mv1/chat/completions\u001b[39m\u001b[38;5;124m\"\u001b[39m)\n\u001b[1;32m--> 218\u001b[0m \u001b[38;5;28;01masync\u001b[39;00m \u001b[38;5;28;01mfor\u001b[39;00m response \u001b[38;5;129;01min\u001b[39;00m single_response:\n\u001b[0;32m    219\u001b[0m     \u001b[38;5;28;01mreturn\u001b[39;00m ChatCompletionResponse(\u001b[38;5;241m*\u001b[39m\u001b[38;5;241m*\u001b[39mresponse)\n\u001b[0;32m    221\u001b[0m \u001b[38;5;28;01mraise\u001b[39;00m MistralException(\u001b[38;5;124m\"\u001b[39m\u001b[38;5;124mNo response received\u001b[39m\u001b[38;5;124m\"\u001b[39m)\n",
      "File \u001b[1;32mc:\\Users\\Alonso\\Dropbox\\personal\\repos\\mistral-fine-tuning\\.venv\\Lib\\site-packages\\mistralai\\async_client.py:154\u001b[0m, in \u001b[0;36mMistralAsyncClient._request\u001b[1;34m(self, method, json, path, stream, attempt, data, **kwargs)\u001b[0m\n\u001b[0;32m    152\u001b[0m     \u001b[38;5;28;01mraise\u001b[39;00m MistralConnectionException(\u001b[38;5;28mstr\u001b[39m(e)) \u001b[38;5;28;01mfrom\u001b[39;00m \u001b[38;5;21;01me\u001b[39;00m\n\u001b[0;32m    153\u001b[0m \u001b[38;5;28;01mexcept\u001b[39;00m RequestError \u001b[38;5;28;01mas\u001b[39;00m e:\n\u001b[1;32m--> 154\u001b[0m     \u001b[38;5;28;01mraise\u001b[39;00m MistralException(\u001b[38;5;124mf\u001b[39m\u001b[38;5;124m\"\u001b[39m\u001b[38;5;124mUnexpected exception (\u001b[39m\u001b[38;5;132;01m{\u001b[39;00me\u001b[38;5;241m.\u001b[39m\u001b[38;5;18m__class__\u001b[39m\u001b[38;5;241m.\u001b[39m\u001b[38;5;18m__name__\u001b[39m\u001b[38;5;132;01m}\u001b[39;00m\u001b[38;5;124m): \u001b[39m\u001b[38;5;132;01m{\u001b[39;00me\u001b[38;5;132;01m}\u001b[39;00m\u001b[38;5;124m\"\u001b[39m) \u001b[38;5;28;01mfrom\u001b[39;00m \u001b[38;5;21;01me\u001b[39;00m\n\u001b[0;32m    155\u001b[0m \u001b[38;5;28;01mexcept\u001b[39;00m JSONDecodeError \u001b[38;5;28;01mas\u001b[39;00m e:\n\u001b[0;32m    156\u001b[0m     \u001b[38;5;28;01mraise\u001b[39;00m MistralAPIException\u001b[38;5;241m.\u001b[39mfrom_response(\n\u001b[0;32m    157\u001b[0m         response,\n\u001b[0;32m    158\u001b[0m         message\u001b[38;5;241m=\u001b[39m\u001b[38;5;124mf\u001b[39m\u001b[38;5;124m\"\u001b[39m\u001b[38;5;124mFailed to decode json body: \u001b[39m\u001b[38;5;132;01m{\u001b[39;00mresponse\u001b[38;5;241m.\u001b[39mtext\u001b[38;5;132;01m}\u001b[39;00m\u001b[38;5;124m\"\u001b[39m,\n\u001b[0;32m    159\u001b[0m     ) \u001b[38;5;28;01mfrom\u001b[39;00m \u001b[38;5;21;01me\u001b[39;00m\n",
      "\u001b[1;31mMistralException\u001b[0m: Unexpected exception (ReadError): "
     ]
    },
    {
     "name": "stdout",
     "output_type": "stream",
     "text": [
      "🍩 https://wandb.ai/aastroza/mistral_hackathon/r/call/8b5bcd48-e9b8-439b-9c2a-0173ebcf4e38\n"
     ]
    },
    {
     "name": "stdout",
     "output_type": "stream",
     "text": [
      "🍩 https://wandb.ai/aastroza/mistral_hackathon/r/call/dcb3a803-b510-4ed1-80f7-b64b076de4bc\n",
      "🍩 https://wandb.ai/aastroza/mistral_hackathon/r/call/a4d664c1-f59c-49a0-837f-b66de3d5c9ec\n",
      "🍩 https://wandb.ai/aastroza/mistral_hackathon/r/call/2888f849-4bb2-4e93-9544-b83d7b73153a\n",
      "🍩 https://wandb.ai/aastroza/mistral_hackathon/r/call/51ab5766-f7c2-4de4-9a7f-501fa8a487a4\n",
      "🍩 https://wandb.ai/aastroza/mistral_hackathon/r/call/e6310cd9-bb66-4173-9c54-7925a90256eb\n",
      "🍩 https://wandb.ai/aastroza/mistral_hackathon/r/call/7504b70a-9f3c-4e82-a24f-d33d394c0774\n",
      "🍩 https://wandb.ai/aastroza/mistral_hackathon/r/call/84cda7e9-a200-4677-821b-5fefd07bd2ef\n",
      "🍩 https://wandb.ai/aastroza/mistral_hackathon/r/call/bbbb6bc8-26db-4beb-95eb-939d08452fd7\n",
      "🍩 https://wandb.ai/aastroza/mistral_hackathon/r/call/46b457dd-d73f-43e7-9a9f-4775a91f8e9e\n",
      "🍩 https://wandb.ai/aastroza/mistral_hackathon/r/call/de86a67c-a702-4cdf-bc94-73dffe54f07c\n",
      "🍩 https://wandb.ai/aastroza/mistral_hackathon/r/call/fae49a4e-fca6-4127-b6cf-f459a1811ce3\n",
      "🍩 https://wandb.ai/aastroza/mistral_hackathon/r/call/865204de-407a-41fc-91d0-2c19aacff49b\n",
      "🍩 https://wandb.ai/aastroza/mistral_hackathon/r/call/ac1b2ea8-d40f-4233-add6-7730b62d9b25\n",
      "🍩 https://wandb.ai/aastroza/mistral_hackathon/r/call/f5332303-e04c-4fac-9d0a-5b49838e0cda\n",
      "🍩 https://wandb.ai/aastroza/mistral_hackathon/r/call/0fa883fd-8906-4bab-8dd6-f7f3eff0c7f2\n",
      "🍩 https://wandb.ai/aastroza/mistral_hackathon/r/call/ab6a1383-b320-4525-a7b3-ff5e8ce71fb3\n",
      "🍩 https://wandb.ai/aastroza/mistral_hackathon/r/call/552552b5-8a04-4b12-a74d-13a14024015f\n",
      "🍩 https://wandb.ai/aastroza/mistral_hackathon/r/call/3f711a21-faba-40e8-870a-ef245927fc6a\n",
      "🍩 https://wandb.ai/aastroza/mistral_hackathon/r/call/ea3e65b1-a694-4764-8a10-94d044d44193\n",
      "🍩 https://wandb.ai/aastroza/mistral_hackathon/r/call/1f2498a5-a72e-4ea3-a5fe-e8e0dda4010d\n",
      "🍩 https://wandb.ai/aastroza/mistral_hackathon/r/call/20e476d8-2099-4c02-b9f0-fb901c928d8c\n",
      "🍩 https://wandb.ai/aastroza/mistral_hackathon/r/call/e1ea9912-d7c1-4d02-a1d5-56cebe51683a\n",
      "🍩 https://wandb.ai/aastroza/mistral_hackathon/r/call/5e4fc2a1-f271-4553-a868-c0863f046c50\n",
      "🍩 https://wandb.ai/aastroza/mistral_hackathon/r/call/6382f6ff-efca-4053-917b-4bcee4dd8358\n",
      "🍩 https://wandb.ai/aastroza/mistral_hackathon/r/call/33424fb0-e614-4295-9b45-6fa70f31c96d\n",
      "🍩 https://wandb.ai/aastroza/mistral_hackathon/r/call/a1bfc308-fd4a-4a30-a176-27f5b8173ea4\n"
     ]
    }
   ],
   "source": [
    "mistral_7b_ft = MistralModel(model=retrieved_jobs.fine_tuned_model)\n",
    "ds_eval_7b_rows = await map(ds_eval_medium, mistral_7b_ft.predict, col_name=\"mistral_7b\")\n",
    "ds_eval_7b_ft_medium = weave.Dataset(name=\"ds_eval_medium_7b_ft\", description=\"Finetuned Mistral 7b predictions along with medium\", rows=ds_eval_7b_rows)\n",
    "weave.publish(ds_eval_7b_ft_medium)"
   ]
  },
  {
   "cell_type": "code",
   "execution_count": null,
   "metadata": {},
   "outputs": [],
   "source": [
    "evaluation = weave.Evaluation(dataset=ds_eval_7b_ft_medium, scorers=[evaluate_joke])"
   ]
  },
  {
   "cell_type": "code",
   "execution_count": null,
   "metadata": {},
   "outputs": [],
   "source": [
    "await evaluation.evaluate(llm_judge)"
   ]
  }
 ],
 "metadata": {
  "kernelspec": {
   "display_name": ".venv",
   "language": "python",
   "name": "python3"
  },
  "language_info": {
   "codemirror_mode": {
    "name": "ipython",
    "version": 3
   },
   "file_extension": ".py",
   "mimetype": "text/x-python",
   "name": "python",
   "nbconvert_exporter": "python",
   "pygments_lexer": "ipython3",
   "version": "3.12.1"
  }
 },
 "nbformat": 4,
 "nbformat_minor": 2
}
