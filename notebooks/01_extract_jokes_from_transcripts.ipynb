{
 "cells": [
  {
   "cell_type": "code",
   "execution_count": null,
   "metadata": {},
   "outputs": [],
   "source": [
    "%load_ext autoreload\n",
    "%autoreload 2\n",
    "\n",
    "from loguru import logger\n",
    "from typing import List\n",
    "\n",
    "from mistral_fine_tuning.segment import extract_jokes_from_segments, Segment\n",
    "from mistral_fine_tuning.utils import extract_routines_ids"
   ]
  },
  {
   "cell_type": "code",
   "execution_count": null,
   "metadata": {},
   "outputs": [],
   "source": [
    "def extract_repertories(\n",
    "        segments: List[Segment],\n",
    "    ):\n",
    "    repertoires = extract_jokes_from_segments(segments = segments)\n",
    "    return repertoires"
   ]
  },
  {
   "cell_type": "code",
   "execution_count": null,
   "metadata": {},
   "outputs": [],
   "source": [
    "routine_ids = extract_routines_ids(folder='../data/raw/transcripts')\n",
    "\n",
    "for routine_id in routine_ids:\n",
    "    logger.info(f\"Processing routine {routine_id}\")\n",
    "\n",
    "    filename = f\"../data/raw/transcripts/routine_{routine_id}_transcript.jsonl\"\n",
    "    segments = []\n",
    "\n",
    "    with open(filename, \"r\", encoding=\"utf-8\") as file:\n",
    "        for line in file:\n",
    "            segment = Segment.from_json(line)\n",
    "            segments.append(segment)\n",
    "    repertoires = extract_repertories(segments = segments)\n",
    "\n",
    "    for r in repertoires:\n",
    "        for joke in r.jokes:\n",
    "            try:\n",
    "                if len(joke.corrected_transcript) > 0:\n",
    "                    with open(f\"../data/interim/jokes/routine_{routine_id}_repertoire.jsonl\", \"a\", encoding=\"utf-8\") as file:\n",
    "                        json_line = joke.json()\n",
    "                        file.write(json_line + \"\\n\")\n",
    "            except Exception as e:\n",
    "                logger.info(f\"Error writing joke for {routine_id} {e}\")\n",
    "                continue"
   ]
  }
 ],
 "metadata": {
  "kernelspec": {
   "display_name": ".venv",
   "language": "python",
   "name": "python3"
  },
  "language_info": {
   "codemirror_mode": {
    "name": "ipython",
    "version": 3
   },
   "file_extension": ".py",
   "mimetype": "text/x-python",
   "name": "python",
   "nbconvert_exporter": "python",
   "pygments_lexer": "ipython3",
   "version": "3.12.1"
  }
 },
 "nbformat": 4,
 "nbformat_minor": 2
}
