{
 "cells": [
  {
   "cell_type": "code",
   "execution_count": 2,
   "metadata": {},
   "outputs": [
    {
     "data": {
      "text/plain": [
       "True"
      ]
     },
     "execution_count": 2,
     "metadata": {},
     "output_type": "execute_result"
    }
   ],
   "source": [
    "import instructor\n",
    "from pydantic import BaseModel, Field\n",
    "from typing import List\n",
    "from loguru import logger\n",
    "from mistralai.client import MistralClient\n",
    "\n",
    "from dotenv import load_dotenv\n",
    "load_dotenv()"
   ]
  },
  {
   "cell_type": "code",
   "execution_count": 16,
   "metadata": {},
   "outputs": [],
   "source": [
    "PROMPT = \"\"\"\n",
    "Extract a list of jokes from the transcript in a clear and concise manner to help others study the jokes from the comedy routine. Respond in the same language as the transcript if it is not english.\n",
    "\n",
    "Extraction Tips:\n",
    "* Do not extract content if it only involves music or if nothing happens; do not include these in the jokes.\n",
    "* Use only content from the transcript. Do not add any additional information.\n",
    "* The original comedy routine transcript was automatically generated and may be messy. Clean the jokes in the transcript.\n",
    "* Only include completed jokes.\n",
    "\"\"\"\n",
    "\n",
    "\n",
    "class Joke(BaseModel):\n",
    "    transcript: str = Field(\n",
    "        description=\"The joke transcript. Do not include comments, greetings, or any other non-joke content.\"\n",
    "    )\n",
    "    corrected_transcript: str = Field(\n",
    "        description=\"The corrected joke transcript. Clean the transcript from any unnecessary content. Fix typos. Ensure correct use of punctuation. Make sure the joke is clean like a historical quote.\"\n",
    "    )\n",
    "\n",
    "class Repertoire(BaseModel):\n",
    "    jokes: List[Joke]\n",
    "\n",
    "\n",
    "def create_jokes_from_transcript(txt: str, language: str = \"es\") -> Repertoire:\n",
    "    \n",
    "    client = MistralClient()\n",
    "\n",
    "    patched_client = instructor.from_mistral(client=client, mode=instructor.Mode.MISTRAL_TOOLS)\n",
    "\n",
    "    try:\n",
    "        repertoire = patched_client.chat.completions.create(\n",
    "            model=\"mistral-large-latest\",\n",
    "            response_model = Repertoire,\n",
    "            messages=[\n",
    "                {\n",
    "                    \"role\": \"system\",\n",
    "                    \"content\": f\"You are professional comedian writer tasked with extracting a clean list of jokes from a given comedy routine transcript. The jokes must be structured in a clear and precise manner that makes use of timestamps, when available, to help others study the routine. Jokes should be in language code is `{language}`.\",\n",
    "                },\n",
    "                {\n",
    "                    \"role\": \"user\",\n",
    "                    \"content\": f\"I have added a feature that forces you to response only in `locale={language}` and consider only chilean spanish.\",\n",
    "                },\n",
    "                {\n",
    "                    \"role\": \"assistant\",\n",
    "                    \"content\": f\"Understood thank you. From now I will only response with `locale={language}`\",\n",
    "                },\n",
    "                {\n",
    "                    \"role\": \"user\",\n",
    "                    \"content\": txt,\n",
    "                },\n",
    "                {\"role\": \"user\", \"content\": PROMPT},\n",
    "            ],\n",
    "            temperature=0.7,\n",
    "            top_p=1,\n",
    "        )\n",
    "    except Exception as e:\n",
    "        logger.info(f\"Error creating jokes from transcript. {e}\")\n",
    "        repertoire = Repertoire(jokes=[])\n",
    "\n",
    "    return repertoire"
   ]
  },
  {
   "cell_type": "code",
   "execution_count": 18,
   "metadata": {},
   "outputs": [],
   "source": [
    "repertoire = create_jokes_from_transcript(txt = 'volver a estar en mi patria y tratar de divertir les por intermedio de mis personajes y de algunas cositas que deseo que sean de vuestro agrado en primer lugar voy a hacer una imitación de un personaje o de algo que tenemos todos los seres humanos Porque mientras más años uno vive más se da cuenta que todos', language = \"es\")"
   ]
  },
  {
   "cell_type": "code",
   "execution_count": 20,
   "metadata": {},
   "outputs": [
    {
     "data": {
      "text/plain": [
       "'Volver a estar en mi patria y tratar de divertirlos por medio de mis personajes y de algunas cositas que deseo que sean de su agrado. En primer lugar, voy a hacer una imitación de un personaje o de algo que tenemos todos los seres humanos. Porque mientras más años uno vive, más se da cuenta que todos...'"
      ]
     },
     "execution_count": 20,
     "metadata": {},
     "output_type": "execute_result"
    }
   ],
   "source": [
    "repertoire.jokes[0].corrected_transcript"
   ]
  }
 ],
 "metadata": {
  "kernelspec": {
   "display_name": ".venv",
   "language": "python",
   "name": "python3"
  },
  "language_info": {
   "codemirror_mode": {
    "name": "ipython",
    "version": 3
   },
   "file_extension": ".py",
   "mimetype": "text/x-python",
   "name": "python",
   "nbconvert_exporter": "python",
   "pygments_lexer": "ipython3",
   "version": "3.12.1"
  }
 },
 "nbformat": 4,
 "nbformat_minor": 2
}
